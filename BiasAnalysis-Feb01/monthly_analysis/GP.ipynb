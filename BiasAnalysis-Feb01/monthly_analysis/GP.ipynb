{
 "cells": [
  {
   "cell_type": "code",
   "execution_count": 1,
   "metadata": {},
   "outputs": [],
   "source": [
    "import torch\n",
    "import gpytorch\n",
    "import numpy as np\n",
    "import pandas as pd\n",
    "import os\n",
    "from tqdm import tqdm"
   ]
  },
  {
   "cell_type": "markdown",
   "metadata": {},
   "source": [
    "# Prepare Data"
   ]
  },
  {
   "cell_type": "code",
   "execution_count": 28,
   "metadata": {},
   "outputs": [
    {
     "name": "stdout",
     "output_type": "stream",
     "text": [
      "One outlier dropped\n",
      "One outlier dropped\n",
      "Missing data\n",
      "One outlier dropped\n",
      "One outlier dropped\n",
      "One outlier dropped\n",
      "One outlier dropped\n",
      "Missing data\n",
      "One outlier dropped\n",
      "Missing data\n",
      "One outlier dropped\n",
      "One outlier dropped\n",
      "Missing data\n",
      "One nan dropped\n",
      "One nan dropped\n",
      "One outlier dropped\n",
      "(744, 35, 10) (720, 35, 10) (744, 35, 10)\n"
     ]
    }
   ],
   "source": [
    "data_dir = \"../../InterpolationBaseline/data/Oct0123_Dec3123/\"\n",
    "data_files = [file for file in os.listdir(data_dir) if file.endswith(\".csv\")]\n",
    "data_oct = []\n",
    "data_nov = []\n",
    "data_dec = []\n",
    "\n",
    "for file in data_files:\n",
    "    df = pd.read_csv(data_dir + file)\n",
    "    df.loc[df[\"pm25\"] < 0, \"pm25\"] = 0\n",
    "\n",
    "    # remove outliers\n",
    "    if df[\"pm25\"].max() > 500:\n",
    "        print(\"One outlier dropped\")\n",
    "        continue\n",
    "    \n",
    "    # decompose timestamp\n",
    "    df[\"timestamp\"] = pd.to_datetime(df[\"timestamp\"], format=\"mixed\")\n",
    "    df[\"hour\"] = df[\"timestamp\"].dt.hour\n",
    "    df[\"day\"] = df[\"timestamp\"].dt.day\n",
    "    df[\"month\"] = df[\"timestamp\"].dt.month\n",
    "    df[\"weekday\"] = df[\"timestamp\"].dt.weekday\n",
    "    \n",
    "    df = df.loc[:, [\"longitude\", \"latitude\", \"celsius\", \"humidity\", \"pressure\",\n",
    "                    \"month\", \"day\", \"weekday\", \"hour\", \"pm25\"]]\n",
    "    df = df.groupby([\"month\", \"day\", \"weekday\", \"hour\"]).mean().reset_index(drop=False)\n",
    "\n",
    "    if df.isnull().values.any():\n",
    "        print(\"One nan dropped\")\n",
    "        continue\n",
    "\n",
    "    if len(df) < 24 * (31 + 30 + 31):\n",
    "        print(\"Missing data\")\n",
    "        continue\n",
    "    else:\n",
    "        df_oct = df.loc[df[\"month\"] == 10]\n",
    "        df_nov = df.loc[df[\"month\"] == 11]\n",
    "        df_dec = df.loc[df[\"month\"] == 12]\n",
    "        data_oct.append(df_oct.to_numpy())\n",
    "        data_nov.append(df_nov.to_numpy())\n",
    "        data_dec.append(df_dec.to_numpy())\n",
    "\n",
    "data_oct = np.array(data_oct).transpose(1, 0, 2)\n",
    "data_nov = np.array(data_nov).transpose(1, 0, 2)\n",
    "data_dec = np.array(data_dec).transpose(1, 0, 2)\n",
    "print(data_oct.shape, data_nov.shape, data_dec.shape)"
   ]
  },
  {
   "cell_type": "code",
   "execution_count": 40,
   "metadata": {},
   "outputs": [
    {
     "name": "stdout",
     "output_type": "stream",
     "text": [
      "One outlier dropped\n",
      "One outlier dropped\n",
      "One outlier dropped\n",
      "Missing data\n",
      "One outlier dropped\n",
      "One outlier dropped\n",
      "One outlier dropped\n",
      "One nan dropped\n",
      "(722, 44, 10)\n"
     ]
    }
   ],
   "source": [
    "data_dir = \"../../InterpolationBaseline/data/Jan0124_Jan2924/\"\n",
    "data_files = [file for file in os.listdir(data_dir) if file.endswith(\".csv\")]\n",
    "data_jan = []\n",
    "for file in data_files:\n",
    "    df = pd.read_csv(data_dir + file)\n",
    "    df.loc[df[\"pm25\"] < 0, \"pm25\"] = 0\n",
    "\n",
    "    # remove outliers\n",
    "    if df[\"pm25\"].max() > 500:\n",
    "        print(\"One outlier dropped\")\n",
    "        continue\n",
    "    \n",
    "    # decompose timestamp\n",
    "    df[\"timestamp\"] = pd.to_datetime(df[\"timestamp\"], format=\"mixed\")\n",
    "    df[\"hour\"] = df[\"timestamp\"].dt.hour\n",
    "    df[\"day\"] = df[\"timestamp\"].dt.day\n",
    "    df[\"month\"] = df[\"timestamp\"].dt.month\n",
    "    df[\"weekday\"] = df[\"timestamp\"].dt.weekday\n",
    "    \n",
    "    df = df.loc[:, [\"longitude\", \"latitude\", \"celsius\", \"humidity\", \"pressure\",\n",
    "                    \"month\", \"day\", \"weekday\", \"hour\", \"pm25\"]]\n",
    "    df = df.groupby([\"month\", \"day\", \"weekday\", \"hour\"]).mean().reset_index(drop=False)\n",
    "\n",
    "    if df.isnull().values.any():\n",
    "        print(\"One nan dropped\")\n",
    "        continue\n",
    "\n",
    "    if len(df) < 24 * 30:\n",
    "        print(\"Missing data\")\n",
    "        continue\n",
    "    else:\n",
    "        df_jan = df.loc[df[\"month\"] == 1]\n",
    "        data_jan.append(df_jan.to_numpy())\n",
    "data_jan = np.array(data_jan).transpose(1, 0, 2)\n",
    "print(data_jan.shape)"
   ]
  },
  {
   "cell_type": "markdown",
   "metadata": {},
   "source": [
    "# Construct GP Model"
   ]
  },
  {
   "cell_type": "code",
   "execution_count": 29,
   "metadata": {},
   "outputs": [],
   "source": [
    "class LocalPeriodicKernel(gpytorch.kernels.Kernel):\n",
    "    is_stationary = True\n",
    "\n",
    "    def __init__(self, lp_ard=None, **kwargs):\n",
    "        super().__init__(**kwargs)\n",
    "        if lp_ard is not None:\n",
    "            self.periodickernel = gpytorch.kernels.PeriodicKernel(arg_num_dims=lp_ard)\n",
    "            self.rbfkernel = gpytorch.kernels.RBFKernel(arg_num_dims=lp_ard)\n",
    "        else:\n",
    "            self.periodickernel = gpytorch.kernels.PeriodicKernel()\n",
    "            self.rbfkernel = gpytorch.kernels.RBFKernel()\n",
    "        self.localperiodickernel = self.periodickernel * self.rbfkernel\n",
    "\n",
    "    #kernel function\n",
    "    def forward(self, x1, x2, **params):\n",
    "        return self.localperiodickernel(x1, x2, **params)\n",
    "    \n",
    "class BaseKernel(gpytorch.kernels.Kernel):\n",
    "    def __init__(self, matern_ard=None, lp_ard=None, **kwargs):\n",
    "        super().__init__(**kwargs)\n",
    "        if matern_ard is not None:\n",
    "            self.maternkernel = gpytorch.kernels.MaternKernel(nu=0.5,ard_num_dims=matern_ard)\n",
    "        else:\n",
    "            self.maternkernel = gpytorch.kernels.MaternKernel(nu=0.5)\n",
    "        if lp_ard is not None:\n",
    "            self.localperiodickernel = LocalPeriodicKernel(lp_ard=lp_ard)\n",
    "        else:\n",
    "            self.localperiodickernel = LocalPeriodicKernel()\n",
    "\n",
    "    def forward(self, x1, x2, **params):\n",
    "        # separate the input into continuous and periodic components\n",
    "        x1_per = x1[:, :4]\n",
    "        x1_cont = x1[:, 4:]\n",
    "        x2_per = x2[:, :4]\n",
    "        x2_cont = x2[:, 4:]\n",
    "        return self.maternkernel(x1_cont, x2_cont, **params) * self.localperiodickernel(x1_per, x2_per, **params)\n",
    "\n",
    "class GlobalKernel(gpytorch.kernels.Kernel):\n",
    "    is_stationary = True\n",
    "\n",
    "    def __init__(self, matern_ard=None, lp_ard=None, **kwargs):\n",
    "        super().__init__(**kwargs)\n",
    "\n",
    "        # base kernel\n",
    "        self.basekernel = BaseKernel(matern_ard=matern_ard, lp_ard=lp_ard)\n",
    "\n",
    "        # scale kernel\n",
    "        self.scalekernel = gpytorch.kernels.ScaleKernel(self.basekernel)\n",
    "\n",
    "    \n",
    "    def forward(self, x1, x2, **params):\n",
    "        return self.scalekernel(x1, x2, **params)\n",
    "    \n",
    "class AirGP(gpytorch.models.ExactGP):\n",
    "    def __init__(self, train_x, train_y, likelihood, matern_ard=None, lp_ard=None):\n",
    "        super(AirGP, self).__init__(train_x, train_y, likelihood)\n",
    "        self.mean_module = gpytorch.means.ConstantMean()\n",
    "        self.covar_module = GlobalKernel(matern_ard=matern_ard, lp_ard=lp_ard)\n",
    "\n",
    "    def forward(self, x):\n",
    "        mean_x = self.mean_module(x)\n",
    "        covar_x = self.covar_module(x)\n",
    "        return gpytorch.distributions.MultivariateNormal(mean_x, covar_x)"
   ]
  },
  {
   "cell_type": "markdown",
   "metadata": {},
   "source": [
    "# Training"
   ]
  },
  {
   "cell_type": "code",
   "execution_count": 31,
   "metadata": {},
   "outputs": [
    {
     "data": {
      "text/html": [
       "<div>\n",
       "<style scoped>\n",
       "    .dataframe tbody tr th:only-of-type {\n",
       "        vertical-align: middle;\n",
       "    }\n",
       "\n",
       "    .dataframe tbody tr th {\n",
       "        vertical-align: top;\n",
       "    }\n",
       "\n",
       "    .dataframe thead th {\n",
       "        text-align: right;\n",
       "    }\n",
       "</style>\n",
       "<table border=\"1\" class=\"dataframe\">\n",
       "  <thead>\n",
       "    <tr style=\"text-align: right;\">\n",
       "      <th></th>\n",
       "      <th>month</th>\n",
       "      <th>day</th>\n",
       "      <th>weekday</th>\n",
       "      <th>hour</th>\n",
       "      <th>longitude</th>\n",
       "      <th>latitude</th>\n",
       "      <th>celsius</th>\n",
       "      <th>humidity</th>\n",
       "      <th>pressure</th>\n",
       "      <th>pm25</th>\n",
       "    </tr>\n",
       "  </thead>\n",
       "  <tbody>\n",
       "    <tr>\n",
       "      <th>0</th>\n",
       "      <td>10</td>\n",
       "      <td>1</td>\n",
       "      <td>6</td>\n",
       "      <td>0</td>\n",
       "      <td>-119.77299</td>\n",
       "      <td>36.785336</td>\n",
       "      <td>25.383333</td>\n",
       "      <td>32.533333</td>\n",
       "      <td>996.053000</td>\n",
       "      <td>4.099000</td>\n",
       "    </tr>\n",
       "    <tr>\n",
       "      <th>1</th>\n",
       "      <td>10</td>\n",
       "      <td>1</td>\n",
       "      <td>6</td>\n",
       "      <td>1</td>\n",
       "      <td>-119.77299</td>\n",
       "      <td>36.785336</td>\n",
       "      <td>24.180000</td>\n",
       "      <td>35.700000</td>\n",
       "      <td>996.045667</td>\n",
       "      <td>4.245667</td>\n",
       "    </tr>\n",
       "    <tr>\n",
       "      <th>2</th>\n",
       "      <td>10</td>\n",
       "      <td>1</td>\n",
       "      <td>6</td>\n",
       "      <td>2</td>\n",
       "      <td>-119.77299</td>\n",
       "      <td>36.785336</td>\n",
       "      <td>22.350000</td>\n",
       "      <td>40.200000</td>\n",
       "      <td>996.142000</td>\n",
       "      <td>4.696667</td>\n",
       "    </tr>\n",
       "    <tr>\n",
       "      <th>3</th>\n",
       "      <td>10</td>\n",
       "      <td>1</td>\n",
       "      <td>6</td>\n",
       "      <td>3</td>\n",
       "      <td>-119.77299</td>\n",
       "      <td>36.785336</td>\n",
       "      <td>20.760000</td>\n",
       "      <td>43.200000</td>\n",
       "      <td>996.502667</td>\n",
       "      <td>5.107667</td>\n",
       "    </tr>\n",
       "    <tr>\n",
       "      <th>4</th>\n",
       "      <td>10</td>\n",
       "      <td>1</td>\n",
       "      <td>6</td>\n",
       "      <td>4</td>\n",
       "      <td>-119.77299</td>\n",
       "      <td>36.785336</td>\n",
       "      <td>19.340000</td>\n",
       "      <td>47.533333</td>\n",
       "      <td>996.841333</td>\n",
       "      <td>6.037500</td>\n",
       "    </tr>\n",
       "  </tbody>\n",
       "</table>\n",
       "</div>"
      ],
      "text/plain": [
       "   month  day  weekday  hour  longitude   latitude    celsius   humidity  \\\n",
       "0     10    1        6     0 -119.77299  36.785336  25.383333  32.533333   \n",
       "1     10    1        6     1 -119.77299  36.785336  24.180000  35.700000   \n",
       "2     10    1        6     2 -119.77299  36.785336  22.350000  40.200000   \n",
       "3     10    1        6     3 -119.77299  36.785336  20.760000  43.200000   \n",
       "4     10    1        6     4 -119.77299  36.785336  19.340000  47.533333   \n",
       "\n",
       "     pressure      pm25  \n",
       "0  996.053000  4.099000  \n",
       "1  996.045667  4.245667  \n",
       "2  996.142000  4.696667  \n",
       "3  996.502667  5.107667  \n",
       "4  996.841333  6.037500  "
      ]
     },
     "execution_count": 31,
     "metadata": {},
     "output_type": "execute_result"
    }
   ],
   "source": [
    "df_oct.head()"
   ]
  },
  {
   "cell_type": "markdown",
   "metadata": {},
   "source": [
    "## October"
   ]
  },
  {
   "cell_type": "code",
   "execution_count": 32,
   "metadata": {},
   "outputs": [
    {
     "name": "stdout",
     "output_type": "stream",
     "text": [
      "(744, 35, 9) (744, 35)\n"
     ]
    }
   ],
   "source": [
    "X_oct = data_oct[:, :, :-1]\n",
    "Y_oct = data_oct[:, :, -1]\n",
    "n_steps, n_stations = X_oct.shape[:2]\n",
    "print(X_oct.shape, Y_oct.shape)"
   ]
  },
  {
   "cell_type": "code",
   "execution_count": 34,
   "metadata": {},
   "outputs": [
    {
     "name": "stderr",
     "output_type": "stream",
     "text": [
      "  0%|          | 0/744 [00:00<?, ?it/s]"
     ]
    },
    {
     "name": "stderr",
     "output_type": "stream",
     "text": [
      "100%|██████████| 744/744 [24:31<00:00,  1.98s/it]\n"
     ]
    }
   ],
   "source": [
    "Y_pred_all = []\n",
    "Y_true_all = []\n",
    "for t in tqdm(range(n_steps)):\n",
    "    # leave one out split\n",
    "    i = np.random.randint(n_stations)\n",
    "    X_train = torch.from_numpy(np.concatenate((X_oct[t, :i], X_oct[t, i+1:]), axis=0)).float()\n",
    "    X_test = torch.from_numpy(X_oct[t, i:i+1]).float()\n",
    "    Y_train = torch.from_numpy(np.concatenate((Y_oct[t, :i], Y_oct[t, i+1:]), axis=0)).float()\n",
    "    Y_test = torch.from_numpy(Y_oct[t, i:i+1]).float()\n",
    "\n",
    "    # prepare training\n",
    "    likelihood = gpytorch.likelihoods.GaussianLikelihood()\n",
    "    model = AirGP(X_train, Y_train, likelihood, matern_ard=5, lp_ard=4)\n",
    "    training_iter = 1000\n",
    "    model.train()\n",
    "    likelihood.train()\n",
    "    optimizer = torch.optim.Adam(model.parameters(), lr=0.1)\n",
    "    mll = gpytorch.mlls.ExactMarginalLogLikelihood(likelihood, model)\n",
    "\n",
    "    # training\n",
    "    for iter in range(training_iter):\n",
    "        model.train()\n",
    "        likelihood.train()\n",
    "        optimizer.zero_grad()\n",
    "        output = model(X_train)\n",
    "        loss = -mll(output, Y_train)\n",
    "        loss.backward()\n",
    "        optimizer.step()\n",
    "\n",
    "    # evaluation\n",
    "    model.eval()\n",
    "    likelihood.eval()\n",
    "    Y_pred = model(X_test)\n",
    "    Y_pred_mean = Y_pred.mean.detach()\n",
    "    Y_pred_all.append(Y_pred_mean.cpu().numpy())\n",
    "    Y_true_all.append(Y_test.cpu().numpy())"
   ]
  },
  {
   "cell_type": "code",
   "execution_count": 35,
   "metadata": {},
   "outputs": [
    {
     "name": "stdout",
     "output_type": "stream",
     "text": [
      "RMSE:  3.2496684\n",
      "CVRMSE:  0.29804638\n",
      "MAE:  2.3173354\n",
      "R2:  0.7274735271930695\n"
     ]
    }
   ],
   "source": [
    "Y_true_all = np.array(Y_true_all).flatten()\n",
    "Y_pred_all = np.array(Y_pred_all).flatten()\n",
    "RMSE = np.sqrt(np.mean((Y_true_all - Y_pred_all) ** 2))\n",
    "CVRMSE = RMSE / np.mean(Y_true_all)\n",
    "MAE = np.mean(np.abs(Y_true_all - Y_pred_all))\n",
    "R2 = 1 - np.sum((Y_true_all - Y_pred_all) ** 2) / np.sum((Y_true_all - np.mean(Y_true_all)) ** 2)\n",
    "print(\"RMSE: \", RMSE)\n",
    "print(\"CVRMSE: \", CVRMSE)\n",
    "print(\"MAE: \", MAE)\n",
    "print(\"R2: \", R2)"
   ]
  },
  {
   "cell_type": "markdown",
   "metadata": {},
   "source": [
    "## November"
   ]
  },
  {
   "cell_type": "code",
   "execution_count": 36,
   "metadata": {},
   "outputs": [
    {
     "name": "stdout",
     "output_type": "stream",
     "text": [
      "(720, 35, 9) (720, 35)\n"
     ]
    }
   ],
   "source": [
    "X_nov = data_nov[:, :, :-1]\n",
    "Y_nov = data_nov[:, :, -1]\n",
    "n_steps, n_stations = X_nov.shape[:2]\n",
    "print(X_nov.shape, Y_nov.shape)"
   ]
  },
  {
   "cell_type": "code",
   "execution_count": 37,
   "metadata": {},
   "outputs": [
    {
     "name": "stderr",
     "output_type": "stream",
     "text": [
      "100%|██████████| 720/720 [23:41<00:00,  1.97s/it]"
     ]
    },
    {
     "name": "stdout",
     "output_type": "stream",
     "text": [
      "RMSE:  4.1415052\n",
      "CVRMSE:  0.31843826\n",
      "MAE:  2.8648872\n",
      "R2:  0.745926171541214\n"
     ]
    },
    {
     "name": "stderr",
     "output_type": "stream",
     "text": [
      "\n"
     ]
    }
   ],
   "source": [
    "Y_pred_all = []\n",
    "Y_true_all = []\n",
    "for t in tqdm(range(n_steps)):\n",
    "    # leave one out split\n",
    "    i = np.random.randint(n_stations)\n",
    "    X_train = torch.from_numpy(np.concatenate((X_nov[t, :i], X_nov[t, i+1:]), axis=0)).float()\n",
    "    X_test = torch.from_numpy(X_nov[t, i:i+1]).float()\n",
    "    Y_train = torch.from_numpy(np.concatenate((Y_nov[t, :i], Y_nov[t, i+1:]), axis=0)).float()\n",
    "    Y_test = torch.from_numpy(Y_nov[t, i:i+1]).float()\n",
    "\n",
    "    # prepare training\n",
    "    likelihood = gpytorch.likelihoods.GaussianLikelihood()\n",
    "    model = AirGP(X_train, Y_train, likelihood, matern_ard=5, lp_ard=4)\n",
    "    training_iter = 1000\n",
    "    model.train()\n",
    "    likelihood.train()\n",
    "    optimizer = torch.optim.Adam(model.parameters(), lr=0.1)\n",
    "    mll = gpytorch.mlls.ExactMarginalLogLikelihood(likelihood, model)\n",
    "\n",
    "    # training\n",
    "    for iter in range(training_iter):\n",
    "        model.train()\n",
    "        likelihood.train()\n",
    "        optimizer.zero_grad()\n",
    "        output = model(X_train)\n",
    "        loss = -mll(output, Y_train)\n",
    "        loss.backward()\n",
    "        optimizer.step()\n",
    "\n",
    "    # evaluation\n",
    "    model.eval()\n",
    "    likelihood.eval()\n",
    "    Y_pred = model(X_test)\n",
    "    Y_pred_mean = Y_pred.mean.detach()\n",
    "    Y_pred_all.append(Y_pred_mean.cpu().numpy())\n",
    "    Y_true_all.append(Y_test.cpu().numpy())\n",
    "\n",
    "Y_true_all = np.array(Y_true_all).flatten()\n",
    "Y_pred_all = np.array(Y_pred_all).flatten()\n",
    "RMSE = np.sqrt(np.mean((Y_true_all - Y_pred_all) ** 2))\n",
    "CVRMSE = RMSE / np.mean(Y_true_all)\n",
    "MAE = np.mean(np.abs(Y_true_all - Y_pred_all))\n",
    "R2 = 1 - np.sum((Y_true_all - Y_pred_all) ** 2) / np.sum((Y_true_all - np.mean(Y_true_all)) ** 2)\n",
    "print(\"RMSE: \", RMSE)\n",
    "print(\"CVRMSE: \", CVRMSE)\n",
    "print(\"MAE: \", MAE)\n",
    "print(\"R2: \", R2)"
   ]
  },
  {
   "cell_type": "markdown",
   "metadata": {},
   "source": [
    "# December"
   ]
  },
  {
   "cell_type": "code",
   "execution_count": 38,
   "metadata": {},
   "outputs": [
    {
     "name": "stdout",
     "output_type": "stream",
     "text": [
      "(744, 35, 9) (744, 35)\n"
     ]
    }
   ],
   "source": [
    "X_dec = data_dec[:, :, :-1]\n",
    "Y_dec = data_dec[:, :, -1]\n",
    "n_steps, n_stations = X_dec.shape[:2]\n",
    "print(X_dec.shape, Y_dec.shape)"
   ]
  },
  {
   "cell_type": "code",
   "execution_count": 42,
   "metadata": {},
   "outputs": [
    {
     "name": "stderr",
     "output_type": "stream",
     "text": [
      " 66%|██████▌   | 490/744 [16:16<08:26,  2.00s/it]/Users/shangjiedu/anaconda3/envs/env_ai/lib/python3.8/site-packages/linear_operator/utils/cholesky.py:40: NumericalWarning: A not p.d., added jitter of 1.0e-06 to the diagonal\n",
      "  warnings.warn(\n",
      "/Users/shangjiedu/anaconda3/envs/env_ai/lib/python3.8/site-packages/linear_operator/utils/cholesky.py:40: NumericalWarning: A not p.d., added jitter of 1.0e-05 to the diagonal\n",
      "  warnings.warn(\n",
      "/Users/shangjiedu/anaconda3/envs/env_ai/lib/python3.8/site-packages/linear_operator/utils/cholesky.py:40: NumericalWarning: A not p.d., added jitter of 1.0e-04 to the diagonal\n",
      "  warnings.warn(\n",
      "100%|██████████| 744/744 [24:37<00:00,  1.99s/it]"
     ]
    },
    {
     "name": "stdout",
     "output_type": "stream",
     "text": [
      "RMSE:  7.198174\n",
      "CVRMSE:  0.40572974\n",
      "MAE:  4.5322123\n",
      "R2:  0.7331408858299255\n"
     ]
    },
    {
     "name": "stderr",
     "output_type": "stream",
     "text": [
      "\n"
     ]
    }
   ],
   "source": [
    "Y_pred_all = []\n",
    "Y_true_all = []\n",
    "for t in tqdm(range(n_steps)):\n",
    "    try:\n",
    "        # leave one out split\n",
    "        i = np.random.randint(n_stations)\n",
    "        X_train = torch.from_numpy(np.concatenate((X_dec[t, :i], X_dec[t, i+1:]), axis=0)).float()\n",
    "        X_test = torch.from_numpy(X_dec[t, i:i+1]).float()\n",
    "        Y_train = torch.from_numpy(np.concatenate((Y_dec[t, :i], Y_dec[t, i+1:]), axis=0)).float()\n",
    "        Y_test = torch.from_numpy(Y_dec[t, i:i+1]).float()\n",
    "\n",
    "        # prepare training\n",
    "        likelihood = gpytorch.likelihoods.GaussianLikelihood()\n",
    "        model = AirGP(X_train, Y_train, likelihood, matern_ard=5, lp_ard=4)\n",
    "        training_iter = 1000\n",
    "        model.train()\n",
    "        likelihood.train()\n",
    "        optimizer = torch.optim.Adam(model.parameters(), lr=0.1)\n",
    "        mll = gpytorch.mlls.ExactMarginalLogLikelihood(likelihood, model)\n",
    "\n",
    "        # training\n",
    "        for iter in range(training_iter):\n",
    "            model.train()\n",
    "            likelihood.train()\n",
    "            optimizer.zero_grad()\n",
    "            output = model(X_train)\n",
    "            loss = -mll(output, Y_train)\n",
    "            loss.backward()\n",
    "            optimizer.step()\n",
    "\n",
    "        # evaluation\n",
    "        model.eval()\n",
    "        likelihood.eval()\n",
    "        Y_pred = model(X_test)\n",
    "        Y_pred_mean = Y_pred.mean.detach()\n",
    "        Y_pred_all.append(Y_pred_mean.cpu().numpy())\n",
    "        Y_true_all.append(Y_test.cpu().numpy())\n",
    "    except:\n",
    "        continue\n",
    "\n",
    "Y_true_all = np.array(Y_true_all).flatten()\n",
    "Y_pred_all = np.array(Y_pred_all).flatten()\n",
    "RMSE = np.sqrt(np.mean((Y_true_all - Y_pred_all) ** 2))\n",
    "CVRMSE = RMSE / np.mean(Y_true_all)\n",
    "MAE = np.mean(np.abs(Y_true_all - Y_pred_all))\n",
    "R2 = 1 - np.sum((Y_true_all - Y_pred_all) ** 2) / np.sum((Y_true_all - np.mean(Y_true_all)) ** 2)\n",
    "print(\"RMSE: \", RMSE)\n",
    "print(\"CVRMSE: \", CVRMSE)\n",
    "print(\"MAE: \", MAE)\n",
    "print(\"R2: \", R2)"
   ]
  },
  {
   "cell_type": "markdown",
   "metadata": {},
   "source": [
    "## January"
   ]
  },
  {
   "cell_type": "code",
   "execution_count": 43,
   "metadata": {},
   "outputs": [
    {
     "name": "stdout",
     "output_type": "stream",
     "text": [
      "(722, 44, 9) (722, 44)\n"
     ]
    }
   ],
   "source": [
    "X_jan = data_jan[:, :, :-1]\n",
    "Y_jan = data_jan[:, :, -1]\n",
    "n_steps, n_stations = X_jan.shape[:2]\n",
    "print(X_jan.shape, Y_jan.shape)"
   ]
  },
  {
   "cell_type": "code",
   "execution_count": 44,
   "metadata": {},
   "outputs": [
    {
     "name": "stderr",
     "output_type": "stream",
     "text": [
      "100%|██████████| 722/722 [24:49<00:00,  2.06s/it]"
     ]
    },
    {
     "name": "stdout",
     "output_type": "stream",
     "text": [
      "RMSE:  4.826853\n",
      "CVRMSE:  0.40980184\n",
      "MAE:  2.9290924\n",
      "R2:  0.680124431848526\n"
     ]
    },
    {
     "name": "stderr",
     "output_type": "stream",
     "text": [
      "\n"
     ]
    }
   ],
   "source": [
    "Y_pred_all = []\n",
    "Y_true_all = []\n",
    "for t in tqdm(range(n_steps)):\n",
    "    try:\n",
    "        # leave one out split\n",
    "        i = np.random.randint(n_stations)\n",
    "        X_train = torch.from_numpy(np.concatenate((X_jan[t, :i], X_jan[t, i+1:]), axis=0)).float()\n",
    "        X_test = torch.from_numpy(X_jan[t, i:i+1]).float()\n",
    "        Y_train = torch.from_numpy(np.concatenate((Y_jan[t, :i], Y_jan[t, i+1:]), axis=0)).float()\n",
    "        Y_test = torch.from_numpy(Y_jan[t, i:i+1]).float()\n",
    "\n",
    "        # prepare training\n",
    "        likelihood = gpytorch.likelihoods.GaussianLikelihood()\n",
    "        model = AirGP(X_train, Y_train, likelihood, matern_ard=5, lp_ard=4)\n",
    "        training_iter = 1000\n",
    "        model.train()\n",
    "        likelihood.train()\n",
    "        optimizer = torch.optim.Adam(model.parameters(), lr=0.1)\n",
    "        mll = gpytorch.mlls.ExactMarginalLogLikelihood(likelihood, model)\n",
    "\n",
    "        # training\n",
    "        for iter in range(training_iter):\n",
    "            model.train()\n",
    "            likelihood.train()\n",
    "            optimizer.zero_grad()\n",
    "            output = model(X_train)\n",
    "            loss = -mll(output, Y_train)\n",
    "            loss.backward()\n",
    "            optimizer.step()\n",
    "\n",
    "        # evaluation\n",
    "        model.eval()\n",
    "        likelihood.eval()\n",
    "        Y_pred = model(X_test)\n",
    "        Y_pred_mean = Y_pred.mean.detach()\n",
    "        Y_pred_all.append(Y_pred_mean.cpu().numpy())\n",
    "        Y_true_all.append(Y_test.cpu().numpy())\n",
    "    except:\n",
    "        continue\n",
    "\n",
    "Y_true_all = np.array(Y_true_all).flatten()\n",
    "Y_pred_all = np.array(Y_pred_all).flatten()\n",
    "RMSE = np.sqrt(np.mean((Y_true_all - Y_pred_all) ** 2))\n",
    "CVRMSE = RMSE / np.mean(Y_true_all)\n",
    "MAE = np.mean(np.abs(Y_true_all - Y_pred_all))\n",
    "R2 = 1 - np.sum((Y_true_all - Y_pred_all) ** 2) / np.sum((Y_true_all - np.mean(Y_true_all)) ** 2)\n",
    "print(\"RMSE: \", RMSE)\n",
    "print(\"CVRMSE: \", CVRMSE)\n",
    "print(\"MAE: \", MAE)\n",
    "print(\"R2: \", R2)"
   ]
  },
  {
   "cell_type": "code",
   "execution_count": null,
   "metadata": {},
   "outputs": [],
   "source": []
  }
 ],
 "metadata": {
  "kernelspec": {
   "display_name": "env_ai",
   "language": "python",
   "name": "python3"
  },
  "language_info": {
   "codemirror_mode": {
    "name": "ipython",
    "version": 3
   },
   "file_extension": ".py",
   "mimetype": "text/x-python",
   "name": "python",
   "nbconvert_exporter": "python",
   "pygments_lexer": "ipython3",
   "version": "3.8.18"
  }
 },
 "nbformat": 4,
 "nbformat_minor": 2
}
