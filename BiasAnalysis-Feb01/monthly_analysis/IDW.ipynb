{
 "cells": [
  {
   "cell_type": "code",
   "execution_count": 19,
   "metadata": {},
   "outputs": [],
   "source": [
    "import pandas as pd\n",
    "import numpy as np\n",
    "import matplotlib.pyplot as plt\n",
    "import os\n",
    "from tqdm import tqdm"
   ]
  },
  {
   "cell_type": "markdown",
   "metadata": {},
   "source": [
    "# Prepare Data"
   ]
  },
  {
   "cell_type": "code",
   "execution_count": 20,
   "metadata": {},
   "outputs": [
    {
     "name": "stdout",
     "output_type": "stream",
     "text": [
      "One outlier dropped\n",
      "One outlier dropped\n",
      "One outlier dropped\n",
      "One outlier dropped\n",
      "One outlier dropped\n",
      "One outlier dropped\n",
      "One outlier dropped\n",
      "One outlier dropped\n",
      "One outlier dropped\n",
      "One outlier dropped\n",
      "(744, 36, 3) (720, 36, 3) (744, 36, 3)\n"
     ]
    }
   ],
   "source": [
    "data_dir = \"../../InterpolationBaseline/data/Oct0123_Dec3123/\"\n",
    "data_files = [file for file in os.listdir(data_dir) if file.endswith(\".csv\")]\n",
    "data_oct = []\n",
    "data_nov = []\n",
    "data_dec = []\n",
    "\n",
    "for file in data_files:\n",
    "    df = pd.read_csv(data_dir + file)\n",
    "    df.loc[df[\"pm25\"] < 0, \"pm25\"] = 0\n",
    "    if df[\"pm25\"].max() > 500:\n",
    "        print(\"One outlier dropped\")\n",
    "        continue\n",
    "\n",
    "    #decompose timestamp\n",
    "    df[\"timestamp\"] = pd.to_datetime(df[\"timestamp\"], format=\"mixed\")\n",
    "    df[\"hour\"] = df[\"timestamp\"].dt.hour\n",
    "    df[\"day\"] = df[\"timestamp\"].dt.day\n",
    "    df[\"month\"] = df[\"timestamp\"].dt.month\n",
    "    df[\"year\"] = df[\"timestamp\"].dt.year\n",
    "    df = df.loc[:, [\"year\", \"month\", \"day\", \"hour\", \"pm25\", \"longitude\", \"latitude\"]]\n",
    "    df = df.groupby([\"year\", \"month\", \"day\", \"hour\"]).mean().reset_index(drop=False)\n",
    "\n",
    "    if len(df) < 24 * (31 + 30 + 31):\n",
    "        continue\n",
    "    else:\n",
    "        df_oct = df.loc[df[\"month\"] == 10]\n",
    "        df_nov = df.loc[df[\"month\"] == 11]\n",
    "        df_dec = df.loc[df[\"month\"] == 12]\n",
    "        data_oct.append(df_oct.loc[:, [\"pm25\", \"longitude\", \"latitude\"]].to_numpy())\n",
    "        data_nov.append(df_nov.loc[:, [\"pm25\", \"longitude\", \"latitude\"]].to_numpy())\n",
    "        data_dec.append(df_dec.loc[:, [\"pm25\", \"longitude\", \"latitude\"]].to_numpy())\n",
    "\n",
    "data_oct = np.array(data_oct).transpose(1, 0, 2)\n",
    "data_nov = np.array(data_nov).transpose(1, 0, 2)\n",
    "data_dec = np.array(data_dec).transpose(1, 0, 2)\n",
    "print(data_oct.shape, data_nov.shape, data_dec.shape)"
   ]
  },
  {
   "cell_type": "code",
   "execution_count": 21,
   "metadata": {},
   "outputs": [
    {
     "name": "stdout",
     "output_type": "stream",
     "text": [
      "One outlier dropped\n",
      "One outlier dropped\n",
      "One outlier dropped\n",
      "One outlier dropped\n",
      "One outlier dropped\n",
      "One outlier dropped\n",
      "(720, 45, 3)\n"
     ]
    }
   ],
   "source": [
    "data_dir = \"../../InterpolationBaseline/data/Jan0124_Jan2924/\"\n",
    "data_files = [file for file in os.listdir(data_dir) if file.endswith(\".csv\")]\n",
    "data_jan = []\n",
    "for file in data_files:\n",
    "    df = pd.read_csv(data_dir + file)\n",
    "    df.loc[df[\"pm25\"] < 0, \"pm25\"] = 0\n",
    "    if df[\"pm25\"].max() > 500:\n",
    "        print(\"One outlier dropped\")\n",
    "        continue\n",
    "\n",
    "    #decompose timestamp\n",
    "    df[\"timestamp\"] = pd.to_datetime(df[\"timestamp\"], format=\"mixed\")\n",
    "    df[\"hour\"] = df[\"timestamp\"].dt.hour\n",
    "    df[\"day\"] = df[\"timestamp\"].dt.day\n",
    "    df[\"month\"] = df[\"timestamp\"].dt.month\n",
    "    df[\"year\"] = df[\"timestamp\"].dt.year\n",
    "    df = df.loc[:, [\"year\", \"month\", \"day\", \"hour\", \"pm25\", \"longitude\", \"latitude\"]]\n",
    "    df = df.groupby([\"year\", \"month\", \"day\", \"hour\"]).mean().reset_index(drop=False)\n",
    "    df = df.loc[df[\"day\"] <= 30]\n",
    "    \n",
    "    if len(df) < 24 * 30:\n",
    "        continue\n",
    "    else:\n",
    "        data_jan.append(df.loc[:, [\"pm25\", \"longitude\", \"latitude\"]].to_numpy())\n",
    "data_jan = np.array(data_jan).transpose(1, 0, 2)\n",
    "print(data_jan.shape)\n"
   ]
  },
  {
   "cell_type": "markdown",
   "metadata": {},
   "source": [
    "# Interpolation Algorithm"
   ]
  },
  {
   "cell_type": "code",
   "execution_count": 22,
   "metadata": {},
   "outputs": [],
   "source": [
    "class IDW:\n",
    "    def __init__(self, X, Y):\n",
    "        \"\"\"\n",
    "        X: (n, d), n is the number of samples, d is the dimension of feature vectors\n",
    "        Y: (n, ), n is the number of samples\n",
    "        \"\"\"\n",
    "        self.X = X\n",
    "        self.Y = Y\n",
    "\n",
    "    def predict(self, X_test, p=2):\n",
    "        \"\"\"\n",
    "        X_test: (m, d), m is the number of test samples, d is the dimension of feature vectors\n",
    "        p: the power of distance\n",
    "        \"\"\"\n",
    "        # construct distance matrix\n",
    "        dist_matrix = np.zeros((X_test.shape[0], self.X.shape[0]))\n",
    "        for i in range(X_test.shape[0]):\n",
    "            for j in range(self.X.shape[0]):\n",
    "                dist = np.linalg.norm(X_test[i] - self.X[j])\n",
    "                dist_matrix[i, j] = dist\n",
    "        \n",
    "        # construct weight matrix\n",
    "        weight_matrix = 1 / np.power(dist_matrix, p)\n",
    "\n",
    "        # normalize weight matrix\n",
    "        weight_matrix = weight_matrix / np.sum(weight_matrix, axis=1, keepdims=True)\n",
    "        self.weight_matrix = weight_matrix\n",
    "\n",
    "        # predict\n",
    "        Y_pred = np.matmul(weight_matrix, self.Y)\n",
    "        return Y_pred\n"
   ]
  },
  {
   "cell_type": "markdown",
   "metadata": {},
   "source": [
    "# LOOCV"
   ]
  },
  {
   "cell_type": "markdown",
   "metadata": {},
   "source": [
    "## October"
   ]
  },
  {
   "cell_type": "code",
   "execution_count": 31,
   "metadata": {},
   "outputs": [
    {
     "name": "stdout",
     "output_type": "stream",
     "text": [
      "(744, 36, 2) (744, 36)\n"
     ]
    }
   ],
   "source": [
    "X_oct = data_oct[:, :, 1:]\n",
    "Y_oct = data_oct[:, :, 0]\n",
    "n_steps, n_stations = X_oct.shape[:2]\n",
    "print(X_oct.shape, Y_oct.shape)"
   ]
  },
  {
   "cell_type": "code",
   "execution_count": 32,
   "metadata": {},
   "outputs": [
    {
     "name": "stderr",
     "output_type": "stream",
     "text": [
      "100%|██████████| 744/744 [00:01<00:00, 394.49it/s]\n"
     ]
    },
    {
     "name": "stdout",
     "output_type": "stream",
     "text": [
      "RMSE:  3.3335418163432133\n",
      "CVRMSE:  0.3025458911804561\n",
      "MAE:  2.0653108365228388\n",
      "R2:  0.717678314828415\n"
     ]
    }
   ],
   "source": [
    "Y_true_all = []\n",
    "Y_pred_all = []\n",
    "for t in tqdm(range(n_steps)):\n",
    "    for i in range(n_stations):\n",
    "        X_train = np.concatenate((X_oct[t, :i], X_oct[t, i+1:]), axis=0)\n",
    "        X_test = X_oct[t, i:i+1]\n",
    "        Y_train = np.concatenate((Y_oct[t, :i], Y_oct[t, i+1:]), axis=0)\n",
    "        Y_test = Y_oct[t, i:i+1]\n",
    "        idw = IDW(X_train, Y_train)\n",
    "        Y_pred = idw.predict(X_test)\n",
    "        Y_true_all.append(Y_test)\n",
    "        Y_pred_all.append(Y_pred)\n",
    "Y_true_all = np.array(Y_true_all).flatten()\n",
    "Y_pred_all = np.array(Y_pred_all).flatten()\n",
    "RMSE = np.sqrt(np.mean((Y_true_all - Y_pred_all) ** 2))\n",
    "CVRMSE = RMSE / np.mean(Y_true_all)\n",
    "MAE = np.mean(np.abs(Y_true_all - Y_pred_all))\n",
    "R2 = 1 - np.sum((Y_true_all - Y_pred_all) ** 2) / np.sum((Y_true_all - np.mean(Y_true_all)) ** 2)\n",
    "print(\"RMSE: \", RMSE)\n",
    "print(\"CVRMSE: \", CVRMSE)\n",
    "print(\"MAE: \", MAE)\n",
    "print(\"R2: \", R2)"
   ]
  },
  {
   "cell_type": "markdown",
   "metadata": {},
   "source": [
    "## November"
   ]
  },
  {
   "cell_type": "code",
   "execution_count": 25,
   "metadata": {},
   "outputs": [
    {
     "name": "stdout",
     "output_type": "stream",
     "text": [
      "(720, 36, 2) (720, 36)\n"
     ]
    }
   ],
   "source": [
    "X_nov = data_nov[:, :, 1:]\n",
    "Y_nov = data_nov[:, :, 0]\n",
    "n_steps, n_stations = X_nov.shape[:2]\n",
    "print(X_nov.shape, Y_nov.shape)"
   ]
  },
  {
   "cell_type": "code",
   "execution_count": 26,
   "metadata": {},
   "outputs": [
    {
     "name": "stderr",
     "output_type": "stream",
     "text": [
      "100%|██████████| 720/720 [00:02<00:00, 359.62it/s]"
     ]
    },
    {
     "name": "stdout",
     "output_type": "stream",
     "text": [
      "RMSE:  4.261256396753973\n",
      "CVRMSE:  0.32602600247140945\n",
      "MAE:  2.761774241755152\n",
      "R2:  0.7495944345765306\n"
     ]
    },
    {
     "name": "stderr",
     "output_type": "stream",
     "text": [
      "\n"
     ]
    }
   ],
   "source": [
    "Y_true_all = []\n",
    "Y_pred_all = []\n",
    "for t in tqdm(range(n_steps)):\n",
    "    for i in range(n_stations):\n",
    "        X_train = np.concatenate((X_nov[t, :i], X_nov[t, i+1:]), axis=0)\n",
    "        X_test = X_nov[t, i:i+1]\n",
    "        Y_train = np.concatenate((Y_nov[t, :i], Y_nov[t, i+1:]), axis=0)\n",
    "        Y_test = Y_nov[t, i:i+1]\n",
    "        idw = IDW(X_train, Y_train)\n",
    "        Y_pred = idw.predict(X_test)\n",
    "        Y_true_all.append(Y_test)\n",
    "        Y_pred_all.append(Y_pred)\n",
    "Y_true_all = np.array(Y_true_all).flatten()\n",
    "Y_pred_all = np.array(Y_pred_all).flatten()\n",
    "RMSE = np.sqrt(np.mean((Y_true_all - Y_pred_all) ** 2))\n",
    "CVRMSE = RMSE / np.mean(Y_true_all)\n",
    "MAE = np.mean(np.abs(Y_true_all - Y_pred_all))\n",
    "R2 = 1 - np.sum((Y_true_all - Y_pred_all) ** 2) / np.sum((Y_true_all - np.mean(Y_true_all)) ** 2)\n",
    "print(\"RMSE: \", RMSE)\n",
    "print(\"CVRMSE: \", CVRMSE)\n",
    "print(\"MAE: \", MAE)\n",
    "print(\"R2: \", R2)"
   ]
  },
  {
   "cell_type": "markdown",
   "metadata": {},
   "source": [
    "## December"
   ]
  },
  {
   "cell_type": "code",
   "execution_count": 27,
   "metadata": {},
   "outputs": [
    {
     "name": "stdout",
     "output_type": "stream",
     "text": [
      "(744, 36, 2) (744, 36)\n"
     ]
    }
   ],
   "source": [
    "X_dec = data_dec[:, :, 1:]\n",
    "Y_dec = data_dec[:, :, 0]\n",
    "n_steps, n_stations = X_dec.shape[:2]\n",
    "print(X_dec.shape, Y_dec.shape)"
   ]
  },
  {
   "cell_type": "code",
   "execution_count": 28,
   "metadata": {},
   "outputs": [
    {
     "name": "stderr",
     "output_type": "stream",
     "text": [
      "100%|██████████| 744/744 [00:02<00:00, 347.31it/s]"
     ]
    },
    {
     "name": "stdout",
     "output_type": "stream",
     "text": [
      "RMSE:  6.856705585857254\n",
      "CVRMSE:  0.39284899391769723\n",
      "MAE:  4.33583326134312\n",
      "R2:  0.7533161349080264\n"
     ]
    },
    {
     "name": "stderr",
     "output_type": "stream",
     "text": [
      "\n"
     ]
    }
   ],
   "source": [
    "Y_true_all = []\n",
    "Y_pred_all = []\n",
    "for t in tqdm(range(n_steps)):\n",
    "    for i in range(n_stations):\n",
    "        X_train = np.concatenate((X_dec[t, :i], X_dec[t, i+1:]), axis=0)\n",
    "        X_test = X_dec[t, i:i+1]\n",
    "        Y_train = np.concatenate((Y_dec[t, :i], Y_dec[t, i+1:]), axis=0)\n",
    "        Y_test = Y_dec[t, i:i+1]\n",
    "        idw = IDW(X_train, Y_train)\n",
    "        Y_pred = idw.predict(X_test)\n",
    "        Y_true_all.append(Y_test)\n",
    "        Y_pred_all.append(Y_pred)\n",
    "Y_true_all = np.array(Y_true_all).flatten()\n",
    "Y_pred_all = np.array(Y_pred_all).flatten()\n",
    "RMSE = np.sqrt(np.mean((Y_true_all - Y_pred_all) ** 2))\n",
    "CVRMSE = RMSE / np.mean(Y_true_all)\n",
    "MAE = np.mean(np.abs(Y_true_all - Y_pred_all))\n",
    "R2 = 1 - np.sum((Y_true_all - Y_pred_all) ** 2) / np.sum((Y_true_all - np.mean(Y_true_all)) ** 2)\n",
    "print(\"RMSE: \", RMSE)\n",
    "print(\"CVRMSE: \", CVRMSE)\n",
    "print(\"MAE: \", MAE)\n",
    "print(\"R2: \", R2)"
   ]
  },
  {
   "cell_type": "markdown",
   "metadata": {},
   "source": [
    "## January"
   ]
  },
  {
   "cell_type": "code",
   "execution_count": 29,
   "metadata": {},
   "outputs": [
    {
     "name": "stdout",
     "output_type": "stream",
     "text": [
      "(720, 45, 2) (720, 45)\n"
     ]
    }
   ],
   "source": [
    "X_jan = data_jan[:, :, 1:]\n",
    "Y_jan = data_jan[:, :, 0]\n",
    "n_steps, n_stations = X_jan.shape[:2]\n",
    "print(X_jan.shape, Y_jan.shape)"
   ]
  },
  {
   "cell_type": "code",
   "execution_count": 30,
   "metadata": {},
   "outputs": [
    {
     "name": "stderr",
     "output_type": "stream",
     "text": [
      "100%|██████████| 720/720 [00:03<00:00, 235.69it/s]"
     ]
    },
    {
     "name": "stdout",
     "output_type": "stream",
     "text": [
      "RMSE:  4.0195062824579715\n",
      "CVRMSE:  0.3527485692313207\n",
      "MAE:  2.570933438924726\n",
      "R2:  0.7590467129948636\n"
     ]
    },
    {
     "name": "stderr",
     "output_type": "stream",
     "text": [
      "\n"
     ]
    }
   ],
   "source": [
    "Y_true_all = []\n",
    "Y_pred_all = []\n",
    "for t in tqdm(range(n_steps)):\n",
    "    for i in range(n_stations):\n",
    "        X_train = np.concatenate((X_jan[t, :i], X_jan[t, i+1:]), axis=0)\n",
    "        X_test = X_jan[t, i:i+1]\n",
    "        Y_train = np.concatenate((Y_jan[t, :i], Y_jan[t, i+1:]), axis=0)\n",
    "        Y_test = Y_jan[t, i:i+1]\n",
    "        idw = IDW(X_train, Y_train)\n",
    "        Y_pred = idw.predict(X_test)\n",
    "        Y_true_all.append(Y_test)\n",
    "        Y_pred_all.append(Y_pred)\n",
    "Y_true_all = np.array(Y_true_all).flatten()\n",
    "Y_pred_all = np.array(Y_pred_all).flatten()\n",
    "RMSE = np.sqrt(np.mean((Y_true_all - Y_pred_all) ** 2))\n",
    "CVRMSE = RMSE / np.mean(Y_true_all)\n",
    "MAE = np.mean(np.abs(Y_true_all - Y_pred_all))\n",
    "R2 = 1 - np.sum((Y_true_all - Y_pred_all) ** 2) / np.sum((Y_true_all - np.mean(Y_true_all)) ** 2)\n",
    "print(\"RMSE: \", RMSE)\n",
    "print(\"CVRMSE: \", CVRMSE)\n",
    "print(\"MAE: \", MAE)\n",
    "print(\"R2: \", R2)"
   ]
  },
  {
   "cell_type": "code",
   "execution_count": null,
   "metadata": {},
   "outputs": [],
   "source": []
  }
 ],
 "metadata": {
  "kernelspec": {
   "display_name": "env_ai",
   "language": "python",
   "name": "python3"
  },
  "language_info": {
   "codemirror_mode": {
    "name": "ipython",
    "version": 3
   },
   "file_extension": ".py",
   "mimetype": "text/x-python",
   "name": "python",
   "nbconvert_exporter": "python",
   "pygments_lexer": "ipython3",
   "version": "3.8.18"
  }
 },
 "nbformat": 4,
 "nbformat_minor": 2
}
