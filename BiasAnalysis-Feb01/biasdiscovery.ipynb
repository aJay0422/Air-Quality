{
 "cells": [
  {
   "cell_type": "code",
   "execution_count": 47,
   "metadata": {},
   "outputs": [],
   "source": [
    "import numpy as np\n",
    "import pandas as pd\n",
    "import os\n",
    "from tqdm import tqdm\n",
    "import gpytorch\n",
    "import torch\n",
    "import matplotlib.pyplot as plt"
   ]
  },
  {
   "cell_type": "markdown",
   "metadata": {},
   "source": [
    "# Prepare Data"
   ]
  },
  {
   "cell_type": "code",
   "execution_count": 4,
   "metadata": {},
   "outputs": [],
   "source": [
    "data_dir = \"../InterpolationBaseline/data/Oct0123_Jan3024\"\n",
    "target_industry_id = \"_e49pbOSQseqTE5lu-6NMA\"\n",
    "target_residential_id = \"pCPex6DkSdS0f5K2f7jyHg\"\n",
    "surrounding_ids = [\"JAJWJnroQCSJz0Dr9uVC1g\", \"BF_v9KW2Q7ijbrvpKfH6eA\", \"FIzBmPsyQUKdlgWEPuBtHw\", \"4RMcyiPkRPma6d38ghlpRA\"]"
   ]
  },
  {
   "cell_type": "code",
   "execution_count": 12,
   "metadata": {},
   "outputs": [],
   "source": [
    "def averaging(df):\n",
    "    # decompose timestamp\n",
    "    df['timestamp'] = pd.to_datetime(df['timestamp'])\n",
    "    df['year'] = df['timestamp'].dt.year\n",
    "    df['month'] = df['timestamp'].dt.month\n",
    "    df['day'] = df['timestamp'].dt.day\n",
    "    df['weekday'] = df['timestamp'].dt.weekday\n",
    "    df['hour'] = df['timestamp'].dt.hour\n",
    "\n",
    "    # average\n",
    "    df = df.loc[:, ['longitude', 'latitude', 'celsius', 'humidity', 'pressure',\n",
    "                    'year', 'month', 'day', 'weekday', 'hour', 'pm25']]\n",
    "    df = df.groupby(['year', 'month', 'day', 'weekday', 'hour']).mean().reset_index(drop=False)\n",
    "\n",
    "    return df"
   ]
  },
  {
   "cell_type": "code",
   "execution_count": 23,
   "metadata": {},
   "outputs": [
    {
     "name": "stdout",
     "output_type": "stream",
     "text": [
      "(4, 2928, 11) (1, 2928, 11) (1, 2928, 11)\n"
     ]
    }
   ],
   "source": [
    "data_train = []\n",
    "for id in surrounding_ids:\n",
    "    df = pd.read_csv(os.path.join(data_dir, id + \".csv\"))\n",
    "    df = averaging(df)\n",
    "    data_train.append(df.to_numpy())\n",
    "data_train = np.stack(data_train, axis=0)\n",
    "\n",
    "df = pd.read_csv(os.path.join(data_dir, target_residential_id + \".csv\"))\n",
    "df = averaging(df)\n",
    "data_resid = [df.to_numpy()]\n",
    "data_resid = np.stack(data_resid, axis=0)\n",
    "\n",
    "df = pd.read_csv(os.path.join(data_dir, target_industry_id + \".csv\"))\n",
    "df = averaging(df)\n",
    "data_indus = [df.to_numpy()]\n",
    "data_indus = np.stack(data_indus, axis=0)\n",
    "\n",
    "\n",
    "print(data_train.shape, data_resid.shape, data_indus.shape)"
   ]
  },
  {
   "cell_type": "code",
   "execution_count": 18,
   "metadata": {},
   "outputs": [
    {
     "data": {
      "text/plain": [
       "Index(['year', 'month', 'day', 'weekday', 'hour', 'longitude', 'latitude',\n",
       "       'celsius', 'humidity', 'pressure', 'pm25'],\n",
       "      dtype='object')"
      ]
     },
     "execution_count": 18,
     "metadata": {},
     "output_type": "execute_result"
    }
   ],
   "source": [
    "df.columns"
   ]
  },
  {
   "cell_type": "markdown",
   "metadata": {},
   "source": [
    "# Gaussian Process Model"
   ]
  },
  {
   "cell_type": "code",
   "execution_count": 31,
   "metadata": {},
   "outputs": [],
   "source": [
    "class LocalPeriodicKernel(gpytorch.kernels.Kernel):\n",
    "    is_stationary = True\n",
    "\n",
    "    def __init__(self, lp_ard=None, **kwargs):\n",
    "        super().__init__(**kwargs)\n",
    "        if lp_ard is not None:\n",
    "            self.periodickernel = gpytorch.kernels.PeriodicKernel(arg_num_dims=lp_ard)\n",
    "            self.rbfkernel = gpytorch.kernels.RBFKernel(arg_num_dims=lp_ard)\n",
    "        else:\n",
    "            self.periodickernel = gpytorch.kernels.PeriodicKernel()\n",
    "            self.rbfkernel = gpytorch.kernels.RBFKernel()\n",
    "        self.localperiodickernel = self.periodickernel * self.rbfkernel\n",
    "\n",
    "    #kernel function\n",
    "    def forward(self, x1, x2, **params):\n",
    "        return self.localperiodickernel(x1, x2, **params)\n",
    "    \n",
    "class BaseKernel(gpytorch.kernels.Kernel):\n",
    "    def __init__(self, matern_ard=None, lp_ard=None, **kwargs):\n",
    "        super().__init__(**kwargs)\n",
    "        if matern_ard is not None:\n",
    "            self.maternkernel = gpytorch.kernels.MaternKernel(nu=0.5,ard_num_dims=matern_ard)\n",
    "        else:\n",
    "            self.maternkernel = gpytorch.kernels.MaternKernel(nu=0.5)\n",
    "        if lp_ard is not None:\n",
    "            self.localperiodickernel = LocalPeriodicKernel(lp_ard=lp_ard)\n",
    "        else:\n",
    "            self.localperiodickernel = LocalPeriodicKernel()\n",
    "\n",
    "    def forward(self, x1, x2, **params):\n",
    "        # separate the input into continuous and periodic components\n",
    "        x1_per = x1[:, :4]\n",
    "        x1_cont = x1[:, 4:]\n",
    "        x2_per = x2[:, :4]\n",
    "        x2_cont = x2[:, 4:]\n",
    "        return self.maternkernel(x1_cont, x2_cont, **params) * self.localperiodickernel(x1_per, x2_per, **params)\n",
    "\n",
    "class GlobalKernel(gpytorch.kernels.Kernel):\n",
    "    is_stationary = True\n",
    "\n",
    "    def __init__(self, matern_ard=None, lp_ard=None, **kwargs):\n",
    "        super().__init__(**kwargs)\n",
    "\n",
    "        # base kernel\n",
    "        self.basekernel = BaseKernel(matern_ard=matern_ard, lp_ard=lp_ard)\n",
    "\n",
    "        # scale kernel\n",
    "        self.scalekernel = gpytorch.kernels.ScaleKernel(self.basekernel)\n",
    "\n",
    "    \n",
    "    def forward(self, x1, x2, **params):\n",
    "        return self.scalekernel(x1, x2, **params)\n",
    "    \n",
    "class AirGP(gpytorch.models.ExactGP):\n",
    "    def __init__(self, train_x, train_y, likelihood, matern_ard=None, lp_ard=None):\n",
    "        super(AirGP, self).__init__(train_x, train_y, likelihood)\n",
    "        self.mean_module = gpytorch.means.ConstantMean()\n",
    "        self.covar_module = GlobalKernel(matern_ard=matern_ard, lp_ard=lp_ard)\n",
    "\n",
    "    def forward(self, x):\n",
    "        mean_x = self.mean_module(x)\n",
    "        covar_x = self.covar_module(x)\n",
    "        return gpytorch.distributions.MultivariateNormal(mean_x, covar_x)"
   ]
  },
  {
   "cell_type": "markdown",
   "metadata": {},
   "source": [
    "# Training"
   ]
  },
  {
   "cell_type": "code",
   "execution_count": 34,
   "metadata": {},
   "outputs": [
    {
     "name": "stdout",
     "output_type": "stream",
     "text": [
      "torch.Size([4, 2928, 9]) torch.Size([4, 2928])\n"
     ]
    }
   ],
   "source": [
    "X = torch.from_numpy(data_train[:, :, 1:-1])\n",
    "Y = torch.from_numpy(data_train[:, :, -1])\n",
    "X_resid = torch.from_numpy(data_resid[:, :, 1:-1])\n",
    "Y_resid = torch.from_numpy(data_resid[:, :, -1])\n",
    "X_indus = torch.from_numpy(data_indus[:, :, 1:-1])\n",
    "Y_indus = torch.from_numpy(data_indus[:, :, -1])\n",
    "\n",
    "n_stations, n_steps, n_features = X.shape\n",
    "print(X.shape, Y.shape)"
   ]
  },
  {
   "cell_type": "code",
   "execution_count": 37,
   "metadata": {},
   "outputs": [
    {
     "name": "stderr",
     "output_type": "stream",
     "text": [
      "100%|██████████| 2928/2928 [1:23:16<00:00,  1.71s/it]\n"
     ]
    }
   ],
   "source": [
    "Y_resid_pred_all = []\n",
    "Y_indus_pred_all = []\n",
    "Y_resid_true_all = []\n",
    "Y_indus_true_all = []\n",
    "\n",
    "for t in tqdm(range(n_steps)):\n",
    "    X_train = X[:, t, :]\n",
    "    Y_train = Y[:, t]\n",
    "    X_test_resid = X_resid[:, t, :]\n",
    "    Y_test_resid = Y_resid[:, t]\n",
    "    X_test_indus = X_indus[:, t, :]\n",
    "    Y_test_indus = Y_indus[:, t]\n",
    "\n",
    "    # prepare training\n",
    "    likelihood = gpytorch.likelihoods.GaussianLikelihood()\n",
    "    model = AirGP(X_train, Y_train, likelihood, matern_ard=5, lp_ard=4)\n",
    "    training_iter = 1000\n",
    "    optimizer = torch.optim.Adam(model.parameters(), lr=0.1)\n",
    "    mll = gpytorch.mlls.ExactMarginalLogLikelihood(likelihood, model)\n",
    "\n",
    "    # training\n",
    "    for iter in range(training_iter):\n",
    "        model.train()\n",
    "        likelihood.train()\n",
    "        optimizer.zero_grad()\n",
    "        output = model(X_train)\n",
    "        loss = -mll(output, Y_train)\n",
    "        loss.backward()\n",
    "        optimizer.step()\n",
    "\n",
    "    # evaluation\n",
    "    model.eval()\n",
    "    likelihood.eval()\n",
    "    Y_resid_pred = model(X_test_resid).mean.detach().numpy()\n",
    "    Y_indus_pred = model(X_test_indus).mean.detach().numpy()\n",
    "    Y_resid_pred_all.append(Y_resid_pred)\n",
    "    Y_indus_pred_all.append(Y_indus_pred)\n",
    "    Y_resid_true_all.append(Y_test_resid.numpy())\n",
    "    Y_indus_true_all.append(Y_test_indus.numpy())"
   ]
  },
  {
   "cell_type": "code",
   "execution_count": 38,
   "metadata": {},
   "outputs": [],
   "source": [
    "def metrics_summary(y_true, y_pred):\n",
    "    rmse = np.sqrt(np.mean((y_true - y_pred) ** 2))\n",
    "    cvrmse = rmse / np.mean(y_true)\n",
    "    mae = np.mean(np.abs(y_true - y_pred))\n",
    "    r2 = 1 - np.sum((y_true - y_pred) ** 2) / np.sum((y_true - np.mean(y_true)) ** 2)\n",
    "    return rmse, cvrmse, mae, r2"
   ]
  },
  {
   "cell_type": "code",
   "execution_count": 43,
   "metadata": {},
   "outputs": [
    {
     "name": "stdout",
     "output_type": "stream",
     "text": [
      "RMSE:\n",
      "Residential: 7.67  Industry: 4.81\n",
      "CVRMSE:\n",
      "Residential: 0.45  Industry: 0.26\n",
      "MAE:\n",
      "Residential: 4.20  Industry: 3.49\n",
      "R2:\n",
      "Residential: 0.61  Industry: 0.84\n"
     ]
    }
   ],
   "source": [
    "Y_resid_pred_all = np.concatenate(Y_resid_pred_all, axis=0)\n",
    "Y_indus_pred_all = np.concatenate(Y_indus_pred_all, axis=0)\n",
    "Y_resid_true_all = np.concatenate(Y_resid_true_all, axis=0)\n",
    "Y_indus_true_all = np.concatenate(Y_indus_true_all, axis=0)\n",
    "\n",
    "rmse_resid, cvrmse_resid, mae_resid, r2_resid = metrics_summary(Y_resid_true_all, Y_resid_pred_all)\n",
    "rmse_indus, cvrmse_indus, mae_indus, r2_indus = metrics_summary(Y_indus_true_all, Y_indus_pred_all)\n",
    "\n",
    "print(\"RMSE:\")\n",
    "print(\"Residential: {:.2f}  Industry: {:.2f}\".format(rmse_resid, rmse_indus))\n",
    "print(\"CVRMSE:\")\n",
    "print(\"Residential: {:.2f}  Industry: {:.2f}\".format(cvrmse_resid, cvrmse_indus))\n",
    "print(\"MAE:\")\n",
    "print(\"Residential: {:.2f}  Industry: {:.2f}\".format(mae_resid, mae_indus))\n",
    "print(\"R2:\")\n",
    "print(\"Residential: {:.2f}  Industry: {:.2f}\".format(r2_resid, r2_indus))"
   ]
  },
  {
   "cell_type": "code",
   "execution_count": null,
   "metadata": {},
   "outputs": [],
   "source": []
  },
  {
   "cell_type": "markdown",
   "metadata": {},
   "source": [
    "# Inverse Distance Weighting"
   ]
  },
  {
   "cell_type": "code",
   "execution_count": 45,
   "metadata": {},
   "outputs": [],
   "source": [
    "class IDW:\n",
    "    def __init__(self, X, Y):\n",
    "        \"\"\"\n",
    "        X: (n, d), n is the number of samples, d is the dimension of feature vectors\n",
    "        Y: (n, ), n is the number of samples\n",
    "        \"\"\"\n",
    "        self.X = X\n",
    "        self.Y = Y\n",
    "\n",
    "    def predict(self, X_test, p=2):\n",
    "        \"\"\"\n",
    "        X_test: (m, d), m is the number of test samples, d is the dimension of feature vectors\n",
    "        p: the power of distance\n",
    "        \"\"\"\n",
    "        # construct distance matrix\n",
    "        dist_matrix = np.zeros((X_test.shape[0], self.X.shape[0]))\n",
    "        for i in range(X_test.shape[0]):\n",
    "            for j in range(self.X.shape[0]):\n",
    "                dist = np.linalg.norm(X_test[i] - self.X[j])\n",
    "                dist_matrix[i, j] = dist\n",
    "        \n",
    "        # construct weight matrix\n",
    "        weight_matrix = 1 / np.power(dist_matrix, p)\n",
    "\n",
    "        # normalize weight matrix\n",
    "        weight_matrix = weight_matrix / np.sum(weight_matrix, axis=1, keepdims=True)\n",
    "        self.weight_matrix = weight_matrix\n",
    "\n",
    "        # predict\n",
    "        Y_pred = np.matmul(weight_matrix, self.Y)\n",
    "        return Y_pred\n"
   ]
  },
  {
   "cell_type": "code",
   "execution_count": 46,
   "metadata": {},
   "outputs": [
    {
     "name": "stderr",
     "output_type": "stream",
     "text": [
      "100%|██████████| 2928/2928 [00:00<00:00, 18865.23it/s]"
     ]
    },
    {
     "name": "stdout",
     "output_type": "stream",
     "text": [
      "RMSE:\n",
      "Residential: 8.12  Industry: 6.32\n",
      "CVRMSE:\n",
      "Residential: 0.48  Industry: 0.35\n",
      "MAE:\n",
      "Residential: 4.94  Industry: 3.91\n",
      "R2:\n",
      "Residential: 0.56  Industry: 0.72\n"
     ]
    },
    {
     "name": "stderr",
     "output_type": "stream",
     "text": [
      "\n"
     ]
    }
   ],
   "source": [
    "Y_resid_pred_all = []\n",
    "Y_indus_pred_all = []\n",
    "Y_resid_true_all = []\n",
    "Y_indus_true_all = []\n",
    "\n",
    "for t in tqdm(range(n_steps)):\n",
    "    X_train = X[:, t, :]\n",
    "    Y_train = Y[:, t]\n",
    "    X_test_resid = X_resid[:, t, :]\n",
    "    Y_test_resid = Y_resid[:, t]\n",
    "    X_test_indus = X_indus[:, t, :]\n",
    "    Y_test_indus = Y_indus[:, t]\n",
    "\n",
    "    idw = IDW(X_train.numpy(), Y_train.numpy())\n",
    "    Y_resid_pred = idw.predict(X_test_resid.numpy())\n",
    "    Y_indus_pred = idw.predict(X_test_indus.numpy())\n",
    "    Y_resid_pred_all.append(Y_resid_pred)\n",
    "    Y_indus_pred_all.append(Y_indus_pred)\n",
    "    Y_resid_true_all.append(Y_test_resid.numpy())\n",
    "    Y_indus_true_all.append(Y_test_indus.numpy())\n",
    "\n",
    "Y_resid_pred_all = np.concatenate(Y_resid_pred_all, axis=0)\n",
    "Y_indus_pred_all = np.concatenate(Y_indus_pred_all, axis=0)\n",
    "Y_resid_true_all = np.concatenate(Y_resid_true_all, axis=0)\n",
    "Y_indus_true_all = np.concatenate(Y_indus_true_all, axis=0)\n",
    "\n",
    "rmse_resid, cvrmse_resid, mae_resid, r2_resid = metrics_summary(Y_resid_true_all, Y_resid_pred_all)\n",
    "rmse_indus, cvrmse_indus, mae_indus, r2_indus = metrics_summary(Y_indus_true_all, Y_indus_pred_all)\n",
    "print(\"RMSE:\")\n",
    "print(\"Residential: {:.2f}  Industry: {:.2f}\".format(rmse_resid, rmse_indus))\n",
    "print(\"CVRMSE:\")\n",
    "print(\"Residential: {:.2f}  Industry: {:.2f}\".format(cvrmse_resid, cvrmse_indus))\n",
    "print(\"MAE:\")\n",
    "print(\"Residential: {:.2f}  Industry: {:.2f}\".format(mae_resid, mae_indus))\n",
    "print(\"R2:\")\n",
    "print(\"Residential: {:.2f}  Industry: {:.2f}\".format(r2_resid, r2_indus))"
   ]
  },
  {
   "cell_type": "code",
   "execution_count": null,
   "metadata": {},
   "outputs": [],
   "source": []
  }
 ],
 "metadata": {
  "kernelspec": {
   "display_name": "env_ai",
   "language": "python",
   "name": "python3"
  },
  "language_info": {
   "codemirror_mode": {
    "name": "ipython",
    "version": 3
   },
   "file_extension": ".py",
   "mimetype": "text/x-python",
   "name": "python",
   "nbconvert_exporter": "python",
   "pygments_lexer": "ipython3",
   "version": "3.8.18"
  }
 },
 "nbformat": 4,
 "nbformat_minor": 2
}
