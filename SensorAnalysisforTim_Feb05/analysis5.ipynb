{
 "cells": [
  {
   "cell_type": "markdown",
   "metadata": {},
   "source": [
    "# Description\n",
    "This is a daily correlation coefficient analysis of 6 selected sensors"
   ]
  },
  {
   "cell_type": "code",
   "execution_count": 9,
   "metadata": {},
   "outputs": [],
   "source": [
    "import os\n",
    "import pandas as pd\n",
    "import numpy as np\n",
    "import matplotlib.pyplot as plt\n",
    "\n",
    "from utils import average_hour, corrcoef_nan\n"
   ]
  },
  {
   "cell_type": "markdown",
   "metadata": {},
   "source": [
    "# Prepare Data"
   ]
  },
  {
   "cell_type": "code",
   "execution_count": 3,
   "metadata": {},
   "outputs": [
    {
     "name": "stdout",
     "output_type": "stream",
     "text": [
      "Length correct\n",
      "Length correct\n",
      "Length correct\n",
      "Length correct\n",
      "Length incorrect and corrected\n",
      "Length correct\n"
     ]
    }
   ],
   "source": [
    "data_dir = \"../InterpolationBaseline/data/Oct0123_Jan3024/\"\n",
    "\n",
    "area1_ids = ['JAJWJnroQCSJz0Dr9uVC1g', '_e49pbOSQseqTE5lu-6NMA']\n",
    "area2_ids = ['pCPex6DkSdS0f5K2f7jyHg', 'xudEmbncQ7iqwy3sZ0jZvQ']\n",
    "area3_ids = ['6nBLCf6WT06TOuUExPkBtA', 'JKiLhziTQ4eiYHQq3x01uw']\n",
    "\n",
    "df_full = pd.read_csv(os.path.join(data_dir, area1_ids[0] + \".csv\"))\n",
    "df_full = average_hour(df_full)\n",
    "df_full = df_full.loc[:, ['month', 'day', 'hour']]\n",
    "\n",
    "area1_dfs = []\n",
    "area2_dfs = []\n",
    "area3_dfs = []\n",
    "\n",
    "zipped = zip([area1_ids, area2_ids, area3_ids], [area1_dfs, area2_dfs, area3_dfs])\n",
    "for i, (id_list, df_list) in enumerate(zipped):\n",
    "    for id in id_list:\n",
    "        df = pd.read_csv(data_dir + id + '.csv')\n",
    "        df = average_hour(df)\n",
    "        if len(df) == 24 * 122:\n",
    "            print(\"Length correct\")\n",
    "        else:\n",
    "            df = df_full.merge(df, on=['month', 'day', 'hour'], how='left')\n",
    "            print(\"Length incorrect and corrected\")\n",
    "        df_list.append(df)\n",
    "\n",
    "all_dfs = area1_dfs + area2_dfs + area3_dfs"
   ]
  },
  {
   "cell_type": "code",
   "execution_count": 10,
   "metadata": {},
   "outputs": [
    {
     "name": "stdout",
     "output_type": "stream",
     "text": [
      "122\n"
     ]
    },
    {
     "name": "stderr",
     "output_type": "stream",
     "text": [
      "/Users/shangjiedu/anaconda3/envs/env_ai/lib/python3.8/site-packages/numpy/lib/function_base.py:2854: RuntimeWarning: invalid value encountered in divide\n",
      "  c /= stddev[:, None]\n",
      "/Users/shangjiedu/anaconda3/envs/env_ai/lib/python3.8/site-packages/numpy/lib/function_base.py:2855: RuntimeWarning: invalid value encountered in divide\n",
      "  c /= stddev[None, :]\n"
     ]
    }
   ],
   "source": [
    "cov_matrices = []\n",
    "for start_idx in range(0, len(all_dfs[0]), 24):\n",
    "    end_idx = start_idx + 24\n",
    "    cov_matrix = np.eye(6)\n",
    "    for i in range(len(all_dfs)):\n",
    "        for j in range(i+1, len(all_dfs)):\n",
    "            seq1 = all_dfs[i][\"pm25\"][start_idx:end_idx].to_numpy()\n",
    "            seq2 = all_dfs[j][\"pm25\"][start_idx:end_idx].to_numpy()\n",
    "            cov_matrix[i, j] = corrcoef_nan(seq1, seq2)[0,1]\n",
    "            cov_matrix[j, i] = cov_matrix[i, j]\n",
    "    cov_matrices.append(cov_matrix)\n",
    "print(len(cov_matrices))"
   ]
  },
  {
   "cell_type": "code",
   "execution_count": null,
   "metadata": {},
   "outputs": [],
   "source": []
  }
 ],
 "metadata": {
  "kernelspec": {
   "display_name": "env_ai",
   "language": "python",
   "name": "python3"
  },
  "language_info": {
   "codemirror_mode": {
    "name": "ipython",
    "version": 3
   },
   "file_extension": ".py",
   "mimetype": "text/x-python",
   "name": "python",
   "nbconvert_exporter": "python",
   "pygments_lexer": "ipython3",
   "version": "3.8.18"
  }
 },
 "nbformat": 4,
 "nbformat_minor": 2
}
