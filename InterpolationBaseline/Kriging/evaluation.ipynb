{
 "cells": [
  {
   "cell_type": "code",
   "execution_count": 16,
   "metadata": {},
   "outputs": [],
   "source": [
    "import pandas as pd\n",
    "import numpy as np\n",
    "import matplotlib.pyplot as plt\n",
    "import matplotlib as mpl\n",
    "import os\n",
    "from pykrige.ok import OrdinaryKriging\n",
    "from tqdm import tqdm"
   ]
  },
  {
   "cell_type": "markdown",
   "metadata": {},
   "source": [
    "# Prepare Data"
   ]
  },
  {
   "cell_type": "code",
   "execution_count": 17,
   "metadata": {},
   "outputs": [
    {
     "name": "stdout",
     "output_type": "stream",
     "text": [
      "(10082, 8, 2) (10082, 8)\n"
     ]
    }
   ],
   "source": [
    "data_dir = \"../data/Jan1524_Jan2224/\"\n",
    "data_files = [file for file in os.listdir(data_dir) if file.endswith(\".csv\")]\n",
    "data = []\n",
    "for file in data_files:\n",
    "    df = pd.read_csv(data_dir + file, index_col=0)\n",
    "    df.loc[df[\"pm25\"] < 0, 'pm25'] = 0\n",
    "    data.append(df.loc[:, ['pm25', 'longitude', 'latitude']].to_numpy())\n",
    "data = np.array(data).transpose(1, 0, 2)\n",
    "X = data[:, :, 1:]\n",
    "Y = data[:, :, 0]\n",
    "print(X.shape, Y.shape)"
   ]
  },
  {
   "cell_type": "markdown",
   "metadata": {},
   "source": [
    "# Interpolation Algorithm"
   ]
  },
  {
   "cell_type": "code",
   "execution_count": 18,
   "metadata": {},
   "outputs": [],
   "source": [
    "# OK_model = OrdinaryKriging()"
   ]
  },
  {
   "cell_type": "markdown",
   "metadata": {},
   "source": [
    "# LOOCV"
   ]
  },
  {
   "cell_type": "code",
   "execution_count": 19,
   "metadata": {},
   "outputs": [],
   "source": [
    "n_steps = X.shape[0]\n",
    "n_stations = X.shape[1]"
   ]
  },
  {
   "cell_type": "code",
   "execution_count": 20,
   "metadata": {},
   "outputs": [
    {
     "name": "stderr",
     "output_type": "stream",
     "text": [
      "100%|██████████| 10082/10082 [04:11<00:00, 40.15it/s]  \n"
     ]
    }
   ],
   "source": [
    "RMSEs = []\n",
    "MAEs = []\n",
    "for t in tqdm(range(n_steps)):\n",
    "    for i in range(n_stations):\n",
    "        try:\n",
    "            X_train = np.concatenate((X[t, :i], X[t, i+1:]), axis=0)\n",
    "            X_test = X[t, i:i+1]\n",
    "            Y_train = np.concatenate((Y[t, :i], Y[t, i+1:]), axis=0)\n",
    "            Y_test = Y[t, i:i+1]\n",
    "            OK_model = OrdinaryKriging(X_train[:, 0], X_train[:, 1], Y_train,\n",
    "                                    variogram_model=\"gaussian\",\n",
    "                                    enable_plotting=False)\n",
    "            Y_pred, Y_var = OK_model.execute('points', X_test[:, 0], X_test[:, 1])\n",
    "            rmse = np.sqrt(np.mean((Y_pred - Y_test)**2))\n",
    "            mae = np.mean(np.abs(Y_pred - Y_test))\n",
    "            RMSEs.append(rmse)\n",
    "            MAEs.append(mae)\n",
    "        except:\n",
    "            continue"
   ]
  },
  {
   "cell_type": "code",
   "execution_count": 12,
   "metadata": {},
   "outputs": [
    {
     "name": "stdout",
     "output_type": "stream",
     "text": [
      "RMSE:  3.936529113754297 Stadard Deviation:  14.349662929296485\n",
      "MAE:  3.936529113754297 Stadard Deviation:  14.349662929296485\n"
     ]
    }
   ],
   "source": [
    "print(\"RMSE: \", np.mean(RMSEs), \"Stadard Deviation: \", np.std(RMSEs))\n",
    "print(\"MAE: \", np.mean(MAEs), \"Stadard Deviation: \", np.std(MAEs))"
   ]
  },
  {
   "cell_type": "code",
   "execution_count": 15,
   "metadata": {},
   "outputs": [
    {
     "data": {
      "image/png": "[encoded data removed]",
      "text/plain": [
       "<Figure size 640x480 with 1 Axes>"
      ]
     },
     "metadata": {},
     "output_type": "display_data"
    }
   ],
   "source": [
    "plt.hist(RMSEs, bins=100)\n",
    "plt.show()"
   ]
  },
  {
   "cell_type": "code",
   "execution_count": null,
   "metadata": {},
   "outputs": [],
   "source": []
  }
 ],
 "metadata": {
  "kernelspec": {
   "display_name": "env_ai",
   "language": "python",
   "name": "python3"
  },
  "language_info": {
   "codemirror_mode": {
    "name": "ipython",
    "version": 3
   },
   "file_extension": ".py",
   "mimetype": "text/x-python",
   "name": "python",
   "nbconvert_exporter": "python",
   "pygments_lexer": "ipython3",
   "version": "3.8.18"
  }
 },
 "nbformat": 4,
 "nbformat_minor": 2
}
