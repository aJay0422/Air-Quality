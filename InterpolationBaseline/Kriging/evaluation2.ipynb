{
 "cells": [
  {
   "cell_type": "code",
   "execution_count": 1,
   "metadata": {},
   "outputs": [],
   "source": [
    "import pandas as pd\n",
    "import numpy as np\n",
    "import matplotlib.pyplot as plt\n",
    "import matplotlib as mpl\n",
    "import os\n",
    "from pykrige.ok import OrdinaryKriging\n",
    "from pykrige.uk import UniversalKriging\n",
    "from tqdm import tqdm"
   ]
  },
  {
   "cell_type": "markdown",
   "metadata": {},
   "source": [
    "# Prepare Data"
   ]
  },
  {
   "cell_type": "code",
   "execution_count": 2,
   "metadata": {},
   "outputs": [
    {
     "name": "stdout",
     "output_type": "stream",
     "text": [
      "One outlier dropped\n",
      "One outlier dropped\n",
      "One outlier dropped\n",
      "One outlier dropped\n",
      "One outlier dropped\n",
      "One outlier dropped\n",
      "One outlier dropped\n",
      "One outlier dropped\n",
      "One outlier dropped\n",
      "One outlier dropped\n",
      "(2208, 36, 2) (2208, 36)\n"
     ]
    }
   ],
   "source": [
    "data_dir = \"../data/Oct0123_Dec3123/\"\n",
    "data_files = [file for file in os.listdir(data_dir) if file.endswith(\".csv\")]\n",
    "data = []\n",
    "for file in data_files:\n",
    "    df = pd.read_csv(data_dir + file, index_col=0)\n",
    "    df.loc[df[\"pm25\"] < 0, \"pm25\"] = 0\n",
    "    if df[\"pm25\"].max() > 500:\n",
    "        print(\"One outlier dropped\")\n",
    "        continue\n",
    "    \n",
    "    # decompose timestamp\n",
    "    df[\"timestamp\"] = pd.to_datetime(df[\"timestamp\"])\n",
    "    df[\"hour\"] = df[\"timestamp\"].dt.hour\n",
    "    df[\"day\"] = df[\"timestamp\"].dt.day\n",
    "    df[\"month\"] = df[\"timestamp\"].dt.month\n",
    "    df[\"year\"] = df[\"timestamp\"].dt.year\n",
    "    df = df.loc[:, [\"year\", \"month\", \"day\", \"hour\", \"pm25\", \"longitude\", \"latitude\"]]\n",
    "    df = df.groupby([\"year\", \"month\", \"day\", \"hour\"]).median().reset_index(drop=False)\n",
    "    if len(df) < ((31 + 30 + 31) * 24):\n",
    "        continue\n",
    "    elif df.isnull().values.any():\n",
    "        continue\n",
    "    else:\n",
    "        data.append(df.loc[:, [\"pm25\", \"longitude\", \"latitude\"]].to_numpy())\n",
    "data = np.array(data).transpose(1, 0, 2)\n",
    "X = data[:, :, 1:]\n",
    "Y = data[:, :, 0]\n",
    "print(X.shape, Y.shape)\n"
   ]
  },
  {
   "cell_type": "markdown",
   "metadata": {},
   "source": [
    "# Interpolation Algorithm"
   ]
  },
  {
   "cell_type": "code",
   "execution_count": 3,
   "metadata": {},
   "outputs": [],
   "source": [
    "# OK_model = OrdinaryKriging()"
   ]
  },
  {
   "cell_type": "markdown",
   "metadata": {},
   "source": [
    "# LOOCV"
   ]
  },
  {
   "cell_type": "code",
   "execution_count": 4,
   "metadata": {},
   "outputs": [],
   "source": [
    "n_steps = X.shape[0]\n",
    "n_stations = X.shape[1]"
   ]
  },
  {
   "cell_type": "code",
   "execution_count": 5,
   "metadata": {},
   "outputs": [
    {
     "name": "stderr",
     "output_type": "stream",
     "text": [
      "100%|██████████| 2208/2208 [09:29<00:00,  3.87it/s]"
     ]
    },
    {
     "name": "stdout",
     "output_type": "stream",
     "text": [
      "RMSE:  5.5056138005880175\n",
      "CVRMSE:  0.4025935553742296\n",
      "MAE:  3.4770695768816977\n"
     ]
    },
    {
     "name": "stderr",
     "output_type": "stream",
     "text": [
      "\n"
     ]
    }
   ],
   "source": [
    "Y_true_all = []\n",
    "Y_pred_all = []\n",
    "for t in tqdm(range(n_steps)):\n",
    "    for i in range(n_stations):\n",
    "        try:\n",
    "            X_train = np.concatenate((X[t, :i], X[t, i+1:]), axis=0)\n",
    "            X_test = X[t, i:i+1]\n",
    "            Y_train = np.concatenate((Y[t, :i], Y[t, i+1:]), axis=0)\n",
    "            Y_test = Y[t, i:i+1]\n",
    "            OK_model = UniversalKriging(X_train[:, 0], X_train[:, 1], Y_train,\n",
    "                                    variogram_model=\"linear\",\n",
    "                                    enable_plotting=False)\n",
    "            Y_pred, Y_var = OK_model.execute(\"points\", X_test[:, 0], X_test[:, 1])\n",
    "            Y_true_all.append(Y_test)\n",
    "            Y_pred_all.append(Y_pred)\n",
    "        except:\n",
    "            continue\n",
    "Y_true_all = np.array(Y_true_all).flatten()\n",
    "Y_pred_all = np.array(Y_pred_all).flatten()\n",
    "RMSE = np.sqrt(np.mean((Y_true_all - Y_pred_all) ** 2))\n",
    "CVRMSE = RMSE / np.mean(Y_true_all)\n",
    "MAE = np.mean(np.abs(Y_true_all - Y_pred_all))\n",
    "print(\"RMSE: \", RMSE)\n",
    "print(\"CVRMSE: \", CVRMSE)\n",
    "print(\"MAE: \", MAE)"
   ]
  },
  {
   "cell_type": "code",
   "execution_count": 6,
   "metadata": {},
   "outputs": [
    {
     "name": "stdout",
     "output_type": "stream",
     "text": [
      "R2:  0.7130600686092154\n"
     ]
    }
   ],
   "source": [
    "R2 = 1 - np.sum((Y_true_all - Y_pred_all) ** 2) / np.sum((Y_true_all - np.mean(Y_true_all)) ** 2)\n",
    "print(\"R2: \", R2)"
   ]
  },
  {
   "cell_type": "code",
   "execution_count": null,
   "metadata": {},
   "outputs": [],
   "source": []
  }
 ],
 "metadata": {
  "kernelspec": {
   "display_name": "env_ai",
   "language": "python",
   "name": "python3"
  },
  "language_info": {
   "codemirror_mode": {
    "name": "ipython",
    "version": 3
   },
   "file_extension": ".py",
   "mimetype": "text/x-python",
   "name": "python",
   "nbconvert_exporter": "python",
   "pygments_lexer": "ipython3",
   "version": "3.10.9"
  }
 },
 "nbformat": 4,
 "nbformat_minor": 2
}
