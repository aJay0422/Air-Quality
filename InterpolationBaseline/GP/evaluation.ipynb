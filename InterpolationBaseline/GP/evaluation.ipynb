{
 "cells": [
  {
   "cell_type": "code",
   "execution_count": 3,
   "metadata": {},
   "outputs": [],
   "source": [
    "import torch\n",
    "import gpytorch\n",
    "import numpy as np\n",
    "import pandas as pd\n",
    "import matplotlib.pyplot as plt\n",
    "import matplotlib as mpl\n",
    "import os\n",
    "from tqdm import tqdm"
   ]
  },
  {
   "cell_type": "markdown",
   "metadata": {},
   "source": [
    "# Prepare Data"
   ]
  },
  {
   "cell_type": "code",
   "execution_count": 4,
   "metadata": {},
   "outputs": [
    {
     "name": "stdout",
     "output_type": "stream",
     "text": [
      "(10082, 8, 2) (10082, 8)\n"
     ]
    }
   ],
   "source": [
    "data_dir = \"../data/Jan1524_Jan2224/\"\n",
    "data_files = [file for file in os.listdir(data_dir) if file.endswith(\".csv\")]\n",
    "data = []\n",
    "for file in data_files:\n",
    "    df = pd.read_csv(data_dir + file, index_col=0)\n",
    "    data.append(df.loc[:, ['pm25', 'longitude', 'latitude']].to_numpy())\n",
    "data = np.array(data).transpose(1, 0, 2)\n",
    "X = data[:, :, 1:]\n",
    "Y = data[:, :, 0]\n",
    "print(X.shape, Y.shape)"
   ]
  },
  {
   "cell_type": "markdown",
   "metadata": {},
   "source": [
    "# Interpolation Algorithm"
   ]
  },
  {
   "cell_type": "code",
   "execution_count": 5,
   "metadata": {},
   "outputs": [],
   "source": [
    "class ExactGPModel(gpytorch.models.ExactGP):\n",
    "    def __init__(self, train_x, train_y, likelihood):\n",
    "        super(ExactGPModel, self).__init__(train_x, train_y, likelihood)\n",
    "        self.mean_module = gpytorch.means.ConstantMean()\n",
    "        self.covar_module = gpytorch.kernels.ScaleKernel(\n",
    "            gpytorch.kernels.RBFKernel()\n",
    "        )\n",
    "\n",
    "    def forward(self, x):\n",
    "        mean_x = self.mean_module(x)\n",
    "        covar_x = self.covar_module(x)\n",
    "        return gpytorch.distributions.MultivariateNormal(mean_x, covar_x)"
   ]
  },
  {
   "cell_type": "markdown",
   "metadata": {},
   "source": [
    "# LOOCV"
   ]
  },
  {
   "cell_type": "code",
   "execution_count": 6,
   "metadata": {},
   "outputs": [],
   "source": [
    "n_steps, n_stations = X.shape[:2]"
   ]
  },
  {
   "cell_type": "code",
   "execution_count": 27,
   "metadata": {},
   "outputs": [
    {
     "name": "stderr",
     "output_type": "stream",
     "text": [
      "100%|██████████| 120/120 [3:00:40<00:00, 90.34s/it]   \n"
     ]
    }
   ],
   "source": [
    "RMSEs = []\n",
    "MAEs = []\n",
    "for t in tqdm(np.random.permutation(n_steps)[:120]):\n",
    "    for i in range(n_stations):\n",
    "        try:\n",
    "            # Leave one out split\n",
    "            X_train = torch.from_numpy(np.concatenate((X[t, :i], X[t, i+1:]), axis=0))\n",
    "            X_test = torch.from_numpy(X[t, i:i+1])\n",
    "            Y_train = torch.from_numpy(np.concatenate((Y[t, :i], Y[t, i+1:]), axis=0))\n",
    "            Y_test = torch.from_numpy(Y[t, i:i+1])\n",
    "            # prepare training\n",
    "            likelihood = gpytorch.likelihoods.GaussianLikelihood()\n",
    "            model = ExactGPModel(X_train, Y_train, likelihood)\n",
    "            training_iter = 10000\n",
    "            model.train()\n",
    "            likelihood.train()\n",
    "            optimizer = torch.optim.Adam(model.parameters(), lr=0.1)\n",
    "            mll = gpytorch.mlls.ExactMarginalLogLikelihood(likelihood, model)\n",
    "            # training\n",
    "            for iter in range(training_iter):\n",
    "                model.train()\n",
    "                likelihood.train()\n",
    "                optimizer.zero_grad()\n",
    "                output = model(X_train)\n",
    "                loss = -mll(output, Y_train)\n",
    "                loss.backward()\n",
    "                optimizer.step()\n",
    "            # evaluation\n",
    "            model.eval()\n",
    "            likelihood.eval()\n",
    "            Y_pred = model(X_test)\n",
    "            Y_pred_mean = Y_pred.mean.detach()\n",
    "            rmse = torch.sqrt(torch.mean((Y_pred_mean - Y_test) ** 2))\n",
    "            mae = torch.mean(torch.abs(Y_pred_mean - Y_test))\n",
    "            RMSEs.append(rmse)\n",
    "            MAEs.append(mae)\n",
    "        except:\n",
    "            continue\n",
    "            "
   ]
  },
  {
   "cell_type": "code",
   "execution_count": 29,
   "metadata": {},
   "outputs": [
    {
     "data": {
      "text/plain": [
       "tensor(2.2488, dtype=torch.float64)"
      ]
     },
     "execution_count": 29,
     "metadata": {},
     "output_type": "execute_result"
    }
   ],
   "source": [
    "torch.mean(torch.stack(RMSEs))"
   ]
  },
  {
   "cell_type": "code",
   "execution_count": null,
   "metadata": {},
   "outputs": [],
   "source": []
  }
 ],
 "metadata": {
  "kernelspec": {
   "display_name": "env_ai",
   "language": "python",
   "name": "python3"
  },
  "language_info": {
   "codemirror_mode": {
    "name": "ipython",
    "version": 3
   },
   "file_extension": ".py",
   "mimetype": "text/x-python",
   "name": "python",
   "nbconvert_exporter": "python",
   "pygments_lexer": "ipython3",
   "version": "3.8.18"
  }
 },
 "nbformat": 4,
 "nbformat_minor": 2
}
