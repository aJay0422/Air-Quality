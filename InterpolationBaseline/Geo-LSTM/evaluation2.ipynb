{
 "cells": [
  {
   "cell_type": "code",
   "execution_count": 1,
   "metadata": {},
   "outputs": [],
   "source": [
    "import torch\n",
    "import torch.nn as nn\n",
    "from torch.utils.data import Dataset, DataLoader\n",
    "from tqdm import tqdm\n",
    "import numpy as np\n",
    "import pandas as pd\n",
    "import os"
   ]
  },
  {
   "cell_type": "markdown",
   "metadata": {},
   "source": [
    "# Prepare Data"
   ]
  },
  {
   "cell_type": "code",
   "execution_count": 11,
   "metadata": {},
   "outputs": [
    {
     "name": "stdout",
     "output_type": "stream",
     "text": [
      "One outlier dropped\n",
      "One outlier dropped\n",
      "One outlier dropped\n",
      "One outlier dropped\n",
      "One outlier dropped\n",
      "One outlier dropped\n",
      "One outlier dropped\n",
      "One outlier dropped\n",
      "One outlier dropped\n",
      "One outlier dropped\n",
      "(36, 2208, 3)\n"
     ]
    }
   ],
   "source": [
    "data_dir = \"../data/Oct0123_Dec3123/\"\n",
    "data_files = [file for file in os.listdir(data_dir) if file.endswith(\".csv\")]\n",
    "data = []\n",
    "for file in data_files:\n",
    "    df = pd.read_csv(data_dir + file, index_col=0)\n",
    "    df.loc[df[\"pm25\"] < 0, \"pm25\"] = 0\n",
    "    if df[\"pm25\"].max() > 500:\n",
    "        print(\"One outlier dropped\")\n",
    "        continue\n",
    "    \n",
    "    # decompose timestamp\n",
    "    df[\"timestamp\"] = pd.to_datetime(df[\"timestamp\"])\n",
    "    df[\"hour\"] = df[\"timestamp\"].dt.hour\n",
    "    df[\"day\"] = df[\"timestamp\"].dt.day\n",
    "    df[\"month\"] = df[\"timestamp\"].dt.month\n",
    "    df[\"year\"] = df[\"timestamp\"].dt.year\n",
    "    df = df.loc[:, [\"year\", \"month\", \"day\", \"hour\", \"pm25\", \"longitude\", \"latitude\"]]\n",
    "    df = df.groupby([\"year\", \"month\", \"day\", \"hour\"]).median().reset_index(drop=False)\n",
    "    if len(df) < ((31 + 30 + 31) * 24):\n",
    "        continue\n",
    "    else:\n",
    "        data.append(df.loc[:, [\"pm25\", \"longitude\", \"latitude\"]].to_numpy())\n",
    "data = np.array(data)\n",
    "print(data.shape)"
   ]
  },
  {
   "cell_type": "code",
   "execution_count": 17,
   "metadata": {},
   "outputs": [],
   "source": [
    "class Geo_LSTM_Dataset(Dataset):\n",
    "    def __init__(self, X, Y):\n",
    "        self.X = X\n",
    "        self.Y = Y\n",
    "            \n",
    "    def __len__(self):\n",
    "        return len(self.X)\n",
    "    \n",
    "    def __getitem__(self, index):\n",
    "        return self.X[index], self.Y[index]\n",
    "    \n",
    "def construct_dataloader(data, seed=42, window_size=24, batch_size=256):\n",
    "    np.random.seed(seed)\n",
    "\n",
    "    n_stations = data.shape[0]\n",
    "    permutation = np.random.permutation(n_stations)\n",
    "    data_train = data[permutation[:int(n_stations * 0.8)]]\n",
    "    data_test = data[permutation[int(n_stations * 0.8):]]\n",
    "    X_train = []\n",
    "    Y_train = []\n",
    "    X_test = []\n",
    "    Y_test = []\n",
    "\n",
    "    # construct training data\n",
    "    for label_index in range(len(data_train)):\n",
    "        X = np.concatenate([data_train[:label_index], data_train[label_index + 1:]], axis=0)\n",
    "        Y = data_train[label_index: label_index+1]\n",
    "        RLat = torch.from_numpy(Y[0, 0, 1] - X[:, 0, 1])\n",
    "        RLon = torch.from_numpy(Y[0, 0, 2] - X[:, 0, 2])\n",
    "        for t in range(window_size-1, X.shape[1]):\n",
    "            history_readings = torch.from_numpy(X[:, t-window_size+1:t+1, 0])\n",
    "            target_reading = Y[0, t, 0]\n",
    "            X_train.append((history_readings, RLat, RLon))\n",
    "            Y_train.append(target_reading)\n",
    "    Y_train = torch.tensor(Y_train)\n",
    "    train_dataest = Geo_LSTM_Dataset(X_train, Y_train)\n",
    "    train_loader = DataLoader(train_dataest, batch_size=batch_size, shuffle=True)\n",
    "\n",
    "    # construct testing data\n",
    "    for label_index in range(len(data_test)):\n",
    "        RLat = torch.from_numpy(data_test[label_index, 0, 1] - data_train[:, 0, 1])\n",
    "        RLon = torch.from_numpy(data_test[label_index, 0, 2] - data_train[:, 0, 2])\n",
    "        for t in range(window_size-1, data_test.shape[1]):\n",
    "            history_readings = torch.from_numpy(data_train[:, t-window_size+1:t+1, 0])\n",
    "            target_reading = data_test[label_index, t, 0]\n",
    "            X_test.append((history_readings, RLat, RLon))\n",
    "            Y_test.append(target_reading)\n",
    "    Y_test = torch.tensor(Y_test)\n",
    "    test_dataest = Geo_LSTM_Dataset(X_test, Y_test)\n",
    "    test_loader = DataLoader(test_dataest, batch_size=batch_size, shuffle=False)\n",
    "\n",
    "    return train_loader, test_loader\n"
   ]
  },
  {
   "cell_type": "code",
   "execution_count": 18,
   "metadata": {},
   "outputs": [
    {
     "name": "stdout",
     "output_type": "stream",
     "text": [
      "239 69\n"
     ]
    }
   ],
   "source": [
    "train_loader, test_loader = construct_dataloader(data)\n",
    "print(len(train_loader), len(test_loader))"
   ]
  },
  {
   "cell_type": "markdown",
   "metadata": {},
   "source": [
    "# Construct Model"
   ]
  },
  {
   "cell_type": "code",
   "execution_count": 19,
   "metadata": {},
   "outputs": [],
   "source": [
    "class Geo_Layer(nn.Module):\n",
    "    def __init__(self, K=4):\n",
    "        super(Geo_Layer, self).__init__()\n",
    "        self.K = K\n",
    "\n",
    "    def forward(self, X):\n",
    "        # history_readings: (batch_size, n_stations, window_size)\n",
    "        # RLat: (batch_size, n_stations)\n",
    "        # RLon: (batch_size, n_stations)\n",
    "        history_readings, RLat, RLon = X\n",
    "        batch_size, n_stations, window_size = history_readings.shape\n",
    "\n",
    "        # RDist, Rank, R_A: (batch_size, n_stations)\n",
    "        RDist = torch.sqrt(RLat**2 + RLon**2)\n",
    "        indice = torch.argsort(RDist)[:, :self.K]   # (batch_size, K)\n",
    "        nearby_readings = history_readings[torch.arange(batch_size)[:, None], indice]\n",
    "\n",
    "        return nearby_readings\n",
    "    \n",
    "class Geo_LSTM(nn.Module):\n",
    "    def __init__(self, K=4, num_layers=4, hidden_size=128, fc_hidden=1024):\n",
    "        super(Geo_LSTM, self).__init__()\n",
    "        self.geo_layer = Geo_Layer(K)\n",
    "        self.lstm = nn.LSTM(input_size=K, hidden_size=hidden_size,\n",
    "                            num_layers=num_layers, batch_first=True)\n",
    "        self.fc = nn.Sequential(*[\n",
    "            nn.Linear(hidden_size, fc_hidden),\n",
    "            nn.ReLU(),\n",
    "            nn.Linear(fc_hidden, 1)\n",
    "        ])\n",
    "\n",
    "    def forward(self, X):\n",
    "        # nearby_readings: (batch_size, window_size, K)\n",
    "        nearby_readings = self.geo_layer(X).permute(0, 2, 1).float()\n",
    "        # output: (batch_size, window_size, hidden_size) -> (batch_size, 1)\n",
    "        output, _ = self.lstm(nearby_readings)\n",
    "        output = self.fc(output[:, -1, :]).squeeze()\n",
    "        return output\n"
   ]
  },
  {
   "cell_type": "markdown",
   "metadata": {},
   "source": [
    "# Train"
   ]
  },
  {
   "cell_type": "code",
   "execution_count": 40,
   "metadata": {},
   "outputs": [
    {
     "name": "stdout",
     "output_type": "stream",
     "text": [
      "Epoch 1/100, Train Loss: 16.5414, Test Loss: 31.2485\n",
      "Model saved at ./model_weights2/geolstm.pt\n",
      "Epoch 2/100, Train Loss: 15.7367, Test Loss: 28.1042\n",
      "Model saved at ./model_weights2/geolstm.pt\n",
      "Epoch 3/100, Train Loss: 13.6701, Test Loss: 30.0912\n",
      "Epoch 4/100, Train Loss: 13.7107, Test Loss: 35.6252\n",
      "Epoch 5/100, Train Loss: 14.5203, Test Loss: 30.9043\n",
      "Epoch 6/100, Train Loss: 12.3737, Test Loss: 29.8547\n",
      "Epoch 7/100, Train Loss: 12.1259, Test Loss: 32.4155\n",
      "Epoch 8/100, Train Loss: 11.4377, Test Loss: 27.5355\n",
      "Model saved at ./model_weights2/geolstm.pt\n",
      "Epoch 9/100, Train Loss: 10.4718, Test Loss: 29.6916\n",
      "Epoch 10/100, Train Loss: 10.0157, Test Loss: 35.6552\n",
      "Epoch 11/100, Train Loss: 9.4000, Test Loss: 31.4157\n",
      "Epoch 12/100, Train Loss: 11.3364, Test Loss: 27.0907\n",
      "Model saved at ./model_weights2/geolstm.pt\n",
      "Epoch 13/100, Train Loss: 9.0546, Test Loss: 36.3665\n",
      "Epoch 14/100, Train Loss: 8.1821, Test Loss: 38.3247\n",
      "Epoch 15/100, Train Loss: 8.0330, Test Loss: 30.9375\n",
      "Epoch 16/100, Train Loss: 7.5013, Test Loss: 33.2979\n",
      "Epoch 17/100, Train Loss: 9.2077, Test Loss: 27.9358\n",
      "Epoch 18/100, Train Loss: 6.5855, Test Loss: 36.0938\n",
      "Epoch 19/100, Train Loss: 6.9815, Test Loss: 37.9662\n",
      "Epoch 20/100, Train Loss: 6.1755, Test Loss: 35.2344\n",
      "Epoch 21/100, Train Loss: 6.3462, Test Loss: 32.6798\n",
      "Epoch 22/100, Train Loss: 5.6358, Test Loss: 39.4848\n",
      "Epoch 23/100, Train Loss: 6.3698, Test Loss: 33.5107\n",
      "Epoch 24/100, Train Loss: 5.5570, Test Loss: 35.0458\n",
      "Epoch 25/100, Train Loss: 5.7885, Test Loss: 33.9681\n",
      "Epoch 26/100, Train Loss: 5.1900, Test Loss: 36.8888\n",
      "Epoch 27/100, Train Loss: 4.7227, Test Loss: 38.1327\n",
      "Epoch 28/100, Train Loss: 6.0332, Test Loss: 33.2749\n",
      "Epoch 29/100, Train Loss: 5.7396, Test Loss: 32.0849\n",
      "Epoch 30/100, Train Loss: 4.2968, Test Loss: 34.6863\n",
      "Epoch 31/100, Train Loss: 5.4610, Test Loss: 32.6274\n",
      "Epoch 32/100, Train Loss: 5.5830, Test Loss: 32.7792\n",
      "Epoch 33/100, Train Loss: 4.0904, Test Loss: 34.7940\n",
      "Epoch 34/100, Train Loss: 4.2144, Test Loss: 30.8602\n",
      "Epoch 35/100, Train Loss: 3.4710, Test Loss: 35.1039\n",
      "Epoch 36/100, Train Loss: 4.0297, Test Loss: 34.6123\n",
      "Epoch 37/100, Train Loss: 3.2254, Test Loss: 36.3880\n",
      "Epoch 38/100, Train Loss: 3.5775, Test Loss: 36.1527\n",
      "Epoch 39/100, Train Loss: 2.9641, Test Loss: 34.9109\n",
      "Epoch 40/100, Train Loss: 3.4312, Test Loss: 37.8171\n",
      "Epoch 41/100, Train Loss: 3.3157, Test Loss: 36.4092\n",
      "Epoch 42/100, Train Loss: 3.0258, Test Loss: 36.4829\n",
      "Epoch 43/100, Train Loss: 4.9196, Test Loss: 34.2606\n",
      "Epoch 44/100, Train Loss: 2.5895, Test Loss: 38.8895\n",
      "Epoch 45/100, Train Loss: 2.9880, Test Loss: 38.3594\n",
      "Epoch 46/100, Train Loss: 2.5264, Test Loss: 36.2021\n",
      "Epoch 47/100, Train Loss: 2.2446, Test Loss: 35.2379\n",
      "Epoch 48/100, Train Loss: 3.3325, Test Loss: 40.0532\n",
      "Epoch 49/100, Train Loss: 2.3280, Test Loss: 33.1075\n",
      "Epoch 50/100, Train Loss: 2.4225, Test Loss: 34.6331\n",
      "Epoch 51/100, Train Loss: 2.0789, Test Loss: 34.3081\n",
      "Epoch 52/100, Train Loss: 1.9865, Test Loss: 35.9627\n",
      "Epoch 53/100, Train Loss: 1.9683, Test Loss: 36.3745\n",
      "Epoch 54/100, Train Loss: 2.0710, Test Loss: 33.1603\n",
      "Epoch 55/100, Train Loss: 1.7517, Test Loss: 35.1641\n",
      "Epoch 56/100, Train Loss: 1.7296, Test Loss: 34.3871\n",
      "Epoch 57/100, Train Loss: 1.6214, Test Loss: 34.8363\n",
      "Epoch 58/100, Train Loss: 1.8162, Test Loss: 36.1662\n",
      "Epoch 59/100, Train Loss: 1.6394, Test Loss: 35.7304\n",
      "Epoch 60/100, Train Loss: 1.5195, Test Loss: 36.7063\n",
      "Epoch 61/100, Train Loss: 1.5459, Test Loss: 36.8183\n",
      "Epoch 62/100, Train Loss: 1.6964, Test Loss: 35.2813\n",
      "Epoch 63/100, Train Loss: 1.5481, Test Loss: 38.4981\n",
      "Epoch 64/100, Train Loss: 1.4580, Test Loss: 36.8851\n",
      "Epoch 65/100, Train Loss: 1.3426, Test Loss: 35.5061\n",
      "Epoch 66/100, Train Loss: 1.2948, Test Loss: 34.1393\n",
      "Epoch 67/100, Train Loss: 2.2981, Test Loss: 37.0212\n",
      "Epoch 68/100, Train Loss: 1.4074, Test Loss: 36.6001\n",
      "Epoch 69/100, Train Loss: 1.3072, Test Loss: 36.2983\n",
      "Epoch 70/100, Train Loss: 1.4765, Test Loss: 32.0922\n",
      "Epoch 71/100, Train Loss: 1.1698, Test Loss: 34.2524\n",
      "Epoch 72/100, Train Loss: 1.0353, Test Loss: 35.7068\n",
      "Epoch 73/100, Train Loss: 1.7425, Test Loss: 34.1385\n",
      "Epoch 74/100, Train Loss: 1.0286, Test Loss: 33.6974\n",
      "Epoch 75/100, Train Loss: 0.9842, Test Loss: 34.6968\n",
      "Epoch 76/100, Train Loss: 1.0327, Test Loss: 33.3316\n",
      "Epoch 77/100, Train Loss: 1.6542, Test Loss: 33.9491\n",
      "Epoch 78/100, Train Loss: 1.4471, Test Loss: 36.5118\n",
      "Epoch 79/100, Train Loss: 0.9081, Test Loss: 35.1380\n",
      "Epoch 80/100, Train Loss: 0.9896, Test Loss: 34.9552\n",
      "Epoch 81/100, Train Loss: 1.0574, Test Loss: 33.6070\n",
      "Epoch 82/100, Train Loss: 0.9561, Test Loss: 36.6647\n",
      "Epoch 83/100, Train Loss: 0.8103, Test Loss: 34.3806\n",
      "Epoch 84/100, Train Loss: 1.0424, Test Loss: 34.2004\n",
      "Epoch 85/100, Train Loss: 1.2513, Test Loss: 36.1936\n",
      "Epoch 86/100, Train Loss: 0.8957, Test Loss: 34.7100\n",
      "Epoch 87/100, Train Loss: 0.8551, Test Loss: 34.2410\n",
      "Epoch 88/100, Train Loss: 1.2489, Test Loss: 34.8595\n",
      "Epoch 89/100, Train Loss: 0.8375, Test Loss: 33.8338\n",
      "Epoch 90/100, Train Loss: 0.9902, Test Loss: 34.8110\n",
      "Epoch 91/100, Train Loss: 1.0165, Test Loss: 34.8792\n",
      "Epoch 92/100, Train Loss: 0.8387, Test Loss: 35.9405\n",
      "Epoch 93/100, Train Loss: 0.8946, Test Loss: 33.8994\n",
      "Epoch 94/100, Train Loss: 0.8124, Test Loss: 34.9706\n",
      "Epoch 95/100, Train Loss: 0.7989, Test Loss: 36.4839\n",
      "Epoch 96/100, Train Loss: 0.6910, Test Loss: 35.0783\n",
      "Epoch 97/100, Train Loss: 0.7171, Test Loss: 34.4412\n",
      "Epoch 98/100, Train Loss: 0.8435, Test Loss: 34.5387\n",
      "Epoch 99/100, Train Loss: 0.6650, Test Loss: 33.9661\n",
      "Epoch 100/100, Train Loss: 1.7416, Test Loss: 36.3436\n"
     ]
    }
   ],
   "source": [
    "batch_size = 64\n",
    "epochs = 100\n",
    "lr = 1e-3\n",
    "\n",
    "device = torch.device(\"cuda\" if torch.cuda.is_available() else \"cpu\")\n",
    "geo_lstm = Geo_LSTM().to(device)\n",
    "criterion = nn.MSELoss()\n",
    "optimizer = torch.optim.Adam(geo_lstm.parameters(), lr=lr)\n",
    "train_loader, test_loader = construct_dataloader(data, batch_size=batch_size)\n",
    "best_loss = 1e10\n",
    "save_path = f\"./model_weights2/geolstm.pt\"\n",
    "for epoch in range(epochs):\n",
    "    for X, Y in train_loader:\n",
    "        X = (X[0].to(device), X[1].to(device), X[2].to(device))\n",
    "        Y = Y.to(device)\n",
    "        optimizer.zero_grad()\n",
    "        Y_pred = geo_lstm(X)\n",
    "        loss = criterion(Y_pred, Y.float())\n",
    "        loss.backward()\n",
    "        optimizer.step()\n",
    "\n",
    "    # Evaluate on train and test set\n",
    "    with torch.no_grad():\n",
    "        train_loss = 0\n",
    "        for X, Y in train_loader:\n",
    "            X = (X[0].to(device), X[1].to(device), X[2].to(device))\n",
    "            Y = Y.to(device)\n",
    "            Y_pred = geo_lstm(X)\n",
    "            train_loss += criterion(Y_pred, Y).item()\n",
    "        train_loss /= len(train_loader)\n",
    "\n",
    "    with torch.no_grad():\n",
    "        test_loss = 0\n",
    "        for X, Y in test_loader:\n",
    "            X = (X[0].to(device), X[1].to(device), X[2].to(device))\n",
    "            Y = Y.to(device)\n",
    "            Y_pred = geo_lstm(X)\n",
    "            test_loss += criterion(Y_pred, Y).item()\n",
    "        test_loss /= len(test_loader)\n",
    "    \n",
    "    print(f\"Epoch {epoch+1}/{epochs}, Train Loss: {train_loss:.4f}, Test Loss: {test_loss:.4f}\")\n",
    "\n",
    "    # save model\n",
    "    if test_loss < best_loss:\n",
    "        best_loss = test_loss\n",
    "        torch.save(geo_lstm.state_dict(), save_path)\n",
    "        print(f\"Model saved at {save_path}\")"
   ]
  },
  {
   "cell_type": "code",
   "execution_count": 57,
   "metadata": {},
   "outputs": [
    {
     "name": "stdout",
     "output_type": "stream",
     "text": [
      "RMSE:  6.037914115878682\n",
      "CVRMSE:  0.4725213670375175\n",
      "MAE:  4.016839099237248\n",
      "R2:  0.5572499000244238\n"
     ]
    }
   ],
   "source": [
    "Y_pred_all = []\n",
    "Y_true_all = []\n",
    "with torch.no_grad():\n",
    "    for X, Y in test_loader:\n",
    "        X = (X[0].to(device), X[1].to(device), X[2].to(device))\n",
    "        Y = Y.to(device)\n",
    "        Y_pred = geo_lstm(X)\n",
    "        Y_pred_all.append(Y_pred.cpu().numpy())\n",
    "        Y_true_all.append(Y.cpu().numpy())\n",
    "Y_pred_all = np.concatenate(Y_pred_all)\n",
    "Y_true_all = np.concatenate(Y_true_all)\n",
    "RMSE = np.sqrt(np.mean((Y_pred_all - Y_true_all)**2))\n",
    "CVRMSE = RMSE / Y_true_all.mean()\n",
    "MAE = np.mean(np.abs(Y_pred_all - Y_true_all))\n",
    "R2 = 1 - np.sum((Y_pred_all - Y_true_all)**2) / np.sum((Y_true_all - Y_true_all.mean())**2)\n",
    "print(\"RMSE: \", RMSE)\n",
    "print(\"CVRMSE: \", CVRMSE)\n",
    "print(\"MAE: \", MAE)\n",
    "print(\"R2: \", R2)"
   ]
  },
  {
   "cell_type": "code",
   "execution_count": 59,
   "metadata": {},
   "outputs": [
    {
     "data": {
      "text/plain": [
       "0.04552248"
      ]
     },
     "execution_count": 59,
     "metadata": {},
     "output_type": "execute_result"
    }
   ],
   "source": [
    "Y_pred_all.min()"
   ]
  },
  {
   "cell_type": "code",
   "execution_count": 41,
   "metadata": {},
   "outputs": [],
   "source": [
    "for batch in test_loader:\n",
    "    X, Y = batch\n",
    "    break"
   ]
  },
  {
   "cell_type": "code",
   "execution_count": 51,
   "metadata": {},
   "outputs": [
    {
     "data": {
      "text/plain": [
       "tensor(6.8877, dtype=torch.float64)"
      ]
     },
     "execution_count": 51,
     "metadata": {},
     "output_type": "execute_result"
    }
   ],
   "source": [
    "X[0][0, :, -1].mean()"
   ]
  },
  {
   "cell_type": "code",
   "execution_count": 48,
   "metadata": {},
   "outputs": [
    {
     "data": {
      "text/plain": [
       "tensor(5.8650, dtype=torch.float64)"
      ]
     },
     "execution_count": 48,
     "metadata": {},
     "output_type": "execute_result"
    }
   ],
   "source": [
    "Y[0]"
   ]
  },
  {
   "cell_type": "code",
   "execution_count": 49,
   "metadata": {},
   "outputs": [
    {
     "data": {
      "text/html": [
       "<div>\n",
       "<style scoped>\n",
       "    .dataframe tbody tr th:only-of-type {\n",
       "        vertical-align: middle;\n",
       "    }\n",
       "\n",
       "    .dataframe tbody tr th {\n",
       "        vertical-align: top;\n",
       "    }\n",
       "\n",
       "    .dataframe thead th {\n",
       "        text-align: right;\n",
       "    }\n",
       "</style>\n",
       "<table border=\"1\" class=\"dataframe\">\n",
       "  <thead>\n",
       "    <tr style=\"text-align: right;\">\n",
       "      <th></th>\n",
       "      <th>year</th>\n",
       "      <th>month</th>\n",
       "      <th>day</th>\n",
       "      <th>hour</th>\n",
       "      <th>pm25</th>\n",
       "      <th>longitude</th>\n",
       "      <th>latitude</th>\n",
       "    </tr>\n",
       "  </thead>\n",
       "  <tbody>\n",
       "    <tr>\n",
       "      <th>0</th>\n",
       "      <td>2023</td>\n",
       "      <td>10</td>\n",
       "      <td>1</td>\n",
       "      <td>0</td>\n",
       "      <td>5.910</td>\n",
       "      <td>-119.73364</td>\n",
       "      <td>36.67353</td>\n",
       "    </tr>\n",
       "    <tr>\n",
       "      <th>1</th>\n",
       "      <td>2023</td>\n",
       "      <td>10</td>\n",
       "      <td>1</td>\n",
       "      <td>1</td>\n",
       "      <td>6.165</td>\n",
       "      <td>-119.73364</td>\n",
       "      <td>36.67353</td>\n",
       "    </tr>\n",
       "    <tr>\n",
       "      <th>2</th>\n",
       "      <td>2023</td>\n",
       "      <td>10</td>\n",
       "      <td>1</td>\n",
       "      <td>2</td>\n",
       "      <td>6.665</td>\n",
       "      <td>-119.73364</td>\n",
       "      <td>36.67353</td>\n",
       "    </tr>\n",
       "    <tr>\n",
       "      <th>3</th>\n",
       "      <td>2023</td>\n",
       "      <td>10</td>\n",
       "      <td>1</td>\n",
       "      <td>3</td>\n",
       "      <td>7.245</td>\n",
       "      <td>-119.73364</td>\n",
       "      <td>36.67353</td>\n",
       "    </tr>\n",
       "    <tr>\n",
       "      <th>4</th>\n",
       "      <td>2023</td>\n",
       "      <td>10</td>\n",
       "      <td>1</td>\n",
       "      <td>4</td>\n",
       "      <td>8.355</td>\n",
       "      <td>-119.73364</td>\n",
       "      <td>36.67353</td>\n",
       "    </tr>\n",
       "    <tr>\n",
       "      <th>...</th>\n",
       "      <td>...</td>\n",
       "      <td>...</td>\n",
       "      <td>...</td>\n",
       "      <td>...</td>\n",
       "      <td>...</td>\n",
       "      <td>...</td>\n",
       "      <td>...</td>\n",
       "    </tr>\n",
       "    <tr>\n",
       "      <th>2203</th>\n",
       "      <td>2023</td>\n",
       "      <td>12</td>\n",
       "      <td>31</td>\n",
       "      <td>19</td>\n",
       "      <td>5.250</td>\n",
       "      <td>-119.73364</td>\n",
       "      <td>36.67353</td>\n",
       "    </tr>\n",
       "    <tr>\n",
       "      <th>2204</th>\n",
       "      <td>2023</td>\n",
       "      <td>12</td>\n",
       "      <td>31</td>\n",
       "      <td>20</td>\n",
       "      <td>5.255</td>\n",
       "      <td>-119.73364</td>\n",
       "      <td>36.67353</td>\n",
       "    </tr>\n",
       "    <tr>\n",
       "      <th>2205</th>\n",
       "      <td>2023</td>\n",
       "      <td>12</td>\n",
       "      <td>31</td>\n",
       "      <td>21</td>\n",
       "      <td>5.790</td>\n",
       "      <td>-119.73364</td>\n",
       "      <td>36.67353</td>\n",
       "    </tr>\n",
       "    <tr>\n",
       "      <th>2206</th>\n",
       "      <td>2023</td>\n",
       "      <td>12</td>\n",
       "      <td>31</td>\n",
       "      <td>22</td>\n",
       "      <td>5.520</td>\n",
       "      <td>-119.73364</td>\n",
       "      <td>36.67353</td>\n",
       "    </tr>\n",
       "    <tr>\n",
       "      <th>2207</th>\n",
       "      <td>2023</td>\n",
       "      <td>12</td>\n",
       "      <td>31</td>\n",
       "      <td>23</td>\n",
       "      <td>4.990</td>\n",
       "      <td>-119.73364</td>\n",
       "      <td>36.67353</td>\n",
       "    </tr>\n",
       "  </tbody>\n",
       "</table>\n",
       "<p>2208 rows × 7 columns</p>\n",
       "</div>"
      ],
      "text/plain": [
       "      year  month  day  hour   pm25  longitude  latitude\n",
       "0     2023     10    1     0  5.910 -119.73364  36.67353\n",
       "1     2023     10    1     1  6.165 -119.73364  36.67353\n",
       "2     2023     10    1     2  6.665 -119.73364  36.67353\n",
       "3     2023     10    1     3  7.245 -119.73364  36.67353\n",
       "4     2023     10    1     4  8.355 -119.73364  36.67353\n",
       "...    ...    ...  ...   ...    ...        ...       ...\n",
       "2203  2023     12   31    19  5.250 -119.73364  36.67353\n",
       "2204  2023     12   31    20  5.255 -119.73364  36.67353\n",
       "2205  2023     12   31    21  5.790 -119.73364  36.67353\n",
       "2206  2023     12   31    22  5.520 -119.73364  36.67353\n",
       "2207  2023     12   31    23  4.990 -119.73364  36.67353\n",
       "\n",
       "[2208 rows x 7 columns]"
      ]
     },
     "execution_count": 49,
     "metadata": {},
     "output_type": "execute_result"
    }
   ],
   "source": [
    "df"
   ]
  },
  {
   "cell_type": "code",
   "execution_count": 52,
   "metadata": {},
   "outputs": [
    {
     "data": {
      "text/plain": [
       "tensor([ 8.6459,  8.7520,  8.8508,  8.9446,  9.0471,  9.1492,  9.2306,  9.2463,\n",
       "         9.2213,  9.2203,  9.1843,  9.1588,  9.1363,  9.0978,  9.0500,  9.0122,\n",
       "         8.9825,  9.0739,  9.2106,  9.2890,  9.2582,  9.1897,  9.1461,  9.1211,\n",
       "         9.1175,  9.1025,  9.0897,  9.0827,  9.0527,  9.0140,  8.9652,  8.9483,\n",
       "         8.9429,  8.9328,  8.9823,  9.0630,  9.1803,  9.3503,  9.5614,  9.7992,\n",
       "        10.0150, 10.0885, 10.1169, 10.1212, 10.1045, 10.1421, 10.1959, 10.2541,\n",
       "        10.3001, 10.3498, 10.4064, 10.5052, 10.6040, 10.7168, 10.8347, 10.9386,\n",
       "        11.0125, 11.0694, 11.1202, 11.1275, 11.0932, 11.0208, 10.9223, 10.8031],\n",
       "       dtype=torch.float64)"
      ]
     },
     "execution_count": 52,
     "metadata": {},
     "output_type": "execute_result"
    }
   ],
   "source": [
    "torch.mean(X[0], dim=(1,2))"
   ]
  },
  {
   "cell_type": "code",
   "execution_count": 56,
   "metadata": {},
   "outputs": [
    {
     "name": "stdout",
     "output_type": "stream",
     "text": [
      "RMSE: 5.5349, CVRMSE: 0.4332, MAE: 3.9084\n"
     ]
    }
   ],
   "source": [
    "Y_pred_all = []\n",
    "Y_true_all = []\n",
    "for X, Y in test_loader:\n",
    "    history_readings = X[0]\n",
    "    Y_pred = torch.mean(history_readings[:, :, -1], dim=1)\n",
    "    Y_pred_all.append(Y_pred)\n",
    "    Y_true_all.append(Y)\n",
    "Y_pred_all = torch.cat(Y_pred_all)\n",
    "Y_true_all = torch.cat(Y_true_all)\n",
    "RMSE = torch.sqrt(torch.mean((Y_pred_all - Y_true_all)**2))\n",
    "CVRMSE = RMSE / Y_true_all.mean()\n",
    "MAE = torch.mean(torch.abs(Y_pred_all - Y_true_all))\n",
    "print(f\"RMSE: {RMSE:.4f}, CVRMSE: {CVRMSE:.4f}, MAE: {MAE:.4f}\")"
   ]
  },
  {
   "cell_type": "code",
   "execution_count": null,
   "metadata": {},
   "outputs": [],
   "source": []
  }
 ],
 "metadata": {
  "kernelspec": {
   "display_name": "torch",
   "language": "python",
   "name": "python3"
  },
  "language_info": {
   "codemirror_mode": {
    "name": "ipython",
    "version": 3
   },
   "file_extension": ".py",
   "mimetype": "text/x-python",
   "name": "python",
   "nbconvert_exporter": "python",
   "pygments_lexer": "ipython3",
   "version": "3.10.9"
  }
 },
 "nbformat": 4,
 "nbformat_minor": 2
}
