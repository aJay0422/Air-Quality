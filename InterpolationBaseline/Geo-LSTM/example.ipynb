{
 "cells": [
  {
   "cell_type": "code",
   "execution_count": 147,
   "metadata": {},
   "outputs": [],
   "source": [
    "import torch\n",
    "import torch.nn as nn\n",
    "from torch.utils.data import Dataset, DataLoader\n",
    "from tqdm import tqdm\n",
    "import numpy as np\n",
    "import pandas as pd\n",
    "import os"
   ]
  },
  {
   "cell_type": "markdown",
   "metadata": {},
   "source": [
    "# Prepare Data"
   ]
  },
  {
   "cell_type": "code",
   "execution_count": 11,
   "metadata": {},
   "outputs": [],
   "source": [
    "def average_hour(df):\n",
    "    df['timestamp'] = pd.to_datetime(df['timestamp'])\n",
    "    df['year'] = df['timestamp'].dt.year\n",
    "    df['month'] = df['timestamp'].dt.month\n",
    "    df['day'] = df['timestamp'].dt.day\n",
    "    df['hour'] = df['timestamp'].dt.hour\n",
    "    df = df[['year', 'month', 'day', 'hour', 'pm25', 'latitude', 'longitude']]\n",
    "    df = df.groupby(['year', 'month', 'day', 'hour']).mean()\n",
    "    df = df.reset_index(drop=True)\n",
    "    return df"
   ]
  },
  {
   "cell_type": "code",
   "execution_count": 16,
   "metadata": {},
   "outputs": [
    {
     "name": "stdout",
     "output_type": "stream",
     "text": [
      "(8, 168, 3)\n"
     ]
    }
   ],
   "source": [
    "data_dir = \"../data/Jan1524_Jan2224/\"\n",
    "data_files = [file for file in os.listdir(data_dir) if file.endswith(\".csv\")]\n",
    "data = []\n",
    "for file in data_files:\n",
    "    df = pd.read_csv(data_dir + file, index_col=0)\n",
    "    df.loc[df[\"pm25\"] < 0, 'pm25'] = 0\n",
    "    df = average_hour(df)\n",
    "    data.append(df.to_numpy())\n",
    "data = np.array(data)\n",
    "print(data.shape)"
   ]
  },
  {
   "cell_type": "code",
   "execution_count": 40,
   "metadata": {},
   "outputs": [],
   "source": [
    "class Geo_LSTM_Dataset(Dataset):\n",
    "    def __init__(self, X, Y):\n",
    "        self.X = X\n",
    "        self.Y = Y\n",
    "            \n",
    "    def __len__(self):\n",
    "        return len(self.X)\n",
    "    \n",
    "    def __getitem__(self, index):\n",
    "        return self.X[index], self.Y[index]\n",
    "    \n",
    "def construct_dataloader(data, test_index, window_size=24, batch_size=16):\n",
    "    data_train = np.concatenate([data[:test_index], data[test_index+1:]], axis=0)\n",
    "    data_test = data[test_index:test_index+1]\n",
    "    X_train = []\n",
    "    Y_train = []\n",
    "    X_test = []\n",
    "    Y_test = []\n",
    "\n",
    "    # construct training dataset\n",
    "    for label_index in range(len(data_train)):\n",
    "        X = np.concatenate([data_train[:label_index], data[label_index+1:]], axis=0)\n",
    "        Y = data_train[label_index:label_index+1]\n",
    "        RLat = torch.from_numpy(Y[0, 0, 1] - X[:, 0, 1])\n",
    "        RLon = torch.from_numpy(Y[0, 0, 2] - X[:, 0, 2])\n",
    "        for t in range(window_size-1, X.shape[1]):\n",
    "            history_readings = torch.from_numpy(X[:, t-window_size+1:t+1, 0])\n",
    "            target_reading = Y[0, t, 0]\n",
    "            X_train.append((history_readings, RLat, RLon))\n",
    "            Y_train.append(target_reading)\n",
    "    Y_train = torch.tensor(Y_train)\n",
    "    train_dataset = Geo_LSTM_Dataset(X_train, Y_train)\n",
    "    train_loader = DataLoader(train_dataset, batch_size=batch_size, shuffle=True)\n",
    "\n",
    "    # Construct testing dataset\n",
    "    RLat = torch.from_numpy(data_test[0, 0, 1] - data_train[:, 0, 1])\n",
    "    RLon = torch.from_numpy(data_test[0, 0, 2] - data_train[:, 0, 2])\n",
    "    for t in range(window_size-1, data_test.shape[1]):\n",
    "        history_readings = torch.from_numpy(data_train[:, t-window_size+1:t+1, 0])\n",
    "        target_reading = data_test[0, t, 0]\n",
    "        X_test.append((history_readings, RLat, RLon))\n",
    "        Y_test.append(target_reading)\n",
    "    Y_test = torch.tensor(Y_test)\n",
    "    test_dataset = Geo_LSTM_Dataset(X_test, Y_test)\n",
    "    test_loader = DataLoader(test_dataset, batch_size=batch_size, shuffle=False)\n",
    "    return train_loader, test_loader"
   ]
  },
  {
   "cell_type": "code",
   "execution_count": 125,
   "metadata": {},
   "outputs": [],
   "source": [
    "train_loader, test_loader = construct_dataloader(data, 0)"
   ]
  },
  {
   "cell_type": "markdown",
   "metadata": {},
   "source": [
    "# Construct Model"
   ]
  },
  {
   "cell_type": "code",
   "execution_count": 143,
   "metadata": {},
   "outputs": [],
   "source": [
    "class Geo_Layer(nn.Module):\n",
    "    def __init__(self, K=4):\n",
    "        super(Geo_Layer, self).__init__()\n",
    "        self.K = K\n",
    "\n",
    "    def forward(self, X):\n",
    "        # history_readings: (batch_size, n_stations, window_size)\n",
    "        # RLat: (batch_size, n_stations)\n",
    "        # RLon: (batch_size, n_stations)\n",
    "        history_readings, RLat, RLon = X\n",
    "        batch_size, n_stations, window_size = history_readings.shape\n",
    "\n",
    "        # RDist, Rank, R_A: (batch_size, n_stations)\n",
    "        RDist = torch.sqrt(RLat**2 + RLon**2)\n",
    "        indice = torch.argsort(RDist)[:, :self.K]   # (batch_size, K)\n",
    "        nearby_readings = history_readings[torch.arange(batch_size)[:, None], indice]\n",
    "\n",
    "        return nearby_readings\n",
    "    \n",
    "class Geo_LSTM(nn.Module):\n",
    "    def __init__(self, K=4, num_layers=4, hidden_size=128, fc_hidden=1024):\n",
    "        super(Geo_LSTM, self).__init__()\n",
    "        self.geo_layer = Geo_Layer(K)\n",
    "        self.lstm = nn.LSTM(input_size=K, hidden_size=hidden_size,\n",
    "                            num_layers=num_layers, batch_first=True)\n",
    "        self.fc = nn.Sequential(*[\n",
    "            nn.Linear(hidden_size, fc_hidden),\n",
    "            nn.ReLU(),\n",
    "            nn.Linear(fc_hidden, 1)\n",
    "        ])\n",
    "\n",
    "    def forward(self, X):\n",
    "        # nearby_readings: (batch_size, window_size, K)\n",
    "        nearby_readings = self.geo_layer(X).permute(0, 2, 1).float()\n",
    "        # output: (batch_size, window_size, hidden_size) -> (batch_size, 1)\n",
    "        output, _ = self.lstm(nearby_readings)\n",
    "        output = self.fc(output[:, -1, :]).squeeze()\n",
    "        return output\n"
   ]
  },
  {
   "cell_type": "markdown",
   "metadata": {},
   "source": [
    "# LOOCV"
   ]
  },
  {
   "cell_type": "code",
   "execution_count": 148,
   "metadata": {},
   "outputs": [
    {
     "name": "stderr",
     "output_type": "stream",
     "text": [
      "100%|██████████| 1000/1000 [16:48<00:00,  1.01s/it]\n",
      "100%|██████████| 1000/1000 [16:53<00:00,  1.01s/it]\n",
      "100%|██████████| 1000/1000 [16:52<00:00,  1.01s/it]\n",
      "100%|██████████| 1000/1000 [17:14<00:00,  1.03s/it]\n",
      "100%|██████████| 1000/1000 [17:24<00:00,  1.04s/it]\n",
      "100%|██████████| 1000/1000 [16:57<00:00,  1.02s/it]\n",
      "100%|██████████| 1000/1000 [17:40<00:00,  1.06s/it]\n",
      "100%|██████████| 1000/1000 [17:10<00:00,  1.03s/it]\n"
     ]
    }
   ],
   "source": [
    "batch_size = 64\n",
    "epochs = 1000\n",
    "lr = 1e-3\n",
    "for test_idx in range(len(data_files)):\n",
    "    geo_lstm = Geo_LSTM()\n",
    "    criterion = nn.MSELoss()\n",
    "    optimizer = torch.optim.RMSprop(geo_lstm.parameters(), lr=lr)\n",
    "    train_loader, test_loader = construct_dataloader(data, test_idx, batch_size=batch_size)\n",
    "    best_loss = 1e10\n",
    "    save_path = f\"./model_weights/geolstm_{test_idx}.pt\"\n",
    "    for epoch in tqdm(range(epochs)):\n",
    "        for X, Y in train_loader:\n",
    "            optimizer.zero_grad()\n",
    "            Y_pred = geo_lstm(X)\n",
    "            loss = criterion(Y_pred, Y.float())\n",
    "            loss.backward()\n",
    "            optimizer.step()\n",
    "    \n",
    "        # Evaluate on train and test set\n",
    "        with torch.no_grad():\n",
    "            train_loss = 0\n",
    "            for X, Y in train_loader:\n",
    "                Y_pred = geo_lstm(X)\n",
    "                loss = criterion(Y_pred, Y.float())\n",
    "                train_loss += loss.item()\n",
    "            train_loss /= len(train_loader)\n",
    "\n",
    "        # save if the model is the best\n",
    "        if train_loss < best_loss:\n",
    "            best_loss = train_loss\n",
    "            torch.save(geo_lstm.state_dict(), save_path)\n"
   ]
  },
  {
   "cell_type": "code",
   "execution_count": 149,
   "metadata": {},
   "outputs": [
    {
     "name": "stdout",
     "output_type": "stream",
     "text": [
      "2.2678692654240002\n"
     ]
    }
   ],
   "source": [
    "RMSEs = []\n",
    "for test_idx in range(len(data_files)):\n",
    "    geo_lstm = Geo_LSTM()\n",
    "    geo_lstm.load_state_dict(torch.load(f\"./model_weights/geolstm_{test_idx}.pt\"))\n",
    "    geo_lstm.eval()\n",
    "    residuals = []\n",
    "    for X, Y in test_loader:\n",
    "        Y_pred = geo_lstm(X)\n",
    "        residuals.append(Y_pred - Y)\n",
    "    residuals = torch.cat(residuals, dim=0)\n",
    "    RMSE = torch.sqrt(torch.mean(residuals**2)).item()\n",
    "    RMSEs.append(RMSE)\n",
    "print(np.mean(RMSEs))"
   ]
  }
 ],
 "metadata": {
  "kernelspec": {
   "display_name": "env_ai",
   "language": "python",
   "name": "python3"
  },
  "language_info": {
   "codemirror_mode": {
    "name": "ipython",
    "version": 3
   },
   "file_extension": ".py",
   "mimetype": "text/x-python",
   "name": "python",
   "nbconvert_exporter": "python",
   "pygments_lexer": "ipython3",
   "version": "3.8.18"
  }
 },
 "nbformat": 4,
 "nbformat_minor": 2
}
