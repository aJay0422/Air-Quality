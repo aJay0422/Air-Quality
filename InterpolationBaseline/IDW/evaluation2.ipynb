{
 "cells": [
  {
   "cell_type": "code",
   "execution_count": 2,
   "metadata": {},
   "outputs": [],
   "source": [
    "import pandas as pd\n",
    "import numpy as np\n",
    "import matplotlib.pyplot as plt\n",
    "import matplotlib as mpl\n",
    "import os\n",
    "from tqdm import tqdm"
   ]
  },
  {
   "cell_type": "markdown",
   "metadata": {},
   "source": [
    "# Prepare Data"
   ]
  },
  {
   "cell_type": "code",
   "execution_count": 3,
   "metadata": {},
   "outputs": [
    {
     "name": "stdout",
     "output_type": "stream",
     "text": [
      "One outlier dropped\n",
      "One outlier dropped\n",
      "One outlier dropped\n",
      "One outlier dropped\n",
      "One outlier dropped\n",
      "One outlier dropped\n",
      "One outlier dropped\n",
      "One outlier dropped\n",
      "One outlier dropped\n",
      "One outlier dropped\n",
      "(2208, 36, 2) (2208, 36)\n"
     ]
    }
   ],
   "source": [
    "data_dir = \"../data/Oct0123_Dec3123/\"\n",
    "data_files = [file for file in os.listdir(data_dir) if file.endswith(\".csv\")]\n",
    "data = []\n",
    "for file in data_files:\n",
    "    df = pd.read_csv(data_dir + file, index_col=0)\n",
    "    df.loc[df[\"pm25\"] < 0, \"pm25\"] = 0\n",
    "    if df[\"pm25\"].max() > 500:\n",
    "        print(\"One outlier dropped\")\n",
    "        continue\n",
    "    \n",
    "    # decompose timestamp\n",
    "    df[\"timestamp\"] = pd.to_datetime(df[\"timestamp\"])\n",
    "    df[\"hour\"] = df[\"timestamp\"].dt.hour\n",
    "    df[\"day\"] = df[\"timestamp\"].dt.day\n",
    "    df[\"month\"] = df[\"timestamp\"].dt.month\n",
    "    df[\"year\"] = df[\"timestamp\"].dt.year\n",
    "    df = df.loc[:, [\"year\", \"month\", \"day\", \"hour\", \"pm25\", \"longitude\", \"latitude\"]]\n",
    "    df = df.groupby([\"year\", \"month\", \"day\", \"hour\"]).median().reset_index(drop=False)\n",
    "    if len(df) < ((31 + 30 + 31) * 24):\n",
    "        continue\n",
    "    else:\n",
    "        data.append(df.loc[:, [\"pm25\", \"longitude\", \"latitude\"]].to_numpy())\n",
    "data = np.array(data).transpose(1, 0, 2)\n",
    "X = data[:, :, 1:]\n",
    "Y = data[:, :, 0]\n",
    "print(X.shape, Y.shape)\n"
   ]
  },
  {
   "cell_type": "code",
   "execution_count": 4,
   "metadata": {},
   "outputs": [],
   "source": [
    "def pm25_aqi(pm25):\n",
    "    pm25 = np.clip(pm25, 0, 500)\n",
    "    breakpoints = np.array([\n",
    "        (0.0, 12.0, 0, 50),\n",
    "        (12.1, 35.4, 51, 100),\n",
    "        (35.5, 55.4, 101, 150),\n",
    "        (55.5, 150.4, 151, 200),\n",
    "        (150.5, 250.4, 201, 300),\n",
    "        (250.5, 350.4, 301, 400),\n",
    "        (350.5, 500.4, 401, 500)\n",
    "    ])\n",
    "\n",
    "    aqi = np.zeros_like(pm25)\n",
    "\n",
    "    for i, (bp_lo, bp_hi, aqi_lo, aqi_hi) in enumerate(breakpoints):\n",
    "        mask = (pm25 >= bp_lo) & (pm25 <= bp_hi)\n",
    "        aqi[mask] = ((aqi_hi - aqi_lo) / (bp_hi - bp_lo)) * (pm25[mask] - bp_lo) + aqi_lo\n",
    "\n",
    "    return aqi\n",
    "\n",
    "Y = pm25_aqi(Y)"
   ]
  },
  {
   "cell_type": "markdown",
   "metadata": {},
   "source": [
    "# Interpolation Algorithm"
   ]
  },
  {
   "cell_type": "code",
   "execution_count": 5,
   "metadata": {},
   "outputs": [],
   "source": [
    "class IDW:\n",
    "    def __init__(self, X, Y):\n",
    "        \"\"\"\n",
    "        X: (n, d), n is the number of samples, d is the dimension of feature vectors\n",
    "        Y: (n, ), n is the number of samples\n",
    "        \"\"\"\n",
    "        self.X = X\n",
    "        self.Y = Y\n",
    "\n",
    "    def predict(self, X_test, p=2):\n",
    "        \"\"\"\n",
    "        X_test: (m, d), m is the number of test samples, d is the dimension of feature vectors\n",
    "        p: the power of distance\n",
    "        \"\"\"\n",
    "        # construct distance matrix\n",
    "        dist_matrix = np.zeros((X_test.shape[0], self.X.shape[0]))\n",
    "        for i in range(X_test.shape[0]):\n",
    "            for j in range(self.X.shape[0]):\n",
    "                dist = np.linalg.norm(X_test[i] - self.X[j])\n",
    "                dist_matrix[i, j] = dist\n",
    "        \n",
    "        # construct weight matrix\n",
    "        weight_matrix = 1 / np.power(dist_matrix, p)\n",
    "\n",
    "        # normalize weight matrix\n",
    "        weight_matrix = weight_matrix / np.sum(weight_matrix, axis=1, keepdims=True)\n",
    "        self.weight_matrix = weight_matrix\n",
    "\n",
    "        # predict\n",
    "        Y_pred = np.matmul(weight_matrix, self.Y)\n",
    "        return Y_pred\n"
   ]
  },
  {
   "cell_type": "markdown",
   "metadata": {},
   "source": [
    "# LOOCV"
   ]
  },
  {
   "cell_type": "code",
   "execution_count": 6,
   "metadata": {},
   "outputs": [],
   "source": [
    "n_steps = X.shape[0]\n",
    "n_stations = X.shape[1]"
   ]
  },
  {
   "cell_type": "code",
   "execution_count": 49,
   "metadata": {},
   "outputs": [
    {
     "name": "stderr",
     "output_type": "stream",
     "text": [
      "100%|██████████| 2208/2208 [00:05<00:00, 377.71it/s]"
     ]
    },
    {
     "name": "stdout",
     "output_type": "stream",
     "text": [
      "RMSE:  4.853051776119763\n",
      "CVRMSE:  0.35487548522829593\n",
      "MAE:  2.991607173178393\n"
     ]
    },
    {
     "name": "stderr",
     "output_type": "stream",
     "text": [
      "\n"
     ]
    }
   ],
   "source": [
    "# concentration\n",
    "Y_true_all = []\n",
    "Y_pred_all = []\n",
    "for t in tqdm(range(n_steps)):\n",
    "    for i in range(n_stations):\n",
    "        X_train = np.concatenate((X[t, :i], X[t, i+1:]), axis=0)\n",
    "        X_test = X[t, i:i+1]\n",
    "        Y_train = np.concatenate((Y[t, :i], Y[t, i+1:]), axis=0)\n",
    "        Y_test = Y[t, i:i+1]\n",
    "        idw = IDW(X_train, Y_train)\n",
    "        Y_pred = idw.predict(X_test)\n",
    "        Y_true_all.append(Y_test)\n",
    "        Y_pred_all.append(Y_pred)\n",
    "Y_true_all = np.array(Y_true_all).flatten()\n",
    "Y_pred_all = np.array(Y_pred_all).flatten()\n",
    "RMSE = np.sqrt(np.mean((Y_true_all - Y_pred_all) ** 2))\n",
    "CVRMSE = RMSE / np.mean(Y_true_all)\n",
    "MAE = np.mean(np.abs(Y_true_all - Y_pred_all))\n",
    "print(\"RMSE: \", RMSE)\n",
    "print(\"CVRMSE: \", CVRMSE)\n",
    "print(\"MAE: \", MAE)"
   ]
  },
  {
   "cell_type": "code",
   "execution_count": 7,
   "metadata": {},
   "outputs": [
    {
     "name": "stderr",
     "output_type": "stream",
     "text": [
      "100%|██████████| 2208/2208 [00:11<00:00, 184.47it/s]"
     ]
    },
    {
     "name": "stdout",
     "output_type": "stream",
     "text": [
      "RMSE:  13.704450336492812\n",
      "CVRMSE:  0.2884340075370616\n",
      "MAE:  8.905414827367949\n"
     ]
    },
    {
     "name": "stderr",
     "output_type": "stream",
     "text": [
      "\n"
     ]
    }
   ],
   "source": [
    "# aqi\n",
    "Y_true_all = []\n",
    "Y_pred_all = []\n",
    "for t in tqdm(range(n_steps)):\n",
    "    for i in range(n_stations):\n",
    "        X_train = np.concatenate((X[t, :i], X[t, i+1:]), axis=0)\n",
    "        X_test = X[t, i:i+1]\n",
    "        Y_train = np.concatenate((Y[t, :i], Y[t, i+1:]), axis=0)\n",
    "        Y_test = Y[t, i:i+1]\n",
    "        idw = IDW(X_train, Y_train)\n",
    "        Y_pred = idw.predict(X_test)\n",
    "        Y_true_all.append(Y_test)\n",
    "        Y_pred_all.append(Y_pred)\n",
    "Y_true_all = np.array(Y_true_all).flatten()\n",
    "Y_pred_all = np.array(Y_pred_all).flatten()\n",
    "RMSE = np.sqrt(np.mean((Y_true_all - Y_pred_all) ** 2))\n",
    "CVRMSE = RMSE / np.mean(Y_true_all)\n",
    "MAE = np.mean(np.abs(Y_true_all - Y_pred_all))\n",
    "print(\"RMSE: \", RMSE)\n",
    "print(\"CVRMSE: \", CVRMSE)\n",
    "print(\"MAE: \", MAE)"
   ]
  },
  {
   "cell_type": "code",
   "execution_count": 8,
   "metadata": {},
   "outputs": [
    {
     "name": "stdout",
     "output_type": "stream",
     "text": [
      "R2:  0.7697998854678998\n"
     ]
    }
   ],
   "source": [
    "R2 = 1 - np.sum((Y_true_all - Y_pred_all) ** 2) / np.sum((Y_true_all - np.mean(Y_true_all)) ** 2)\n",
    "print(\"R2: \", R2)"
   ]
  },
  {
   "cell_type": "code",
   "execution_count": 38,
   "metadata": {},
   "outputs": [
    {
     "data": {
      "text/plain": [
       "array([5.68516667, 2.67      , 3.84666667, ..., 0.21166667, 3.27816667,\n",
       "       3.22383333])"
      ]
     },
     "execution_count": 38,
     "metadata": {},
     "output_type": "execute_result"
    }
   ],
   "source": [
    "Y_true_all"
   ]
  },
  {
   "cell_type": "code",
   "execution_count": 32,
   "metadata": {},
   "outputs": [
    {
     "data": {
      "text/plain": [
       "array([ 16.6798193 , 902.18115025,   7.64678734,  11.61844712,\n",
       "        22.77791814,  18.93206912,  16.26923575,  17.32546335,\n",
       "         9.42348394,  10.76318911,  19.36816875,   4.14625241,\n",
       "        17.90672532,  12.91898548,   7.38015037,   9.3278031 ,\n",
       "        82.37245287,  11.30184514, 590.73535732,   9.67561553,\n",
       "        25.57678336,  16.17250235,  10.91730206,  17.62321675,\n",
       "        11.80512267,  17.55065199,  21.68182205,   9.7346338 ,\n",
       "        15.84781823,  13.98323052,   8.17775115,   8.64057832,\n",
       "        18.02855063,  16.04044267,  13.87518255,  16.96457645,\n",
       "        19.56981861,  14.28303496,   9.2633809 ,  21.17678151,\n",
       "        11.60555379,   6.60548552,  19.34883452,  10.00523058,\n",
       "        16.74047251,  33.71669461])"
      ]
     },
     "execution_count": 32,
     "metadata": {},
     "output_type": "execute_result"
    }
   ],
   "source": [
    "Y.mean(axis=0)"
   ]
  },
  {
   "cell_type": "code",
   "execution_count": 26,
   "metadata": {},
   "outputs": [
    {
     "data": {
      "text/plain": [
       "array([[[ 5.68516667e+00, -1.19792320e+02,  3.67533530e+01],\n",
       "        [ 8.63651500e+02, -1.19727820e+02,  3.68580670e+01],\n",
       "        [ 2.67000000e+00, -1.19775700e+02,  3.68681640e+01],\n",
       "        ...,\n",
       "        [ 3.30100000e+00, -1.19716060e+02,  3.68189500e+01],\n",
       "        [ 4.09900000e+00, -1.19772990e+02,  3.67853360e+01],\n",
       "        [ 3.89216667e+00, -1.19751150e+02,  3.67928280e+01]],\n",
       "\n",
       "       [[ 4.31883333e+00, -1.19792320e+02,  3.67533530e+01],\n",
       "        [ 8.63399167e+02, -1.19727820e+02,  3.68580670e+01],\n",
       "        [ 2.67000000e+00, -1.19775700e+02,  3.68681640e+01],\n",
       "        ...,\n",
       "        [ 5.87516667e+00, -1.19716060e+02,  3.68189500e+01],\n",
       "        [ 4.24566667e+00, -1.19772990e+02,  3.67853360e+01],\n",
       "        [ 4.09850000e+00, -1.19751150e+02,  3.67928280e+01]],\n",
       "\n",
       "       [[ 8.63983333e+00, -1.19792320e+02,  3.67533530e+01],\n",
       "        [ 8.63041000e+02, -1.19727820e+02,  3.68580670e+01],\n",
       "        [ 2.67083333e+00, -1.19775700e+02,  3.68681640e+01],\n",
       "        ...,\n",
       "        [ 4.02900000e+00, -1.19716060e+02,  3.68189500e+01],\n",
       "        [ 4.69666667e+00, -1.19772990e+02,  3.67853360e+01],\n",
       "        [ 4.56616667e+00, -1.19751150e+02,  3.67928280e+01]],\n",
       "\n",
       "       ...,\n",
       "\n",
       "       [[ 2.57883333e+00, -1.19792320e+02,  3.67533530e+01],\n",
       "        [ 8.80845500e+02, -1.19727820e+02,  3.68580670e+01],\n",
       "        [ 2.58250000e+00, -1.19775700e+02,  3.68681640e+01],\n",
       "        ...,\n",
       "        [ 1.66666667e-04, -1.19716060e+02,  3.68189500e+01],\n",
       "        [ 2.46883333e+00, -1.19772990e+02,  3.67853360e+01],\n",
       "        [ 2.22216667e+00, -1.19751150e+02,  3.67928280e+01]],\n",
       "\n",
       "       [[ 2.03350000e+00, -1.19792320e+02,  3.67533530e+01],\n",
       "        [ 8.81018167e+02, -1.19727820e+02,  3.68580670e+01],\n",
       "        [ 6.50000000e-03, -1.19775700e+02,  3.68681640e+01],\n",
       "        ...,\n",
       "        [ 8.25000000e-02, -1.19716060e+02,  3.68189500e+01],\n",
       "        [ 3.07500000e+00, -1.19772990e+02,  3.67853360e+01],\n",
       "        [ 2.69983333e+00, -1.19751150e+02,  3.67928280e+01]],\n",
       "\n",
       "       [[ 2.41383333e+00, -1.19792320e+02,  3.67533530e+01],\n",
       "        [ 8.80554833e+02, -1.19727820e+02,  3.68580670e+01],\n",
       "        [ 3.75200000e+00, -1.19775700e+02,  3.68681640e+01],\n",
       "        ...,\n",
       "        [ 2.11666667e-01, -1.19716060e+02,  3.68189500e+01],\n",
       "        [ 3.27816667e+00, -1.19772990e+02,  3.67853360e+01],\n",
       "        [ 3.22383333e+00, -1.19751150e+02,  3.67928280e+01]]])"
      ]
     },
     "execution_count": 26,
     "metadata": {},
     "output_type": "execute_result"
    }
   ],
   "source": [
    "data"
   ]
  },
  {
   "cell_type": "code",
   "execution_count": 29,
   "metadata": {},
   "outputs": [
    {
     "data": {
      "text/html": [
       "<div>\n",
       "<style scoped>\n",
       "    .dataframe tbody tr th:only-of-type {\n",
       "        vertical-align: middle;\n",
       "    }\n",
       "\n",
       "    .dataframe tbody tr th {\n",
       "        vertical-align: top;\n",
       "    }\n",
       "\n",
       "    .dataframe thead th {\n",
       "        text-align: right;\n",
       "    }\n",
       "</style>\n",
       "<table border=\"1\" class=\"dataframe\">\n",
       "  <thead>\n",
       "    <tr style=\"text-align: right;\">\n",
       "      <th></th>\n",
       "      <th>year</th>\n",
       "      <th>month</th>\n",
       "      <th>day</th>\n",
       "      <th>hour</th>\n",
       "      <th>pm25</th>\n",
       "      <th>longitude</th>\n",
       "      <th>latitude</th>\n",
       "    </tr>\n",
       "  </thead>\n",
       "  <tbody>\n",
       "    <tr>\n",
       "      <th>0</th>\n",
       "      <td>2023</td>\n",
       "      <td>10</td>\n",
       "      <td>1</td>\n",
       "      <td>0</td>\n",
       "      <td>3.892167</td>\n",
       "      <td>-119.75115</td>\n",
       "      <td>36.792828</td>\n",
       "    </tr>\n",
       "    <tr>\n",
       "      <th>1</th>\n",
       "      <td>2023</td>\n",
       "      <td>10</td>\n",
       "      <td>1</td>\n",
       "      <td>1</td>\n",
       "      <td>4.098500</td>\n",
       "      <td>-119.75115</td>\n",
       "      <td>36.792828</td>\n",
       "    </tr>\n",
       "    <tr>\n",
       "      <th>2</th>\n",
       "      <td>2023</td>\n",
       "      <td>10</td>\n",
       "      <td>1</td>\n",
       "      <td>2</td>\n",
       "      <td>4.566167</td>\n",
       "      <td>-119.75115</td>\n",
       "      <td>36.792828</td>\n",
       "    </tr>\n",
       "    <tr>\n",
       "      <th>3</th>\n",
       "      <td>2023</td>\n",
       "      <td>10</td>\n",
       "      <td>1</td>\n",
       "      <td>3</td>\n",
       "      <td>5.230167</td>\n",
       "      <td>-119.75115</td>\n",
       "      <td>36.792828</td>\n",
       "    </tr>\n",
       "    <tr>\n",
       "      <th>4</th>\n",
       "      <td>2023</td>\n",
       "      <td>10</td>\n",
       "      <td>1</td>\n",
       "      <td>4</td>\n",
       "      <td>512.901333</td>\n",
       "      <td>-119.75115</td>\n",
       "      <td>36.792828</td>\n",
       "    </tr>\n",
       "    <tr>\n",
       "      <th>...</th>\n",
       "      <td>...</td>\n",
       "      <td>...</td>\n",
       "      <td>...</td>\n",
       "      <td>...</td>\n",
       "      <td>...</td>\n",
       "      <td>...</td>\n",
       "      <td>...</td>\n",
       "    </tr>\n",
       "    <tr>\n",
       "      <th>2203</th>\n",
       "      <td>2023</td>\n",
       "      <td>12</td>\n",
       "      <td>31</td>\n",
       "      <td>19</td>\n",
       "      <td>2.034667</td>\n",
       "      <td>-119.75115</td>\n",
       "      <td>36.792828</td>\n",
       "    </tr>\n",
       "    <tr>\n",
       "      <th>2204</th>\n",
       "      <td>2023</td>\n",
       "      <td>12</td>\n",
       "      <td>31</td>\n",
       "      <td>20</td>\n",
       "      <td>1.690833</td>\n",
       "      <td>-119.75115</td>\n",
       "      <td>36.792828</td>\n",
       "    </tr>\n",
       "    <tr>\n",
       "      <th>2205</th>\n",
       "      <td>2023</td>\n",
       "      <td>12</td>\n",
       "      <td>31</td>\n",
       "      <td>21</td>\n",
       "      <td>2.222167</td>\n",
       "      <td>-119.75115</td>\n",
       "      <td>36.792828</td>\n",
       "    </tr>\n",
       "    <tr>\n",
       "      <th>2206</th>\n",
       "      <td>2023</td>\n",
       "      <td>12</td>\n",
       "      <td>31</td>\n",
       "      <td>22</td>\n",
       "      <td>2.699833</td>\n",
       "      <td>-119.75115</td>\n",
       "      <td>36.792828</td>\n",
       "    </tr>\n",
       "    <tr>\n",
       "      <th>2207</th>\n",
       "      <td>2023</td>\n",
       "      <td>12</td>\n",
       "      <td>31</td>\n",
       "      <td>23</td>\n",
       "      <td>3.223833</td>\n",
       "      <td>-119.75115</td>\n",
       "      <td>36.792828</td>\n",
       "    </tr>\n",
       "  </tbody>\n",
       "</table>\n",
       "<p>2208 rows × 7 columns</p>\n",
       "</div>"
      ],
      "text/plain": [
       "      year  month  day  hour        pm25  longitude   latitude\n",
       "0     2023     10    1     0    3.892167 -119.75115  36.792828\n",
       "1     2023     10    1     1    4.098500 -119.75115  36.792828\n",
       "2     2023     10    1     2    4.566167 -119.75115  36.792828\n",
       "3     2023     10    1     3    5.230167 -119.75115  36.792828\n",
       "4     2023     10    1     4  512.901333 -119.75115  36.792828\n",
       "...    ...    ...  ...   ...         ...        ...        ...\n",
       "2203  2023     12   31    19    2.034667 -119.75115  36.792828\n",
       "2204  2023     12   31    20    1.690833 -119.75115  36.792828\n",
       "2205  2023     12   31    21    2.222167 -119.75115  36.792828\n",
       "2206  2023     12   31    22    2.699833 -119.75115  36.792828\n",
       "2207  2023     12   31    23    3.223833 -119.75115  36.792828\n",
       "\n",
       "[2208 rows x 7 columns]"
      ]
     },
     "execution_count": 29,
     "metadata": {},
     "output_type": "execute_result"
    }
   ],
   "source": [
    "df"
   ]
  },
  {
   "cell_type": "code",
   "execution_count": 30,
   "metadata": {},
   "outputs": [
    {
     "data": {
      "text/plain": [
       "array([   5.68516667, -119.79232   ,   36.753353  ])"
      ]
     },
     "execution_count": 30,
     "metadata": {},
     "output_type": "execute_result"
    }
   ],
   "source": [
    "data[0,0,:]"
   ]
  },
  {
   "cell_type": "code",
   "execution_count": null,
   "metadata": {},
   "outputs": [],
   "source": []
  }
 ],
 "metadata": {
  "kernelspec": {
   "display_name": "env_ai",
   "language": "python",
   "name": "python3"
  },
  "language_info": {
   "codemirror_mode": {
    "name": "ipython",
    "version": 3
   },
   "file_extension": ".py",
   "mimetype": "text/x-python",
   "name": "python",
   "nbconvert_exporter": "python",
   "pygments_lexer": "ipython3",
   "version": "3.10.9"
  }
 },
 "nbformat": 4,
 "nbformat_minor": 2
}
