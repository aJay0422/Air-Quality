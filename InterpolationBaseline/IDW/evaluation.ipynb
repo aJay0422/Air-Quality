{
 "cells": [
  {
   "cell_type": "code",
   "execution_count": 31,
   "metadata": {},
   "outputs": [],
   "source": [
    "import pandas as pd\n",
    "import numpy as np\n",
    "import matplotlib.pyplot as plt\n",
    "import matplotlib as mpl\n",
    "import os"
   ]
  },
  {
   "cell_type": "markdown",
   "metadata": {},
   "source": [
    "# Prepare Data"
   ]
  },
  {
   "cell_type": "code",
   "execution_count": 38,
   "metadata": {},
   "outputs": [
    {
     "name": "stdout",
     "output_type": "stream",
     "text": [
      "(10082, 8, 2) (10082, 8)\n"
     ]
    }
   ],
   "source": [
    "data_dir = \"../data/Jan1524_Jan2224/\"\n",
    "data_files = [file for file in os.listdir(data_dir) if file.endswith(\".csv\")]\n",
    "data = []\n",
    "for file in data_files:\n",
    "    df = pd.read_csv(data_dir + file, index_col=0)\n",
    "    df.loc[df[\"pm25\"] < 0, 'pm25'] = 0\n",
    "    data.append(df.loc[:, ['pm25', 'longitude', 'latitude']].to_numpy())\n",
    "data = np.array(data).transpose(1, 0, 2)\n",
    "X = data[:, :, 1:]\n",
    "Y = data[:, :, 0]\n",
    "print(X.shape, Y.shape)"
   ]
  },
  {
   "cell_type": "markdown",
   "metadata": {},
   "source": [
    "# Interpolation Algorithm"
   ]
  },
  {
   "cell_type": "code",
   "execution_count": 39,
   "metadata": {},
   "outputs": [],
   "source": [
    "class IDW:\n",
    "    def __init__(self, X, Y):\n",
    "        \"\"\"\n",
    "        X: (n, d), n is the number of samples, d is the dimension of feature vectors\n",
    "        Y: (n, ), n is the number of samples\n",
    "        \"\"\"\n",
    "        self.X = X\n",
    "        self.Y = Y\n",
    "\n",
    "    def predict(self, X_test, p=2):\n",
    "        \"\"\"\n",
    "        X_test: (m, d), m is the number of test samples, d is the dimension of feature vectors\n",
    "        p: the power of distance\n",
    "        \"\"\"\n",
    "        # construct distance matrix\n",
    "        dist_matrix = np.zeros((X_test.shape[0], self.X.shape[0]))\n",
    "        for i in range(X_test.shape[0]):\n",
    "            for j in range(self.X.shape[0]):\n",
    "                dist = np.linalg.norm(X_test[i] - self.X[j])\n",
    "                dist_matrix[i, j] = dist\n",
    "        \n",
    "        # construct weight matrix\n",
    "        weight_matrix = 1 / np.power(dist_matrix, p)\n",
    "\n",
    "        # normalize weight matrix\n",
    "        weight_matrix = weight_matrix / np.sum(weight_matrix, axis=1, keepdims=True)\n",
    "        self.weight_matrix = weight_matrix\n",
    "\n",
    "        # predict\n",
    "        Y_pred = np.matmul(weight_matrix, self.Y)\n",
    "        return Y_pred\n"
   ]
  },
  {
   "cell_type": "markdown",
   "metadata": {},
   "source": [
    "# LOOCV"
   ]
  },
  {
   "cell_type": "code",
   "execution_count": 40,
   "metadata": {},
   "outputs": [],
   "source": [
    "n_steps = X.shape[0]\n",
    "n_stations = X.shape[1]"
   ]
  },
  {
   "cell_type": "code",
   "execution_count": 41,
   "metadata": {},
   "outputs": [],
   "source": [
    "RMSEs = []\n",
    "MAEs = []\n",
    "for t in range(n_steps):\n",
    "    for i in range(n_stations):\n",
    "        X_train = np.concatenate((X[t, :i], X[t, i+1:]), axis=0)\n",
    "        X_test = X[t, i:i+1]\n",
    "        Y_train = np.concatenate((Y[t, :i], Y[t, i+1:]), axis=0)\n",
    "        Y_test = Y[t, i:i+1]\n",
    "        idw = IDW(X_train, Y_train)\n",
    "        Y_pred = idw.predict(X_test)\n",
    "        rmse = np.sqrt(np.mean(np.square(Y_pred - Y_test)))\n",
    "        mae = np.mean(np.abs(Y_pred - Y_test))\n",
    "        RMSEs.append(rmse)\n",
    "        MAEs.append(mae)"
   ]
  },
  {
   "cell_type": "code",
   "execution_count": 42,
   "metadata": {},
   "outputs": [
    {
     "name": "stdout",
     "output_type": "stream",
     "text": [
      "RMSE:  2.040437611779065 Standard Deviation:  2.1142197199666475\n",
      "MAE:  2.040437611779065 Standard Deviation:  2.1142197199666475\n"
     ]
    }
   ],
   "source": [
    "print(\"RMSE: \", np.mean(RMSEs), \"Standard Deviation: \", np.std(RMSEs))\n",
    "print(\"MAE: \", np.mean(MAEs), \"Standard Deviation: \", np.std(MAEs))"
   ]
  },
  {
   "cell_type": "code",
   "execution_count": 43,
   "metadata": {},
   "outputs": [
    {
     "data": {
      "image/png": "[encoded data removed]",
      "text/plain": [
       "<Figure size 640x480 with 1 Axes>"
      ]
     },
     "metadata": {},
     "output_type": "display_data"
    }
   ],
   "source": [
    "plt.hist(RMSEs, bins=100)\n",
    "plt.show()"
   ]
  },
  {
   "cell_type": "code",
   "execution_count": null,
   "metadata": {},
   "outputs": [],
   "source": []
  }
 ],
 "metadata": {
  "kernelspec": {
   "display_name": "env_ai",
   "language": "python",
   "name": "python3"
  },
  "language_info": {
   "codemirror_mode": {
    "name": "ipython",
    "version": 3
   },
   "file_extension": ".py",
   "mimetype": "text/x-python",
   "name": "python",
   "nbconvert_exporter": "python",
   "pygments_lexer": "ipython3",
   "version": "3.8.18"
  }
 },
 "nbformat": 4,
 "nbformat_minor": 2
}
