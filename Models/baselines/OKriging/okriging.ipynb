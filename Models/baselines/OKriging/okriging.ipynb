{
 "cells": [
  {
   "cell_type": "code",
   "execution_count": 1,
   "metadata": {},
   "outputs": [],
   "source": [
    "import numpy as np\n",
    "import matplotlib.pyplot as plt\n",
    "import os\n",
    "import sys\n",
    "\n",
    "project_dir = os.path.dirname(os.path.dirname(os.getcwd()))\n",
    "if project_dir not in sys.path:\n",
    "    sys.path.append(project_dir)\n",
    "\n",
    "from pykrige.ok import OrdinaryKriging\n",
    "\n",
    "from utils.data import load_data\n",
    "from utils.tool import prediction_summary"
   ]
  },
  {
   "cell_type": "markdown",
   "metadata": {},
   "source": [
    "# Prepare Data"
   ]
  },
  {
   "cell_type": "code",
   "execution_count": 2,
   "metadata": {},
   "outputs": [
    {
     "name": "stdout",
     "output_type": "stream",
     "text": [
      "File1: 3BAGEmnnQ2K4zF49Dkkoxg.csv contains missing hours\n",
      "File4: 4XEJFVFOS761cvyEjOYf0g.csv contains outliers\n",
      "File5: 6kzhfU9xTKCUVJMz492l2g.csv contains outliers\n",
      "File6: 6nBLCf6WT06TOuUExPkBtA.csv contains missing hours\n",
      "File17: JQ1px-xqQx-xKh3Oa5h9nA.csv contains missing hours\n",
      "File21: OfAvTbS1SiOjQo4WKSAP9g.csv contains missing hours\n",
      "File24: R2ebpAblQHylOjteA-2hlQ.csv contains missing hours\n",
      "File37: jDYxIP2JQL2br5aTIAR7JQ.csv contains outliers\n",
      "File38: kyRUtBOTTaK7V_-dxOJTwg.csv contains outliers\n",
      "File45: wSo2iRgjT36eWC4a2joWZg.csv contains outliers\n"
     ]
    }
   ],
   "source": [
    "os.chdir(project_dir)\n",
    "train_loader, val_loader, test_loader = load_data()\n",
    "# change dir back\n",
    "os.chdir(os.path.join(project_dir, 'baselines/Okriging'))"
   ]
  },
  {
   "cell_type": "markdown",
   "metadata": {},
   "source": [
    "# Interpolation Algorithm"
   ]
  },
  {
   "cell_type": "code",
   "execution_count": 3,
   "metadata": {},
   "outputs": [
    {
     "name": "stdout",
     "output_type": "stream",
     "text": [
      "torch.Size([28, 2]) torch.Size([2928, 28])\n",
      "torch.Size([9, 2]) torch.Size([2928, 9])\n",
      "2928\n"
     ]
    }
   ],
   "source": [
    "X_m = test_loader.dataset.locations[test_loader.dataset.train_idx, :]\n",
    "Y_m = test_loader.dataset.readings[:, test_loader.dataset.train_idx]\n",
    "print(X_m.shape, Y_m.shape)\n",
    "\n",
    "X_u = test_loader.dataset.locations[test_loader.dataset.test_idx, :]\n",
    "Y_u = test_loader.dataset.readings[:, test_loader.dataset.test_idx]\n",
    "print(X_u.shape, Y_u.shape)\n",
    "\n",
    "n_steps = Y_m.shape[0]\n",
    "print(n_steps)"
   ]
  },
  {
   "cell_type": "code",
   "execution_count": 11,
   "metadata": {},
   "outputs": [
    {
     "name": "stdout",
     "output_type": "stream",
     "text": [
      "RMSE: 6.0446, CVRMSE: 0.3826, MAE: 3.2363, R2: 0.7079\n"
     ]
    }
   ],
   "source": [
    "Y_true = []\n",
    "Y_pred = []\n",
    "for i in range(n_steps):\n",
    "    ok_model = OrdinaryKriging(X_m[:, 0],\n",
    "                               X_m[:, 1],\n",
    "                               Y_m[i, :],\n",
    "                               variogram_model='linear',\n",
    "                               enable_plotting=False)\n",
    "    pred, var = ok_model.execute('points', X_u[:, 0], X_u[:, 1])\n",
    "    target = Y_u[i, :]\n",
    "    Y_true.append(target)\n",
    "    Y_pred.append(pred)\n",
    "\n",
    "Y_true = np.concatenate(Y_true, axis=0)\n",
    "Y_pred = np.concatenate(Y_pred, axis=0)\n",
    "\n",
    "prediction_summary(Y_true, Y_pred, True)"
   ]
  }
 ],
 "metadata": {
  "kernelspec": {
   "display_name": "env_ai",
   "language": "python",
   "name": "python3"
  },
  "language_info": {
   "codemirror_mode": {
    "name": "ipython",
    "version": 3
   },
   "file_extension": ".py",
   "mimetype": "text/x-python",
   "name": "python",
   "nbconvert_exporter": "python",
   "pygments_lexer": "ipython3",
   "version": "3.8.18"
  }
 },
 "nbformat": 4,
 "nbformat_minor": 2
}
