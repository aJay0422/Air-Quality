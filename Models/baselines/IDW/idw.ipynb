{
 "cells": [
  {
   "cell_type": "code",
   "execution_count": 1,
   "metadata": {},
   "outputs": [],
   "source": [
    "import numpy as np\n",
    "import matplotlib.pyplot as plt\n",
    "import os\n",
    "import sys\n",
    "\n",
    "project_dir = os.path.dirname(os.path.dirname(os.getcwd()))\n",
    "if project_dir not in sys.path:\n",
    "    sys.path.append(project_dir)\n",
    "\n",
    "from utils.data import load_data"
   ]
  },
  {
   "cell_type": "markdown",
   "metadata": {},
   "source": [
    "# Prepare Data"
   ]
  },
  {
   "cell_type": "code",
   "execution_count": 4,
   "metadata": {},
   "outputs": [
    {
     "name": "stdout",
     "output_type": "stream",
     "text": [
      "File1: 3BAGEmnnQ2K4zF49Dkkoxg.csv contains missing hours\n",
      "File4: 4XEJFVFOS761cvyEjOYf0g.csv contains outliers\n",
      "File5: 6kzhfU9xTKCUVJMz492l2g.csv contains outliers\n",
      "File6: 6nBLCf6WT06TOuUExPkBtA.csv contains missing hours\n",
      "File17: JQ1px-xqQx-xKh3Oa5h9nA.csv contains missing hours\n",
      "File21: OfAvTbS1SiOjQo4WKSAP9g.csv contains missing hours\n",
      "File24: R2ebpAblQHylOjteA-2hlQ.csv contains missing hours\n",
      "File37: jDYxIP2JQL2br5aTIAR7JQ.csv contains outliers\n",
      "File38: kyRUtBOTTaK7V_-dxOJTwg.csv contains outliers\n",
      "File45: wSo2iRgjT36eWC4a2joWZg.csv contains outliers\n"
     ]
    }
   ],
   "source": [
    "os.chdir(project_dir)\n",
    "train_loader, val_loader, test_loader = load_data()\n",
    "# change dir back\n",
    "os.chdir(os.path.join(project_dir, 'baselines/IDW'))"
   ]
  },
  {
   "cell_type": "markdown",
   "metadata": {},
   "source": [
    "# Interpolation Algorithm"
   ]
  },
  {
   "cell_type": "code",
   "execution_count": 6,
   "metadata": {},
   "outputs": [],
   "source": [
    "class IDW:\n",
    "    def __init__(self, X, Y):\n",
    "        \"\"\"\n",
    "        X: (n, d), n is the number of samples, d is the dimension of feature vectors\n",
    "        Y: (n, ), n is the number of samples\n",
    "        \"\"\"\n",
    "        self.X = X\n",
    "        self.Y = Y\n",
    "\n",
    "    def predict(self, X_test, p=2):\n",
    "        \"\"\"\n",
    "        X_test: (m, d), m is the number of test samples, d is the dimension of feature vectors\n",
    "        p: the power of distance\n",
    "        \"\"\"\n",
    "        # construct distance matrix\n",
    "        dist_matrix = np.zeros((X_test.shape[0], self.X.shape[0]))\n",
    "        for i in range(X_test.shape[0]):\n",
    "            for j in range(self.X.shape[0]):\n",
    "                dist = np.linalg.norm(X_test[i] - self.X[j])\n",
    "                dist_matrix[i, j] = dist\n",
    "        \n",
    "        # construct weight matrix\n",
    "        weight_matrix = 1 / np.power(dist_matrix, p)\n",
    "\n",
    "        # normalize weight matrix\n",
    "        weight_matrix = weight_matrix / np.sum(weight_matrix, axis=1, keepdims=True)\n",
    "        self.weight_matrix = weight_matrix\n",
    "\n",
    "        # predict\n",
    "        Y_pred = np.matmul(weight_matrix, self.Y)\n",
    "        return Y_pred"
   ]
  },
  {
   "cell_type": "code",
   "execution_count": 8,
   "metadata": {},
   "outputs": [
    {
     "data": {
      "text/plain": [
       "torch.Size([2928, 41])"
      ]
     },
     "execution_count": 8,
     "metadata": {},
     "output_type": "execute_result"
    }
   ],
   "source": [
    "test_loader.dataset.readings.shape"
   ]
  },
  {
   "cell_type": "code",
   "execution_count": 18,
   "metadata": {},
   "outputs": [
    {
     "name": "stdout",
     "output_type": "stream",
     "text": [
      "torch.Size([28, 2]) torch.Size([2928, 28])\n"
     ]
    }
   ],
   "source": [
    "X_m = test_loader.dataset.locations[test_loader.dataset.train_idx, :]\n",
    "Y_m = test_loader.dataset.readings[:, test_loader.dataset.train_idx]\n",
    "print(X_m.shape, Y_m.shape)"
   ]
  },
  {
   "cell_type": "code",
   "execution_count": 19,
   "metadata": {},
   "outputs": [
    {
     "name": "stdout",
     "output_type": "stream",
     "text": [
      "torch.Size([9, 2]) torch.Size([2928, 9])\n"
     ]
    }
   ],
   "source": [
    "X_u = test_loader.dataset.locations[test_loader.dataset.test_idx, :]\n",
    "Y_u = test_loader.dataset.readings[:, test_loader.dataset.test_idx]\n",
    "print(X_u.shape, Y_u.shape)"
   ]
  },
  {
   "cell_type": "code",
   "execution_count": 26,
   "metadata": {},
   "outputs": [
    {
     "name": "stdout",
     "output_type": "stream",
     "text": [
      "RMSE: 5.8276\n",
      "CVRMSE: 0.3688\n",
      "MAE: 3.0519\n",
      "R2: 0.7285\n"
     ]
    }
   ],
   "source": [
    "n_steps = Y_m.shape[0]\n",
    "\n",
    "Y_true = []\n",
    "Y_pred = []\n",
    "for i in range(n_steps):\n",
    "    idw = IDW(X_m, Y_m[i])\n",
    "    target = Y_u[i]\n",
    "    pred = idw.predict(X_u)\n",
    "    Y_true.append(target)\n",
    "    Y_pred.append(pred)\n",
    "\n",
    "Y_true = np.concatenate(Y_true, axis=0)\n",
    "Y_pred = np.concatenate(Y_pred, axis=0)\n",
    "\n",
    "rmse = np.sqrt(np.mean((Y_true - Y_pred) ** 2))\n",
    "cvrmse = rmse / np.mean(Y_true)\n",
    "mae = np.mean(np.abs(Y_true - Y_pred))\n",
    "r2 = 1 - np.sum((Y_true - Y_pred) ** 2) / np.sum((Y_true - np.mean(Y_true)) ** 2)\n",
    "print('RMSE: {:.4f}'.format(rmse))\n",
    "print('CVRMSE: {:.4f}'.format(cvrmse))\n",
    "print('MAE: {:.4f}'.format(mae))\n",
    "print('R2: {:.4f}'.format(r2))"
   ]
  },
  {
   "cell_type": "code",
   "execution_count": null,
   "metadata": {},
   "outputs": [],
   "source": []
  }
 ],
 "metadata": {
  "kernelspec": {
   "display_name": "env_ai",
   "language": "python",
   "name": "python3"
  },
  "language_info": {
   "codemirror_mode": {
    "name": "ipython",
    "version": 3
   },
   "file_extension": ".py",
   "mimetype": "text/x-python",
   "name": "python",
   "nbconvert_exporter": "python",
   "pygments_lexer": "ipython3",
   "version": "3.8.18"
  }
 },
 "nbformat": 4,
 "nbformat_minor": 2
}
