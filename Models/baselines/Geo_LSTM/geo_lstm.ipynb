{
 "cells": [
  {
   "cell_type": "code",
   "execution_count": 2,
   "metadata": {},
   "outputs": [],
   "source": [
    "import torch\n",
    "import torch.nn as nn\n",
    "import numpy as np\n",
    "import os\n",
    "import sys\n",
    "\n",
    "from tqdm import tqdm\n",
    "\n",
    "project_dir = os.path.dirname(os.path.dirname(os.getcwd()))\n",
    "if project_dir not in sys.path:\n",
    "    sys.path.append(project_dir)\n",
    "\n",
    "from utils.data import load_data\n",
    "from utils.tool import prediction_summary"
   ]
  },
  {
   "cell_type": "code",
   "execution_count": 3,
   "metadata": {},
   "outputs": [
    {
     "name": "stdout",
     "output_type": "stream",
     "text": [
      "File1: 3BAGEmnnQ2K4zF49Dkkoxg.csv contains missing hours\n",
      "File4: 4XEJFVFOS761cvyEjOYf0g.csv contains outliers\n",
      "File5: 6kzhfU9xTKCUVJMz492l2g.csv contains outliers\n",
      "File6: 6nBLCf6WT06TOuUExPkBtA.csv contains missing hours\n",
      "File17: JQ1px-xqQx-xKh3Oa5h9nA.csv contains missing hours\n",
      "File21: OfAvTbS1SiOjQo4WKSAP9g.csv contains missing hours\n",
      "File24: R2ebpAblQHylOjteA-2hlQ.csv contains missing hours\n",
      "File37: jDYxIP2JQL2br5aTIAR7JQ.csv contains outliers\n",
      "File38: kyRUtBOTTaK7V_-dxOJTwg.csv contains outliers\n",
      "File45: wSo2iRgjT36eWC4a2joWZg.csv contains outliers\n"
     ]
    }
   ],
   "source": [
    "os.chdir(project_dir)\n",
    "train_loader, val_loader, test_loader = load_data()\n",
    "os.chdir(os.path.join(project_dir, 'baselines/Geo_LSTM'))"
   ]
  },
  {
   "cell_type": "markdown",
   "metadata": {},
   "source": [
    "# Interpolation Algorithm"
   ]
  },
  {
   "cell_type": "code",
   "execution_count": 15,
   "metadata": {},
   "outputs": [],
   "source": [
    "class Geo_Layer(nn.Module):\n",
    "    def __init__(self, K=4):\n",
    "        super(Geo_Layer, self).__init__()\n",
    "        self.K = K\n",
    "\n",
    "    def forward(self, X):\n",
    "        \"\"\"\n",
    "        X is a tuple of 3 tensors: (locs, readings, target_loc)\n",
    "            locs: (batch_size, n_sensor, 2)\n",
    "            readings: (batch_size, window, n_sensor)\n",
    "            target_loc: (batch_size, 2)\n",
    "        \"\"\"\n",
    "        locs, readings, target_loc = X\n",
    "        batch_size, window, n_sensor = readings.shape\n",
    "\n",
    "        # Compute relative distance\n",
    "        Rlocs = locs - target_loc.unsqueeze(1)\n",
    "        Rdists = torch.norm(Rlocs, dim=-1).squeeze(-1)   # (batch_size, n_sensor)\n",
    "        indice = torch.argsort(Rdists, dim=-1)[:, :self.K]\n",
    "        indice = indice.unsqueeze(1).expand(-1, window, -1)   # (batch_size, window, K\n",
    "        nearby_readings = torch.gather(readings, -1, indice)   # (batch_size, window, K)\n",
    "\n",
    "        return nearby_readings\n",
    "    \n",
    "class Geo_LSTM(nn.Module):\n",
    "    def __init__(self, K=4, num_layers=4, hidden_size=128, fc_hidden=1024):\n",
    "        super(Geo_LSTM, self).__init__()\n",
    "        self.geo_layer = Geo_Layer(K)\n",
    "        self.lstm = nn.LSTM(input_size=K,\n",
    "                            hidden_size=hidden_size,\n",
    "                            num_layers=num_layers,\n",
    "                            batch_first=True)\n",
    "        self.fc = nn.Sequential(*[\n",
    "            nn.Linear(hidden_size, fc_hidden),\n",
    "            nn.ReLU(),\n",
    "            nn.Linear(fc_hidden, 1)\n",
    "        ])\n",
    "\n",
    "    def forward(self, X):\n",
    "        \"\"\"\n",
    "        X is a tuple of 3 tensors: (locs, readings, target_loc)\n",
    "            locs: (batch_size, n_sensor, 2)\n",
    "            readings: (batch_size, window, n_sensor)\n",
    "            target_loc: (batch_size, 2)\n",
    "        \"\"\"\n",
    "        nearby_readings = self.geo_layer(X)\n",
    "        lstm_out, _ = self.lstm(nearby_readings)\n",
    "        out = self.fc(lstm_out[:, -1, :]).squeeze(-1)\n",
    "        return out"
   ]
  },
  {
   "cell_type": "code",
   "execution_count": null,
   "metadata": {},
   "outputs": [],
   "source": [
    "epochs = 200\n",
    "lr = 1e-3\n",
    "device = torch.device('cuda' if torch.cuda.is_available() else 'cpu')\n",
    "\n",
    "model = Geo_LSTM()\n",
    "optimizer = torch.optim.Adam(model.parameters(), lr=lr)\n",
    "scheduler = torch.optim.lr_scheduler.CosineAnnealingLR(optimizer, T_max=epochs)\n",
    "criterion = nn.MSELoss()\n",
    "\n",
    "best_val_loss = 1e10\n",
    "for epoch in range(epochs):\n",
    "    model.train()\n",
    "    train_loss = 0\n",
    "    for batch in tqdm(train_loader):\n",
    "        locs, readings, target_loc, target_reading = batch[0].to(device), batch[1].to(device), batch[2].to(device), batch[3].to(device)\n",
    "        optimizer.zero_grad()\n",
    "        pred = model((locs, readings, target_loc))\n",
    "        target = target_reading[:, -1]\n",
    "        loss = criterion(pred, target)\n",
    "        loss.backward()\n",
    "        optimizer.step()\n",
    "        train_loss += loss.item()\n",
    "    train_loss /= len(train_loader)\n",
    "    scheduler.step()\n",
    "\n",
    "    # evaluate model\n",
    "    with torch.no_grad():\n",
    "        model.eval()\n",
    "        val_loss = 0\n",
    "        for batch in val_loader:\n",
    "            locs, readings, target_loc, target_reading = batch[0].to(device), batch[1].to(device), batch[2].to(device), batch[3].to(device)\n",
    "            pred = model((locs, readings, target_loc))\n",
    "            target = target_reading[:, -1]\n",
    "            loss = criterion(pred, target)\n",
    "            val_loss += loss.item()\n",
    "        val_loss /= len(val_loader)\n",
    "    print(f'Epoch {epoch+1}/{epochs}, Train Loss: {train_loss:.4f}, Val Loss: {val_loss:.4f}')\n",
    "\n",
    "    # save the best model\n",
    "    if val_loss < best_val_loss:\n",
    "        best_val_loss = val_loss\n",
    "        torch.save(model.state_dict(), 'geo_lstm.pth')"
   ]
  },
  {
   "cell_type": "code",
   "execution_count": null,
   "metadata": {},
   "outputs": [],
   "source": []
  }
 ],
 "metadata": {
  "kernelspec": {
   "display_name": "env_ai",
   "language": "python",
   "name": "python3"
  },
  "language_info": {
   "codemirror_mode": {
    "name": "ipython",
    "version": 3
   },
   "file_extension": ".py",
   "mimetype": "text/x-python",
   "name": "python",
   "nbconvert_exporter": "python",
   "pygments_lexer": "ipython3",
   "version": "3.8.18"
  }
 },
 "nbformat": 4,
 "nbformat_minor": 2
}
