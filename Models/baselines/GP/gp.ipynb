{
 "cells": [
  {
   "cell_type": "code",
   "execution_count": 1,
   "metadata": {},
   "outputs": [],
   "source": [
    "import numpy as np\n",
    "import matplotlib.pyplot as plt\n",
    "import os\n",
    "import sys\n",
    "import torch\n",
    "import gpytorch\n",
    "\n",
    "from tqdm import tqdm\n",
    "\n",
    "project_dir = os.path.dirname(os.path.dirname(os.getcwd()))\n",
    "if project_dir not in sys.path:\n",
    "    sys.path.append(project_dir)\n",
    "\n",
    "from utils.data import load_data\n",
    "from utils.tool import prediction_summary"
   ]
  },
  {
   "cell_type": "markdown",
   "metadata": {},
   "source": [
    "# Prepare Data"
   ]
  },
  {
   "cell_type": "code",
   "execution_count": 2,
   "metadata": {},
   "outputs": [
    {
     "name": "stdout",
     "output_type": "stream",
     "text": [
      "File1: 3BAGEmnnQ2K4zF49Dkkoxg.csv contains missing hours\n",
      "File4: 4XEJFVFOS761cvyEjOYf0g.csv contains outliers\n",
      "File5: 6kzhfU9xTKCUVJMz492l2g.csv contains outliers\n",
      "File6: 6nBLCf6WT06TOuUExPkBtA.csv contains missing hours\n",
      "File17: JQ1px-xqQx-xKh3Oa5h9nA.csv contains missing hours\n",
      "File21: OfAvTbS1SiOjQo4WKSAP9g.csv contains missing hours\n",
      "File24: R2ebpAblQHylOjteA-2hlQ.csv contains missing hours\n",
      "File37: jDYxIP2JQL2br5aTIAR7JQ.csv contains outliers\n",
      "File38: kyRUtBOTTaK7V_-dxOJTwg.csv contains outliers\n",
      "File45: wSo2iRgjT36eWC4a2joWZg.csv contains outliers\n"
     ]
    }
   ],
   "source": [
    "os.chdir(project_dir)\n",
    "train_loader, val_loader, test_loader = load_data()\n",
    "# change dir back\n",
    "os.chdir(os.path.join(project_dir, 'baselines/IDW'))"
   ]
  },
  {
   "cell_type": "code",
   "execution_count": 4,
   "metadata": {},
   "outputs": [
    {
     "name": "stdout",
     "output_type": "stream",
     "text": [
      "torch.Size([28, 2]) torch.Size([2928, 28])\n",
      "torch.Size([9, 2]) torch.Size([2928, 9])\n",
      "2928\n"
     ]
    }
   ],
   "source": [
    "X_m = test_loader.dataset.locations[test_loader.dataset.train_idx, :]\n",
    "Y_m = test_loader.dataset.readings[:, test_loader.dataset.train_idx]\n",
    "print(X_m.shape, Y_m.shape)\n",
    "\n",
    "X_u = test_loader.dataset.locations[test_loader.dataset.test_idx, :]\n",
    "Y_u = test_loader.dataset.readings[:, test_loader.dataset.test_idx]\n",
    "print(X_u.shape, Y_u.shape)\n",
    "\n",
    "n_steps = Y_m.shape[0]\n",
    "print(n_steps)"
   ]
  },
  {
   "cell_type": "markdown",
   "metadata": {},
   "source": [
    "# Interpolation Algorithm"
   ]
  },
  {
   "cell_type": "code",
   "execution_count": 5,
   "metadata": {},
   "outputs": [],
   "source": [
    "class LocalPeriodicKernel(gpytorch.kernels.Kernel):\n",
    "    is_stationary = True\n",
    "\n",
    "    def __init__(self, lp_ard=None, **kwargs):\n",
    "        super().__init__(**kwargs)\n",
    "        if lp_ard is not None:\n",
    "            self.periodickernel = gpytorch.kernels.PeriodicKernel(arg_num_dims=lp_ard)\n",
    "            self.rbfkernel = gpytorch.kernels.RBFKernel(arg_num_dims=lp_ard)\n",
    "        else:\n",
    "            self.periodickernel = gpytorch.kernels.PeriodicKernel()\n",
    "            self.rbfkernel = gpytorch.kernels.RBFKernel()\n",
    "        self.localperiodickernel = self.periodickernel * self.rbfkernel\n",
    "\n",
    "    #kernel function\n",
    "    def forward(self, x1, x2, **params):\n",
    "        return self.localperiodickernel(x1, x2, **params)\n",
    "    \n",
    "class BaseKernel(gpytorch.kernels.Kernel):\n",
    "    def __init__(self, matern_ard=None, lp_ard=None, **kwargs):\n",
    "        super().__init__(**kwargs)\n",
    "        if matern_ard is not None:\n",
    "            self.maternkernel = gpytorch.kernels.MaternKernel(nu=0.5,ard_num_dims=matern_ard)\n",
    "        else:\n",
    "            self.maternkernel = gpytorch.kernels.MaternKernel(nu=0.5)\n",
    "        if lp_ard is not None:\n",
    "            self.localperiodickernel = LocalPeriodicKernel(lp_ard=lp_ard)\n",
    "        else:\n",
    "            self.localperiodickernel = LocalPeriodicKernel()\n",
    "\n",
    "    def forward(self, x1, x2, **params):\n",
    "        # separate input into conutinuous and periodic components\n",
    "        x1_per = x1[:, :4]\n",
    "        x1_cont = x1[:, 4:]\n",
    "        x2_per = x2[:, :4]\n",
    "        x2_cont = x2[:, 4:]\n",
    "        return self.maternkernel(x1_cont, x2_cont, **params) * self.localperiodickernel(x1_per, x2_per, **params)\n",
    "\n",
    "class GlobalKernel(gpytorch.kernels.Kernel):\n",
    "    is_stationary = True\n",
    "\n",
    "    def __init__(self, matern_ard=None, lp_ard=None, **kwargs):\n",
    "        super().__init__(**kwargs)\n",
    "\n",
    "        # base kernel\n",
    "        self.basekernel = BaseKernel(matern_ard=matern_ard, lp_ard=lp_ard)\n",
    "\n",
    "        # scale kernel\n",
    "        self.scalekernel = gpytorch.kernels.ScaleKernel(self.basekernel)\n",
    "\n",
    "    \n",
    "    def forward(self, x1, x2, **params):\n",
    "        return self.scalekernel(x1, x2, **params)\n",
    "    \n",
    "\n",
    "class AirGP(gpytorch.models.ExactGP):\n",
    "    def __init__(self, train_x, train_y, likelihood, matern_ard=None, lp_ard=None,):\n",
    "        super(AirGP, self).__init__(train_x, train_y, likelihood)\n",
    "        self.mean_module = gpytorch.means.ConstantMean()\n",
    "        self.covar_module = GlobalKernel(matern_ard=matern_ard, lp_ard=lp_ard)\n",
    "\n",
    "    def forward(self, x):\n",
    "        mean_x = self.mean_module(x)\n",
    "        covar_x = self.covar_module(x)\n",
    "        return gpytorch.distributions.MultivariateNormal(mean_x, covar_x)"
   ]
  },
  {
   "cell_type": "code",
   "execution_count": 6,
   "metadata": {},
   "outputs": [],
   "source": [
    "class GP_Model(gpytorch.models.ExactGP):\n",
    "    def __init__(self, train_x, train_y, likelihood):\n",
    "        super(GP_Model, self).__init__(train_x, train_y, likelihood)\n",
    "        self.mean_module = gpytorch.means.ConstantMean()\n",
    "        self.covar_module = gpytorch.kernels.ScaleKernel(\n",
    "            gpytorch.kernels.MaternKernel(nu=0.5, ard_num_dims=2)\n",
    "        )\n",
    "\n",
    "    def forward(self, x):\n",
    "        mean_x = self.mean_module(x)\n",
    "        covar_x = self.covar_module(x)\n",
    "\n",
    "        return gpytorch.distributions.MultivariateNormal(mean_x, covar_x)"
   ]
  },
  {
   "cell_type": "code",
   "execution_count": 7,
   "metadata": {},
   "outputs": [
    {
     "name": "stderr",
     "output_type": "stream",
     "text": [
      "Time step: 0  Loss: 1.753324:  29%|██▊       | 2874/10000 [00:05<00:14, 505.91it/s]\n",
      "Time step: 1  Loss: 1.794676:  35%|███▌      | 3512/10000 [00:07<00:13, 492.45it/s]\n",
      "Time step: 2  Loss: 1.940947:  20%|██        | 2049/10000 [00:04<00:17, 463.42it/s]\n",
      "Time step: 3  Loss: 1.897622:  39%|███▊      | 3855/10000 [00:07<00:12, 494.68it/s]\n",
      "Time step: 4  Loss: 3.181818:  87%|████████▋ | 8681/10000 [00:17<00:02, 484.93it/s]\n",
      "Time step: 5  Loss: 2.224248:  68%|██████▊   | 6796/10000 [00:14<00:06, 482.40it/s]\n",
      "Time step: 6  Loss: 2.786995:  75%|███████▍  | 7457/10000 [00:15<00:05, 488.55it/s]\n",
      "Time step: 7  Loss: 2.627750:  52%|█████▏    | 5237/10000 [00:10<00:09, 490.19it/s]\n",
      "Time step: 8  Loss: 2.223839:  38%|███▊      | 3808/10000 [00:08<00:11, 523.89it/s]"
     ]
    }
   ],
   "source": [
    "Y_true = []\n",
    "Y_pred = []\n",
    "for i in range(n_steps):\n",
    "    X_train = X_m\n",
    "    Y_train = Y_m[i, :]\n",
    "\n",
    "    likelihood = gpytorch.likelihoods.GaussianLikelihood()\n",
    "    model = GP_Model(X_train, Y_train, likelihood)\n",
    "    training_iter = 10000\n",
    "    model.train()\n",
    "    likelihood.train()\n",
    "    optimizer = torch.optim.Adam(model.parameters(), lr=0.01)\n",
    "    mll = gpytorch.mlls.ExactMarginalLogLikelihood(likelihood, model)\n",
    "    \n",
    "    try:\n",
    "        # training\n",
    "        loss_500 = []\n",
    "        for iter in (pbar := tqdm(range(training_iter))):\n",
    "            optimizer.zero_grad()\n",
    "            output = model(X_train)\n",
    "            loss = -mll(output, Y_train)\n",
    "            loss.backward()\n",
    "            optimizer.step()\n",
    "            pbar.set_description(f\"Time step: {i}  Loss: {loss.item():.6f}\")\n",
    "\n",
    "            # early stopping\n",
    "            if len(loss_500) < 500:\n",
    "                loss_500.append(loss.item())\n",
    "            else:\n",
    "                loss_500.pop(0)\n",
    "                loss_500.append(loss.item())\n",
    "                if loss_500[0] - loss_500[-1] < 1e-3:\n",
    "                    break\n",
    "\n",
    "        # evaluation\n",
    "        model.eval()\n",
    "        likelihood.eval()\n",
    "        with torch.no_grad():\n",
    "            test_x = X_u\n",
    "            pred = likelihood(model(test_x))\n",
    "            pred_mean = pred.mean\n",
    "            Y_true.append(Y_u[i, :])\n",
    "            Y_pred.append(pred_mean)\n",
    "    except:\n",
    "        print(f\"Time step {i} failed\")\n",
    "        continue\n",
    "Y_true = torch.cat(Y_true, dim=0).numpy()\n",
    "Y_pred = torch.cat(Y_pred, dim=0).numpy()\n",
    "\n",
    "prediction_summary(Y_true, Y_pred, True)\n"
   ]
  },
  {
   "cell_type": "code",
   "execution_count": 19,
   "metadata": {},
   "outputs": [
    {
     "data": {
      "text/plain": [
       "tensor([10.6320,  7.3957, 13.9568, 12.1435,  8.6852,  6.9780,  8.0955,  7.0192,\n",
       "        12.8787, 13.6720, 11.1712, 11.1398,  8.6703,  8.7202,  8.9923,  9.9490,\n",
       "        10.5202, 10.7688,  6.7730, 10.2640,  9.9610,  5.3460, 14.5042,  9.4257,\n",
       "         5.2400, 11.3452, 11.7212,  9.3607])"
      ]
     },
     "execution_count": 19,
     "metadata": {},
     "output_type": "execute_result"
    }
   ],
   "source": [
    "Y_train"
   ]
  },
  {
   "cell_type": "code",
   "execution_count": null,
   "metadata": {},
   "outputs": [],
   "source": []
  }
 ],
 "metadata": {
  "kernelspec": {
   "display_name": "env_ai",
   "language": "python",
   "name": "python3"
  },
  "language_info": {
   "codemirror_mode": {
    "name": "ipython",
    "version": 3
   },
   "file_extension": ".py",
   "mimetype": "text/x-python",
   "name": "python",
   "nbconvert_exporter": "python",
   "pygments_lexer": "ipython3",
   "version": "3.8.18"
  }
 },
 "nbformat": 4,
 "nbformat_minor": 2
}
