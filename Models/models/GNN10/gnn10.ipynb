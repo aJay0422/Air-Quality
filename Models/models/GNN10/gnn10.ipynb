{
 "cells": [
  {
   "cell_type": "code",
   "execution_count": 1,
   "metadata": {},
   "outputs": [],
   "source": [
    "import torch\n",
    "import torch.nn as nn\n",
    "import torch.nn.functional as F\n",
    "import numpy as np\n",
    "import os\n",
    "import sys\n",
    "import matplotlib.pyplot as plt\n",
    "import scipy.sparse as sp\n",
    "import scipy.linalg as linalg\n",
    "\n",
    "from haversine import haversine\n",
    "from tqdm import tqdm\n",
    "from einops import rearrange\n",
    "from time import time\n",
    "from torch.nn import Linear, Parameter\n",
    "from torch_geometric.nn import MessagePassing\n",
    "from torch_geometric.utils import add_self_loops, degree\n",
    "from torch_geometric.data import Data, Dataset\n",
    "from torch_geometric.loader import DataLoader\n",
    "\n",
    "project_dir = os.path.dirname(os.path.dirname(os.getcwd()))\n",
    "if project_dir not in sys.path:\n",
    "    sys.path.append(project_dir)\n",
    "\n",
    "from utils.data import load_data\n",
    "from utils.tool import prediction_summary"
   ]
  },
  {
   "cell_type": "markdown",
   "metadata": {},
   "source": [
    "# Prepare Data"
   ]
  },
  {
   "cell_type": "code",
   "execution_count": 2,
   "metadata": {},
   "outputs": [
    {
     "name": "stdout",
     "output_type": "stream",
     "text": [
      "File1: 3BAGEmnnQ2K4zF49Dkkoxg.csv contains missing hours\n",
      "File4: 4XEJFVFOS761cvyEjOYf0g.csv contains outliers\n",
      "File5: 6kzhfU9xTKCUVJMz492l2g.csv contains outliers\n",
      "File6: 6nBLCf6WT06TOuUExPkBtA.csv contains missing hours\n",
      "File17: JQ1px-xqQx-xKh3Oa5h9nA.csv contains missing hours\n",
      "File21: OfAvTbS1SiOjQo4WKSAP9g.csv contains missing hours\n",
      "File24: R2ebpAblQHylOjteA-2hlQ.csv contains missing hours\n",
      "File37: jDYxIP2JQL2br5aTIAR7JQ.csv contains outliers\n",
      "File38: kyRUtBOTTaK7V_-dxOJTwg.csv contains outliers\n",
      "File45: wSo2iRgjT36eWC4a2joWZg.csv contains outliers\n"
     ]
    }
   ],
   "source": [
    "os.chdir(project_dir)\n",
    "train_loader, val_loader, test_loader = load_data(window=2, batch_size=32)\n",
    "os.chdir(os.path.join(project_dir, 'models/GNN10'))"
   ]
  },
  {
   "cell_type": "code",
   "execution_count": 3,
   "metadata": {},
   "outputs": [],
   "source": [
    "class MyGraphDataset(Dataset):\n",
    "    def __init__(self, graphs):\n",
    "        super(MyGraphDataset, self).__init__()\n",
    "        self.graphs = graphs\n",
    "\n",
    "    def len(self):\n",
    "        return len(self.graphs)\n",
    "\n",
    "    def get(self, idx):\n",
    "        return self.graphs[idx]"
   ]
  },
  {
   "cell_type": "markdown",
   "metadata": {},
   "source": [
    "# Build Model"
   ]
  },
  {
   "cell_type": "code",
   "execution_count": 4,
   "metadata": {},
   "outputs": [],
   "source": [
    "# functions\n",
    "def get_edge_index(n):\n",
    "    \"\"\"\n",
    "    Create edge index for a complete graph of n nodes with self loops\n",
    "    :param n: number of nodes\n",
    "    :return: edge index tensor\n",
    "    \"\"\"\n",
    "    edge_index = torch.tensor([[i, j] for i in range(n) for j in range(n)], dtype=torch.long).t().contiguous()\n",
    "    return edge_index\n",
    "\n",
    "def get_distance_matrix(locs):\n",
    "    \"\"\"\n",
    "    Calculate the Euclidean distance matrix\n",
    "    :param locs: a torch tensor of size (batch_size, num_nodes, 2) or (num_nodes, 2)\n",
    "    \"\"\"\n",
    "    if len(locs.size()) == 2:\n",
    "        batch = False\n",
    "        locs = locs.unsqueeze(0)\n",
    "    else:\n",
    "        batch = True\n",
    "\n",
    "\n",
    "    B, N, _ = locs.size()\n",
    "    locs_i = locs.unsqueeze(2).expand(B, N, N, 2)\n",
    "    locs_j = locs.unsqueeze(1).expand(B, N, N, 2)\n",
    "    distances = torch.sqrt(((locs_i - locs_j) ** 2).sum(dim=-1))\n",
    "\n",
    "    if not batch:\n",
    "        distances = distances.squeeze(0)\n",
    "    \n",
    "    return distances\n",
    "\n",
    "# Following 2 functions adapted from https://github.com/nnzhan/Graph-WaveNet/blob/master/util.py\n",
    "def calculate_scaled_laplacian(adj_mx, lambda_max=2, undirected=False):\n",
    "    def calculate_normalized_laplacian(adj):\n",
    "        \"\"\"\n",
    "        \n",
    "        \"\"\"\n",
    "        adj = sp.coo_matrix(adj)\n",
    "        d = np.array(adj.sum(1))\n",
    "        d_inv_sqrt = np.power(d, -0.5).flatten()\n",
    "        d_inv_sqrt[np.isinf(d_inv_sqrt)] = 0.\n",
    "        d_mat_inv_sqrt = sp.diags(d_inv_sqrt)\n",
    "        normalized_laplacian = sp.eye(adj.shape[0]) - adj.dot(d_mat_inv_sqrt).transpose().dot(d_mat_inv_sqrt).tocoo()\n",
    "        return normalized_laplacian\n",
    "    if undirected:\n",
    "        adj_mx = np.maximum.reduce([adj_mx, adj_mx.T])\n",
    "    L = calculate_normalized_laplacian(adj_mx)\n",
    "    if lambda_max is None:\n",
    "        lambda_max, _ = linalg.eigsh(L, 1, which='LM')\n",
    "        lambda_max = lambda_max[0]\n",
    "    L = sp.csr_matrix(L)\n",
    "    M, _ = L.shape\n",
    "    I = sp.identity(M, format='csr', dtype=L.dtype)\n",
    "    L = (2 / lambda_max * L) - I\n",
    "    return L.astype(np.float32).todense()"
   ]
  },
  {
   "cell_type": "code",
   "execution_count": 17,
   "metadata": {},
   "outputs": [],
   "source": [
    "class Mlp(nn.Module):\n",
    "    def __init__(self, in_dim, out_dim):\n",
    "        super(Mlp, self).__init__()\n",
    "        self.mlp = nn.Sequential(\n",
    "            nn.Linear(in_dim, 2 * out_dim),\n",
    "            nn.BatchNorm1d(2 * out_dim),\n",
    "            nn.ReLU(),\n",
    "            nn.Linear(2 * out_dim, out_dim),\n",
    "            nn.BatchNorm1d(out_dim),\n",
    "        )\n",
    "\n",
    "    def forward(self, x):\n",
    "        return self.mlp(x)\n",
    "    \n",
    "\n",
    "class LocalLayer(MessagePassing):\n",
    "    def __init__(self, in_dim, out_dim):\n",
    "        super(LocalLayer, self).__init__(aggr='mean')\n",
    "        self.in_dim = in_dim\n",
    "        self.out_dim = out_dim\n",
    "        self.linear = Mlp(in_dim, out_dim)\n",
    "\n",
    "    def forward(self, x, edge_index):\n",
    "        \"\"\"\n",
    "        :param x: node features of shape (num_nodes, in_dim)\n",
    "        :param edge_index: edge index tensor of shape (2, num_edges)\n",
    "        \"\"\"\n",
    "        N = x.size(0)\n",
    "        # transform node features\n",
    "        x = self.linear(x)\n",
    "\n",
    "        # compute normalization\n",
    "        row, col = edge_index\n",
    "        deg = degree(row, N, dtype=x.dtype)\n",
    "        deg_inv_sqrt = deg.pow(-0.5)\n",
    "        deg_inv_sqrt[deg_inv_sqrt == float('inf')] = 0\n",
    "        norm = deg_inv_sqrt[row] * deg_inv_sqrt[col]\n",
    "\n",
    "        # propagate message\n",
    "        outputs = self.propagate(edge_index, x=x, norm=norm)\n",
    "\n",
    "        return outputs\n",
    "    \n",
    "    def message(self, x_j, norm):\n",
    "        return norm.view(-1, 1) * x_j\n",
    "    \n",
    "\n",
    "class DiffusionLayer(nn.Module):\n",
    "    def __init__(self, in_dim, out_dim):\n",
    "        super(DiffusionLayer, self).__init__()\n",
    "        self.in_dim = in_dim\n",
    "        self.out_dim = out_dim\n",
    "\n",
    "        self.mlp = Mlp(in_dim, out_dim)\n",
    "\n",
    "        self.k = Parameter(torch.Tensor(1, out_dim))\n",
    "\n",
    "    def forward(self, locs, features):\n",
    "        \"\"\"\n",
    "        :param locs: (B, N, 2)\n",
    "        :param features: (B, N, in_dim)\n",
    "        \"\"\"\n",
    "        B, N, D = features.size()\n",
    "\n",
    "        # apply mlp to features\n",
    "        features = rearrange(features, 'b n d -> (b n) d')\n",
    "        features = self.mlp(features)\n",
    "        features = rearrange(features, '(b n) d -> b n d', b=B)\n",
    "\n",
    "        # calculate the scaled laplacian\n",
    "        L = np.zeros((B, N, N))\n",
    "        for b in range(B):\n",
    "            D = get_distance_matrix(locs[b])\n",
    "            W = 1 / (D + 1e-8)\n",
    "            # Set diagonal elements to 0\n",
    "            mask = torch.ones(N, N).to(features.device) - torch.eye(N).to(features.device)\n",
    "            W = W * mask\n",
    "            L_temp = calculate_scaled_laplacian(W.cpu().numpy())\n",
    "            L[b] = torch.tensor(L_temp).to(features.device)\n",
    "\n",
    "        # apply diffusion\n",
    "        L = torch.from_numpy(L).to(features.device).float()   # (B, N, N)\n",
    "        outputs = torch.bmm(L, features) * self.k\n",
    "\n",
    "        return outputs\n",
    "    \n",
    "\n",
    "class ConvectionLayer(MessagePassing):\n",
    "    def __init__(self, in_dim, out_dim, edge_dim):\n",
    "        super(ConvectionLayer, self).__init__(aggr='mean')\n",
    "        self.in_dim = in_dim\n",
    "        self.out_dim = out_dim\n",
    "        self.edge_in_dim = edge_dim\n",
    "\n",
    "        self.node_linear = Mlp(in_dim, out_dim)\n",
    "        self.edge_linear = Mlp(edge_dim, out_dim)\n",
    "        self.message_linear = Mlp(2 * out_dim, out_dim)\n",
    "        self.update_linear = Mlp(2 * out_dim, out_dim)\n",
    "\n",
    "    def forward(self, x, edge_index, edge_attr):\n",
    "        \"\"\"\n",
    "        :param x: node features of shape (num_nodes, in_dim)\n",
    "        :param edge_index: edge index tensor of shape (2, num_edges)\n",
    "        :param edge_attr: edge features of shape (num_edges, edge_dim)\n",
    "        \"\"\"\n",
    "        assert len(x.size()) == len(edge_attr.size()) == 2, \"x and edge_attr must have 2 dimensions\"\n",
    "        assert edge_index.size(1) == edge_attr.size(0), \"edge_index and edge_attr must have the same number of edges\"\n",
    "\n",
    "        N = x.size(0)\n",
    "        # transform node and edge features\n",
    "        x = self.node_linear(x)\n",
    "        edge_attr = self.edge_linear(edge_attr)\n",
    "\n",
    "        outputs = self.propagate(edge_index, x=x, edge_attr=edge_attr)\n",
    "\n",
    "        return outputs, edge_attr\n",
    "    \n",
    "    def message(self, x_i, x_j, edge_attr):\n",
    "        \"\"\"\n",
    "        Edge from j -> i\n",
    "        \"\"\"\n",
    "        x_i = x_i + edge_attr\n",
    "        x_j = x_j + edge_attr\n",
    "        x = torch.cat([x_i, x_j], dim=-1)\n",
    "        return self.message_linear(x) + x_i\n",
    "    \n",
    "    def update(self, aggr_out, x):\n",
    "        x_cat = torch.cat([aggr_out, x], dim=-1)\n",
    "        return self.update_linear(x_cat) + x\n",
    "    \n",
    "\n",
    "class LCDLayer(nn.Module):\n",
    "    def __init__(self, in_dim, out_dim, edge_dim):\n",
    "        super(LCDLayer, self).__init__()\n",
    "\n",
    "        self.local = LocalLayer(in_dim, out_dim)\n",
    "        self.convection = ConvectionLayer(in_dim, out_dim, edge_dim)\n",
    "        self.diffusion = DiffusionLayer(in_dim, out_dim)\n",
    "\n",
    "        self.fusion = nn.Sequential(\n",
    "            nn.Linear(3 * out_dim, 3),\n",
    "            nn.Softmax(dim=-1)\n",
    "        )\n",
    "\n",
    "    def forward(self, locs, features, winds_feature, edge_index):\n",
    "        \"\"\"\n",
    "        :param locs: a torch tensor of size (B, N, 2)\n",
    "        :param features: a torch tensor of size (B, N, in_dim)\n",
    "        :param winds_feature: a torch tensor of size (B, N^2, in_dim)\n",
    "        :param edge_index: a torch tensor of size (2, N^2)\n",
    "        \"\"\"\n",
    "        B, N, _ = locs.size()\n",
    "        # preprocess the input data into a batch\n",
    "        batch = self.batch_preprocess(locs, features, winds_feature, edge_index)\n",
    "\n",
    "        # input original feature to nn.Module and batch features to MessagePassing\n",
    "        l_features = self.local(batch.features, batch.edge_index)\n",
    "        c_features, edge_attr = self.convection(batch.features, batch.edge_index, batch.winds_feature)\n",
    "        d_features = self.diffusion(locs, features)\n",
    "\n",
    "        # reverse the batched outputs\n",
    "        l_features = self.reverse_batch_process(l_features, B=B)\n",
    "        c_features, edge_attr = self.reverse_batch_process(c_features, edge_attr, B=B)\n",
    "\n",
    "        # fusion\n",
    "        weights = self.fusion(torch.cat([l_features, c_features, d_features], dim=-1))   # (B, N, 3)\n",
    "        outputs = l_features * weights[:, :, 0].unsqueeze(-1) + c_features * weights[:, :, 1].unsqueeze(-1) + d_features * weights[:, :, 2].unsqueeze(-1)\n",
    "\n",
    "        return outputs, edge_attr\n",
    "\n",
    "\n",
    "    @staticmethod\n",
    "    def batch_preprocess(locs, features, winds_feature, edge_index):\n",
    "        \"\"\"\n",
    "        Preprocess the input data into a single batch\n",
    "        \"\"\"\n",
    "        B, N, _ = locs.size()\n",
    "        graphs = []\n",
    "        for b in range(B):\n",
    "            graph = Data(features=features[b],\n",
    "                         edge_index=edge_index,\n",
    "                         locs=locs[b],\n",
    "                         winds_feature=winds_feature[b],\n",
    "                         num_nodes=N)\n",
    "            graphs.append(graph)\n",
    "        graphs = MyGraphDataset(graphs)\n",
    "        loader = DataLoader(graphs, batch_size=B, shuffle=False)\n",
    "        return next(iter(loader))\n",
    "    \n",
    "    @staticmethod\n",
    "    def reverse_batch_process(features, edge_attr=None, B=32):\n",
    "        \"\"\"\n",
    "        Reverse the batch process\n",
    "        :param features: a torch tensor of size (B*N, out_dim)\n",
    "        :param edge_attr: a torch tensor of size (B*N**2, edge_dim)\n",
    "        \"\"\"\n",
    "        N = features.size(0) // B\n",
    "        features = rearrange(features, '(b n) d -> b n d', b=B)\n",
    "        if edge_attr is not None:\n",
    "            edge_attr = rearrange(edge_attr, '(b m) d -> b m d', b=B)\n",
    "            return features, edge_attr\n",
    "        return features\n",
    "\n",
    "\n",
    "class LCDGCN(nn.Module):\n",
    "    def __init__(self,\n",
    "                 in_dim=1,\n",
    "                 hidden_dim=64,\n",
    "                 out_dim=1,\n",
    "                 num_layers=3,\n",
    "                 edge_dim=3):\n",
    "        super(LCDGCN, self).__init__()\n",
    "\n",
    "        self.in_dim = in_dim\n",
    "        self.hidden_dim = hidden_dim\n",
    "        self.out_dim = out_dim\n",
    "        self.num_layers = num_layers\n",
    "        self.edge_dim = edge_dim\n",
    "\n",
    "        self.layers = nn.ModuleList()\n",
    "        self.layers.append(LCDLayer(in_dim, hidden_dim, edge_dim))\n",
    "        for _ in range(num_layers - 2):\n",
    "            self.layers.append(LCDLayer(hidden_dim, hidden_dim, hidden_dim))\n",
    "        self.layers.append(LCDLayer(hidden_dim, out_dim, hidden_dim))\n",
    "\n",
    "    def forward(self, locs, readings, target_loc, winds_feature, edge_index):\n",
    "        \"\"\"\n",
    "        :param locs: a torch tensor of size (B, N, 2)\n",
    "        :param readings: a torch tensor of size (B, N, in_dim, 2). Here 2 stands for 2 time steps\n",
    "        :param target_loc: a torch tensor of size (B, 2)\n",
    "        :param winds_feature: a torch tensor of size (B, N+1, N+1, edge_dim)\n",
    "        \"\"\"\n",
    "        B, N, D, T = readings.size()\n",
    "        assert N == winds_feature.size(1) - 1, f\"The number of nodes in winds_feature({winds_feature.size(1)}) should be 1 plus that in readings({N})\"\n",
    "\n",
    "        # preprocess edge features\n",
    "        winds_feature = self.preprocess_edge_features(winds_feature)\n",
    "\n",
    "        # concat and mask\n",
    "        lcd_locs = torch.cat([locs, target_loc[:, None, :]], dim=1)   # (B, N+1, 2)\n",
    "        lcd_readings = torch.cat([readings[:, :, :, 1],\n",
    "                                  torch.zeros(B, 1, D).to(readings.device)],\n",
    "                                  dim=1)   # (B, N+1, D)\n",
    "        \n",
    "        # forward pass\n",
    "        for layer in self.layers:\n",
    "            lcd_readings, winds_feature = layer(lcd_locs, lcd_readings, winds_feature, edge_index)\n",
    "        outputs = lcd_readings\n",
    "\n",
    "        return outputs\n",
    "\n",
    "    @staticmethod\n",
    "    def preprocess_edge_features(edge_features):\n",
    "        \"\"\"\n",
    "        Transform edge features from shape (B, N, N, D) to (B, N^2, D)\n",
    "        \"\"\"\n",
    "        assert len(edge_features.size()) == 4\n",
    "        assert edge_features.size(1) == edge_features.size(2)\n",
    "        B, N, _, D = edge_features.size()\n",
    "        edge_features = edge_features.view(B, N * N, D)\n",
    "        return edge_features"
   ]
  },
  {
   "cell_type": "markdown",
   "metadata": {},
   "source": [
    "# Model Training"
   ]
  },
  {
   "cell_type": "code",
   "execution_count": 26,
   "metadata": {},
   "outputs": [],
   "source": [
    "hidden_dim = 256\n",
    "num_layers = 3\n",
    "\n",
    "# set seed for model initialization\n",
    "seedi = 45\n",
    "torch.manual_seed(seedi)\n",
    "model = LCDGCN(in_dim=1,\n",
    "               hidden_dim=hidden_dim,\n",
    "               out_dim=1,\n",
    "               num_layers=num_layers,\n",
    "               edge_dim=3)\n",
    "\n",
    "# set up training\n",
    "criterion = nn.MSELoss()\n",
    "optimizer = torch.optim.Adam(model.parameters(), lr=1e-4)\n",
    "epochs = 100"
   ]
  },
  {
   "cell_type": "code",
   "execution_count": 27,
   "metadata": {},
   "outputs": [
    {
     "name": "stderr",
     "output_type": "stream",
     "text": [
      "100%|██████████| 2562/2562 [38:31<00:00,  1.11it/s] \n"
     ]
    },
    {
     "name": "stdout",
     "output_type": "stream",
     "text": [
      "Epoch 1/100, Training Loss: 84.3499, Validation Loss: 118.2162\n",
      "Save the best model at epoch 1\n"
     ]
    },
    {
     "name": "stderr",
     "output_type": "stream",
     "text": [
      "100%|██████████| 2562/2562 [37:06<00:00,  1.15it/s]\n"
     ]
    },
    {
     "name": "stdout",
     "output_type": "stream",
     "text": [
      "Epoch 2/100, Training Loss: 72.1961, Validation Loss: 133.4166\n"
     ]
    },
    {
     "name": "stderr",
     "output_type": "stream",
     "text": [
      "100%|██████████| 2562/2562 [35:26<00:00,  1.20it/s]\n"
     ]
    },
    {
     "name": "stdout",
     "output_type": "stream",
     "text": [
      "Epoch 3/100, Training Loss: 57.2132, Validation Loss: 92.0953\n",
      "Save the best model at epoch 3\n"
     ]
    },
    {
     "name": "stderr",
     "output_type": "stream",
     "text": [
      "100%|██████████| 2562/2562 [34:24<00:00,  1.24it/s]\n"
     ]
    },
    {
     "name": "stdout",
     "output_type": "stream",
     "text": [
      "Epoch 4/100, Training Loss: 40.4890, Validation Loss: 83.8644\n",
      "Save the best model at epoch 4\n"
     ]
    },
    {
     "name": "stderr",
     "output_type": "stream",
     "text": [
      "100%|██████████| 2562/2562 [39:29<00:00,  1.08it/s] \n"
     ]
    },
    {
     "name": "stdout",
     "output_type": "stream",
     "text": [
      "Epoch 5/100, Training Loss: 30.1686, Validation Loss: 59.8693\n",
      "Save the best model at epoch 5\n"
     ]
    },
    {
     "name": "stderr",
     "output_type": "stream",
     "text": [
      "100%|██████████| 2562/2562 [1:50:56<00:00,  2.60s/it]     \n"
     ]
    },
    {
     "name": "stdout",
     "output_type": "stream",
     "text": [
      "Epoch 6/100, Training Loss: 24.0600, Validation Loss: 89.2014\n"
     ]
    },
    {
     "name": "stderr",
     "output_type": "stream",
     "text": [
      "100%|██████████| 2562/2562 [33:49<00:00,  1.26it/s]\n"
     ]
    },
    {
     "name": "stdout",
     "output_type": "stream",
     "text": [
      "Epoch 7/100, Training Loss: 20.8710, Validation Loss: 35.7950\n",
      "Save the best model at epoch 7\n"
     ]
    },
    {
     "name": "stderr",
     "output_type": "stream",
     "text": [
      "100%|██████████| 2562/2562 [34:07<00:00,  1.25it/s]\n"
     ]
    },
    {
     "name": "stdout",
     "output_type": "stream",
     "text": [
      "Epoch 8/100, Training Loss: 19.6122, Validation Loss: 82.6269\n"
     ]
    },
    {
     "name": "stderr",
     "output_type": "stream",
     "text": [
      "100%|██████████| 2562/2562 [34:25<00:00,  1.24it/s]\n"
     ]
    },
    {
     "name": "stdout",
     "output_type": "stream",
     "text": [
      "Epoch 9/100, Training Loss: 18.8339, Validation Loss: 67.3956\n"
     ]
    },
    {
     "name": "stderr",
     "output_type": "stream",
     "text": [
      "100%|██████████| 2562/2562 [34:23<00:00,  1.24it/s]\n"
     ]
    },
    {
     "name": "stdout",
     "output_type": "stream",
     "text": [
      "Epoch 10/100, Training Loss: 18.2112, Validation Loss: 71.8867\n"
     ]
    },
    {
     "name": "stderr",
     "output_type": "stream",
     "text": [
      "100%|██████████| 2562/2562 [34:12<00:00,  1.25it/s]\n"
     ]
    },
    {
     "name": "stdout",
     "output_type": "stream",
     "text": [
      "Epoch 11/100, Training Loss: 17.6261, Validation Loss: 47.8603\n"
     ]
    },
    {
     "name": "stderr",
     "output_type": "stream",
     "text": [
      "100%|██████████| 2562/2562 [33:44<00:00,  1.27it/s]\n"
     ]
    },
    {
     "name": "stdout",
     "output_type": "stream",
     "text": [
      "Epoch 12/100, Training Loss: 17.0283, Validation Loss: 34.0973\n",
      "Save the best model at epoch 12\n"
     ]
    },
    {
     "name": "stderr",
     "output_type": "stream",
     "text": [
      "100%|██████████| 2562/2562 [34:10<00:00,  1.25it/s]\n"
     ]
    },
    {
     "name": "stdout",
     "output_type": "stream",
     "text": [
      "Epoch 13/100, Training Loss: 16.7674, Validation Loss: 50.7085\n"
     ]
    },
    {
     "name": "stderr",
     "output_type": "stream",
     "text": [
      "100%|██████████| 2562/2562 [34:48<00:00,  1.23it/s]\n"
     ]
    },
    {
     "name": "stdout",
     "output_type": "stream",
     "text": [
      "Epoch 14/100, Training Loss: 16.4371, Validation Loss: 43.8942\n"
     ]
    },
    {
     "name": "stderr",
     "output_type": "stream",
     "text": [
      "100%|██████████| 2562/2562 [34:37<00:00,  1.23it/s]\n"
     ]
    },
    {
     "name": "stdout",
     "output_type": "stream",
     "text": [
      "Epoch 15/100, Training Loss: 16.1615, Validation Loss: 37.9589\n"
     ]
    },
    {
     "name": "stderr",
     "output_type": "stream",
     "text": [
      "100%|██████████| 2562/2562 [34:29<00:00,  1.24it/s]\n"
     ]
    },
    {
     "name": "stdout",
     "output_type": "stream",
     "text": [
      "Epoch 16/100, Training Loss: 15.7449, Validation Loss: 45.7286\n"
     ]
    },
    {
     "name": "stderr",
     "output_type": "stream",
     "text": [
      "100%|██████████| 2562/2562 [34:19<00:00,  1.24it/s]\n"
     ]
    },
    {
     "name": "stdout",
     "output_type": "stream",
     "text": [
      "Epoch 17/100, Training Loss: 15.6610, Validation Loss: 47.9254\n"
     ]
    },
    {
     "name": "stderr",
     "output_type": "stream",
     "text": [
      "100%|██████████| 2562/2562 [34:13<00:00,  1.25it/s]\n"
     ]
    },
    {
     "name": "stdout",
     "output_type": "stream",
     "text": [
      "Epoch 18/100, Training Loss: 15.2748, Validation Loss: 39.9649\n"
     ]
    },
    {
     "name": "stderr",
     "output_type": "stream",
     "text": [
      "100%|██████████| 2562/2562 [34:00<00:00,  1.26it/s]\n"
     ]
    },
    {
     "name": "stdout",
     "output_type": "stream",
     "text": [
      "Epoch 19/100, Training Loss: 15.2563, Validation Loss: 38.1343\n"
     ]
    },
    {
     "name": "stderr",
     "output_type": "stream",
     "text": [
      "100%|██████████| 2562/2562 [33:53<00:00,  1.26it/s]\n"
     ]
    },
    {
     "name": "stdout",
     "output_type": "stream",
     "text": [
      "Epoch 20/100, Training Loss: 14.9470, Validation Loss: 56.6695\n"
     ]
    },
    {
     "name": "stderr",
     "output_type": "stream",
     "text": [
      "100%|██████████| 2562/2562 [34:10<00:00,  1.25it/s]\n"
     ]
    },
    {
     "name": "stdout",
     "output_type": "stream",
     "text": [
      "Epoch 21/100, Training Loss: 14.7973, Validation Loss: 51.4525\n"
     ]
    },
    {
     "name": "stderr",
     "output_type": "stream",
     "text": [
      "100%|██████████| 2562/2562 [34:29<00:00,  1.24it/s]\n"
     ]
    },
    {
     "name": "stdout",
     "output_type": "stream",
     "text": [
      "Epoch 22/100, Training Loss: 14.6412, Validation Loss: 37.8790\n"
     ]
    },
    {
     "name": "stderr",
     "output_type": "stream",
     "text": [
      "100%|██████████| 2562/2562 [34:02<00:00,  1.25it/s]\n"
     ]
    },
    {
     "name": "stdout",
     "output_type": "stream",
     "text": [
      "Epoch 23/100, Training Loss: 14.5304, Validation Loss: 45.0389\n"
     ]
    },
    {
     "name": "stderr",
     "output_type": "stream",
     "text": [
      "100%|██████████| 2562/2562 [34:12<00:00,  1.25it/s]\n"
     ]
    },
    {
     "name": "stdout",
     "output_type": "stream",
     "text": [
      "Epoch 24/100, Training Loss: 14.2392, Validation Loss: 47.7665\n"
     ]
    },
    {
     "name": "stderr",
     "output_type": "stream",
     "text": [
      "100%|██████████| 2562/2562 [34:06<00:00,  1.25it/s]\n"
     ]
    },
    {
     "name": "stdout",
     "output_type": "stream",
     "text": [
      "Epoch 25/100, Training Loss: 14.1232, Validation Loss: 49.5083\n"
     ]
    },
    {
     "name": "stderr",
     "output_type": "stream",
     "text": [
      "100%|██████████| 2562/2562 [34:07<00:00,  1.25it/s]\n"
     ]
    },
    {
     "name": "stdout",
     "output_type": "stream",
     "text": [
      "Epoch 26/100, Training Loss: 14.1156, Validation Loss: 40.0093\n"
     ]
    },
    {
     "name": "stderr",
     "output_type": "stream",
     "text": [
      "100%|██████████| 2562/2562 [1:15:30<00:00,  1.77s/it]  \n"
     ]
    },
    {
     "name": "stdout",
     "output_type": "stream",
     "text": [
      "Epoch 27/100, Training Loss: 13.8735, Validation Loss: 34.6778\n"
     ]
    },
    {
     "name": "stderr",
     "output_type": "stream",
     "text": [
      "100%|██████████| 2562/2562 [35:31<00:00,  1.20it/s]\n"
     ]
    },
    {
     "name": "stdout",
     "output_type": "stream",
     "text": [
      "Epoch 28/100, Training Loss: 13.6924, Validation Loss: 30.8716\n",
      "Save the best model at epoch 28\n"
     ]
    },
    {
     "name": "stderr",
     "output_type": "stream",
     "text": [
      "100%|██████████| 2562/2562 [36:18<00:00,  1.18it/s]\n"
     ]
    },
    {
     "name": "stdout",
     "output_type": "stream",
     "text": [
      "Epoch 29/100, Training Loss: 13.6654, Validation Loss: 46.5630\n"
     ]
    },
    {
     "name": "stderr",
     "output_type": "stream",
     "text": [
      "100%|██████████| 2562/2562 [35:00<00:00,  1.22it/s]\n"
     ]
    },
    {
     "name": "stdout",
     "output_type": "stream",
     "text": [
      "Epoch 30/100, Training Loss: 13.6129, Validation Loss: 39.5386\n"
     ]
    },
    {
     "name": "stderr",
     "output_type": "stream",
     "text": [
      "100%|██████████| 2562/2562 [35:58<00:00,  1.19it/s]\n"
     ]
    },
    {
     "name": "stdout",
     "output_type": "stream",
     "text": [
      "Epoch 31/100, Training Loss: 13.3589, Validation Loss: 43.6015\n"
     ]
    },
    {
     "name": "stderr",
     "output_type": "stream",
     "text": [
      "100%|██████████| 2562/2562 [35:23<00:00,  1.21it/s]\n"
     ]
    },
    {
     "name": "stdout",
     "output_type": "stream",
     "text": [
      "Epoch 32/100, Training Loss: 13.4133, Validation Loss: 40.4149\n"
     ]
    },
    {
     "name": "stderr",
     "output_type": "stream",
     "text": [
      "100%|██████████| 2562/2562 [35:40<00:00,  1.20it/s]\n"
     ]
    },
    {
     "name": "stdout",
     "output_type": "stream",
     "text": [
      "Epoch 33/100, Training Loss: 13.1808, Validation Loss: 38.0693\n"
     ]
    },
    {
     "name": "stderr",
     "output_type": "stream",
     "text": [
      "100%|██████████| 2562/2562 [37:01<00:00,  1.15it/s]\n"
     ]
    },
    {
     "name": "stdout",
     "output_type": "stream",
     "text": [
      "Epoch 34/100, Training Loss: 13.4672, Validation Loss: 43.9062\n"
     ]
    },
    {
     "name": "stderr",
     "output_type": "stream",
     "text": [
      "100%|██████████| 2562/2562 [38:25<00:00,  1.11it/s]\n"
     ]
    },
    {
     "name": "stdout",
     "output_type": "stream",
     "text": [
      "Epoch 35/100, Training Loss: 13.1662, Validation Loss: 42.0393\n"
     ]
    },
    {
     "name": "stderr",
     "output_type": "stream",
     "text": [
      "100%|██████████| 2562/2562 [38:50<00:00,  1.10it/s]\n"
     ]
    },
    {
     "name": "stdout",
     "output_type": "stream",
     "text": [
      "Epoch 36/100, Training Loss: 12.9831, Validation Loss: 50.0595\n"
     ]
    },
    {
     "name": "stderr",
     "output_type": "stream",
     "text": [
      "100%|██████████| 2562/2562 [36:22<00:00,  1.17it/s]\n"
     ]
    },
    {
     "name": "stdout",
     "output_type": "stream",
     "text": [
      "Epoch 37/100, Training Loss: 12.9189, Validation Loss: 32.1560\n"
     ]
    },
    {
     "name": "stderr",
     "output_type": "stream",
     "text": [
      "100%|██████████| 2562/2562 [1:04:05<00:00,  1.50s/it] \n"
     ]
    },
    {
     "name": "stdout",
     "output_type": "stream",
     "text": [
      "Epoch 38/100, Training Loss: 12.8622, Validation Loss: 46.0518\n"
     ]
    },
    {
     "name": "stderr",
     "output_type": "stream",
     "text": [
      "100%|██████████| 2562/2562 [2:45:52<00:00,  3.88s/it]     \n"
     ]
    },
    {
     "name": "stdout",
     "output_type": "stream",
     "text": [
      "Epoch 39/100, Training Loss: 12.7521, Validation Loss: 39.4328\n"
     ]
    },
    {
     "name": "stderr",
     "output_type": "stream",
     "text": [
      "100%|██████████| 2562/2562 [2:37:21<00:00,  3.69s/it]     \n"
     ]
    },
    {
     "name": "stdout",
     "output_type": "stream",
     "text": [
      "Epoch 40/100, Training Loss: 12.7487, Validation Loss: 42.7607\n"
     ]
    },
    {
     "name": "stderr",
     "output_type": "stream",
     "text": [
      "100%|██████████| 2562/2562 [2:04:05<00:00,  2.91s/it]    \n"
     ]
    },
    {
     "name": "stdout",
     "output_type": "stream",
     "text": [
      "Epoch 41/100, Training Loss: 12.6906, Validation Loss: 40.4115\n"
     ]
    },
    {
     "name": "stderr",
     "output_type": "stream",
     "text": [
      "100%|██████████| 2562/2562 [3:02:22<00:00,  4.27s/it]    \n"
     ]
    },
    {
     "name": "stdout",
     "output_type": "stream",
     "text": [
      "Epoch 42/100, Training Loss: 12.5558, Validation Loss: 40.5704\n"
     ]
    },
    {
     "name": "stderr",
     "output_type": "stream",
     "text": [
      "100%|██████████| 2562/2562 [3:05:34<00:00,  4.35s/it]     \n"
     ]
    },
    {
     "name": "stdout",
     "output_type": "stream",
     "text": [
      "Epoch 43/100, Training Loss: 12.4821, Validation Loss: 38.4468\n"
     ]
    },
    {
     "name": "stderr",
     "output_type": "stream",
     "text": [
      "100%|██████████| 2562/2562 [33:01<00:00,  1.29it/s]\n"
     ]
    },
    {
     "name": "stdout",
     "output_type": "stream",
     "text": [
      "Epoch 44/100, Training Loss: 12.5049, Validation Loss: 41.3121\n"
     ]
    },
    {
     "name": "stderr",
     "output_type": "stream",
     "text": [
      "100%|██████████| 2562/2562 [34:01<00:00,  1.25it/s]\n"
     ]
    },
    {
     "name": "stdout",
     "output_type": "stream",
     "text": [
      "Epoch 45/100, Training Loss: 12.4312, Validation Loss: 35.1496\n"
     ]
    },
    {
     "name": "stderr",
     "output_type": "stream",
     "text": [
      "100%|██████████| 2562/2562 [34:34<00:00,  1.23it/s]\n"
     ]
    },
    {
     "name": "stdout",
     "output_type": "stream",
     "text": [
      "Epoch 46/100, Training Loss: 12.2788, Validation Loss: 40.1089\n"
     ]
    },
    {
     "name": "stderr",
     "output_type": "stream",
     "text": [
      "100%|██████████| 2562/2562 [34:33<00:00,  1.24it/s]\n"
     ]
    },
    {
     "name": "stdout",
     "output_type": "stream",
     "text": [
      "Epoch 47/100, Training Loss: 12.1918, Validation Loss: 37.7654\n"
     ]
    },
    {
     "name": "stderr",
     "output_type": "stream",
     "text": [
      "100%|██████████| 2562/2562 [34:01<00:00,  1.26it/s]\n"
     ]
    },
    {
     "name": "stdout",
     "output_type": "stream",
     "text": [
      "Epoch 48/100, Training Loss: 12.2281, Validation Loss: 34.4510\n"
     ]
    },
    {
     "name": "stderr",
     "output_type": "stream",
     "text": [
      "100%|██████████| 2562/2562 [34:55<00:00,  1.22it/s]\n"
     ]
    },
    {
     "name": "stdout",
     "output_type": "stream",
     "text": [
      "Epoch 49/100, Training Loss: 12.1507, Validation Loss: 41.8935\n"
     ]
    },
    {
     "name": "stderr",
     "output_type": "stream",
     "text": [
      "100%|██████████| 2562/2562 [35:00<00:00,  1.22it/s]\n"
     ]
    },
    {
     "name": "stdout",
     "output_type": "stream",
     "text": [
      "Epoch 50/100, Training Loss: 12.0280, Validation Loss: 40.5827\n"
     ]
    },
    {
     "name": "stderr",
     "output_type": "stream",
     "text": [
      "100%|██████████| 2562/2562 [35:19<00:00,  1.21it/s]\n"
     ]
    },
    {
     "name": "stdout",
     "output_type": "stream",
     "text": [
      "Epoch 51/100, Training Loss: 11.9421, Validation Loss: 40.7425\n"
     ]
    },
    {
     "name": "stderr",
     "output_type": "stream",
     "text": [
      "100%|██████████| 2562/2562 [35:24<00:00,  1.21it/s]\n"
     ]
    },
    {
     "name": "stdout",
     "output_type": "stream",
     "text": [
      "Epoch 52/100, Training Loss: 11.9439, Validation Loss: 35.4958\n"
     ]
    },
    {
     "name": "stderr",
     "output_type": "stream",
     "text": [
      "100%|██████████| 2562/2562 [35:40<00:00,  1.20it/s]\n"
     ]
    },
    {
     "name": "stdout",
     "output_type": "stream",
     "text": [
      "Epoch 53/100, Training Loss: 11.9891, Validation Loss: 38.5287\n"
     ]
    },
    {
     "name": "stderr",
     "output_type": "stream",
     "text": [
      "100%|██████████| 2562/2562 [35:59<00:00,  1.19it/s]\n"
     ]
    },
    {
     "name": "stdout",
     "output_type": "stream",
     "text": [
      "Epoch 54/100, Training Loss: 11.8715, Validation Loss: 34.1053\n"
     ]
    },
    {
     "name": "stderr",
     "output_type": "stream",
     "text": [
      "100%|██████████| 2562/2562 [7:44:50<00:00, 10.89s/it]     \n"
     ]
    },
    {
     "name": "stdout",
     "output_type": "stream",
     "text": [
      "Epoch 55/100, Training Loss: 11.8793, Validation Loss: 40.1893\n"
     ]
    },
    {
     "name": "stderr",
     "output_type": "stream",
     "text": [
      "100%|██████████| 2562/2562 [32:40<00:00,  1.31it/s]\n"
     ]
    },
    {
     "name": "stdout",
     "output_type": "stream",
     "text": [
      "Epoch 56/100, Training Loss: 11.7221, Validation Loss: 41.0052\n"
     ]
    },
    {
     "name": "stderr",
     "output_type": "stream",
     "text": [
      "100%|██████████| 2562/2562 [33:06<00:00,  1.29it/s]\n"
     ]
    },
    {
     "name": "stdout",
     "output_type": "stream",
     "text": [
      "Epoch 57/100, Training Loss: 11.7074, Validation Loss: 33.6951\n"
     ]
    },
    {
     "name": "stderr",
     "output_type": "stream",
     "text": [
      "100%|██████████| 2562/2562 [32:26<00:00,  1.32it/s]\n"
     ]
    },
    {
     "name": "stdout",
     "output_type": "stream",
     "text": [
      "Epoch 58/100, Training Loss: 11.5768, Validation Loss: 35.2859\n"
     ]
    },
    {
     "name": "stderr",
     "output_type": "stream",
     "text": [
      "100%|██████████| 2562/2562 [37:06<00:00,  1.15it/s]\n"
     ]
    },
    {
     "name": "stdout",
     "output_type": "stream",
     "text": [
      "Epoch 59/100, Training Loss: 11.5906, Validation Loss: 36.2005\n"
     ]
    },
    {
     "name": "stderr",
     "output_type": "stream",
     "text": [
      "100%|██████████| 2562/2562 [44:51<00:00,  1.05s/it] \n"
     ]
    },
    {
     "name": "stdout",
     "output_type": "stream",
     "text": [
      "Epoch 60/100, Training Loss: 11.5780, Validation Loss: 34.9215\n"
     ]
    },
    {
     "name": "stderr",
     "output_type": "stream",
     "text": [
      "100%|██████████| 2562/2562 [36:05<00:00,  1.18it/s]\n"
     ]
    },
    {
     "name": "stdout",
     "output_type": "stream",
     "text": [
      "Epoch 61/100, Training Loss: 11.5360, Validation Loss: 45.1561\n"
     ]
    },
    {
     "name": "stderr",
     "output_type": "stream",
     "text": [
      "100%|██████████| 2562/2562 [35:14<00:00,  1.21it/s]\n"
     ]
    },
    {
     "name": "stdout",
     "output_type": "stream",
     "text": [
      "Epoch 62/100, Training Loss: 11.4430, Validation Loss: 43.4283\n"
     ]
    },
    {
     "name": "stderr",
     "output_type": "stream",
     "text": [
      "100%|██████████| 2562/2562 [34:56<00:00,  1.22it/s]\n"
     ]
    },
    {
     "name": "stdout",
     "output_type": "stream",
     "text": [
      "Epoch 63/100, Training Loss: 11.3548, Validation Loss: 38.4152\n"
     ]
    },
    {
     "name": "stderr",
     "output_type": "stream",
     "text": [
      "100%|██████████| 2562/2562 [34:48<00:00,  1.23it/s]\n"
     ]
    },
    {
     "name": "stdout",
     "output_type": "stream",
     "text": [
      "Epoch 64/100, Training Loss: 11.3924, Validation Loss: 27.6226\n",
      "Save the best model at epoch 64\n"
     ]
    },
    {
     "name": "stderr",
     "output_type": "stream",
     "text": [
      "100%|██████████| 2562/2562 [34:43<00:00,  1.23it/s]\n"
     ]
    },
    {
     "name": "stdout",
     "output_type": "stream",
     "text": [
      "Epoch 65/100, Training Loss: 11.4316, Validation Loss: 46.5950\n"
     ]
    },
    {
     "name": "stderr",
     "output_type": "stream",
     "text": [
      "100%|██████████| 2562/2562 [34:33<00:00,  1.24it/s]\n"
     ]
    },
    {
     "name": "stdout",
     "output_type": "stream",
     "text": [
      "Epoch 66/100, Training Loss: 11.1835, Validation Loss: 34.0721\n"
     ]
    },
    {
     "name": "stderr",
     "output_type": "stream",
     "text": [
      "100%|██████████| 2562/2562 [34:23<00:00,  1.24it/s]\n"
     ]
    },
    {
     "name": "stdout",
     "output_type": "stream",
     "text": [
      "Epoch 67/100, Training Loss: 11.2409, Validation Loss: 44.9724\n"
     ]
    },
    {
     "name": "stderr",
     "output_type": "stream",
     "text": [
      "100%|██████████| 2562/2562 [34:12<00:00,  1.25it/s]\n"
     ]
    },
    {
     "name": "stdout",
     "output_type": "stream",
     "text": [
      "Epoch 68/100, Training Loss: 11.1634, Validation Loss: 34.1908\n"
     ]
    },
    {
     "name": "stderr",
     "output_type": "stream",
     "text": [
      "100%|██████████| 2562/2562 [34:04<00:00,  1.25it/s]\n"
     ]
    },
    {
     "name": "stdout",
     "output_type": "stream",
     "text": [
      "Epoch 69/100, Training Loss: 11.1623, Validation Loss: 42.0777\n"
     ]
    },
    {
     "name": "stderr",
     "output_type": "stream",
     "text": [
      "100%|██████████| 2562/2562 [33:50<00:00,  1.26it/s]\n"
     ]
    },
    {
     "name": "stdout",
     "output_type": "stream",
     "text": [
      "Epoch 70/100, Training Loss: 11.1093, Validation Loss: 36.7891\n"
     ]
    },
    {
     "name": "stderr",
     "output_type": "stream",
     "text": [
      "100%|██████████| 2562/2562 [33:45<00:00,  1.26it/s]\n"
     ]
    },
    {
     "name": "stdout",
     "output_type": "stream",
     "text": [
      "Epoch 71/100, Training Loss: 10.9420, Validation Loss: 37.0275\n"
     ]
    },
    {
     "name": "stderr",
     "output_type": "stream",
     "text": [
      "100%|██████████| 2562/2562 [33:37<00:00,  1.27it/s]\n"
     ]
    },
    {
     "name": "stdout",
     "output_type": "stream",
     "text": [
      "Epoch 72/100, Training Loss: 11.0140, Validation Loss: 35.8603\n"
     ]
    },
    {
     "name": "stderr",
     "output_type": "stream",
     "text": [
      "100%|██████████| 2562/2562 [33:48<00:00,  1.26it/s]\n"
     ]
    },
    {
     "name": "stdout",
     "output_type": "stream",
     "text": [
      "Epoch 73/100, Training Loss: 10.9956, Validation Loss: 35.3214\n"
     ]
    },
    {
     "name": "stderr",
     "output_type": "stream",
     "text": [
      "100%|██████████| 2562/2562 [33:45<00:00,  1.27it/s]\n"
     ]
    },
    {
     "name": "stdout",
     "output_type": "stream",
     "text": [
      "Epoch 74/100, Training Loss: 10.9667, Validation Loss: 35.6557\n"
     ]
    },
    {
     "name": "stderr",
     "output_type": "stream",
     "text": [
      "100%|██████████| 2562/2562 [33:41<00:00,  1.27it/s]\n"
     ]
    },
    {
     "name": "stdout",
     "output_type": "stream",
     "text": [
      "Epoch 75/100, Training Loss: 10.8370, Validation Loss: 31.7134\n"
     ]
    },
    {
     "name": "stderr",
     "output_type": "stream",
     "text": [
      "100%|██████████| 2562/2562 [34:10<00:00,  1.25it/s]\n"
     ]
    },
    {
     "name": "stdout",
     "output_type": "stream",
     "text": [
      "Epoch 76/100, Training Loss: 10.7959, Validation Loss: 33.3634\n"
     ]
    },
    {
     "name": "stderr",
     "output_type": "stream",
     "text": [
      "100%|██████████| 2562/2562 [34:27<00:00,  1.24it/s]\n"
     ]
    },
    {
     "name": "stdout",
     "output_type": "stream",
     "text": [
      "Epoch 77/100, Training Loss: 10.8310, Validation Loss: 44.4679\n"
     ]
    },
    {
     "name": "stderr",
     "output_type": "stream",
     "text": [
      "100%|██████████| 2562/2562 [34:57<00:00,  1.22it/s]\n"
     ]
    },
    {
     "name": "stdout",
     "output_type": "stream",
     "text": [
      "Epoch 78/100, Training Loss: 10.6609, Validation Loss: 36.8477\n"
     ]
    },
    {
     "name": "stderr",
     "output_type": "stream",
     "text": [
      "100%|██████████| 2562/2562 [34:59<00:00,  1.22it/s]\n"
     ]
    },
    {
     "name": "stdout",
     "output_type": "stream",
     "text": [
      "Epoch 79/100, Training Loss: 10.6336, Validation Loss: 39.0540\n"
     ]
    },
    {
     "name": "stderr",
     "output_type": "stream",
     "text": [
      "100%|██████████| 2562/2562 [35:16<00:00,  1.21it/s]\n"
     ]
    },
    {
     "name": "stdout",
     "output_type": "stream",
     "text": [
      "Epoch 80/100, Training Loss: 10.6979, Validation Loss: 30.9144\n"
     ]
    },
    {
     "name": "stderr",
     "output_type": "stream",
     "text": [
      "100%|██████████| 2562/2562 [35:31<00:00,  1.20it/s]\n"
     ]
    },
    {
     "name": "stdout",
     "output_type": "stream",
     "text": [
      "Epoch 81/100, Training Loss: 10.5094, Validation Loss: 38.1976\n"
     ]
    },
    {
     "name": "stderr",
     "output_type": "stream",
     "text": [
      "100%|██████████| 2562/2562 [35:58<00:00,  1.19it/s]\n"
     ]
    },
    {
     "name": "stdout",
     "output_type": "stream",
     "text": [
      "Epoch 82/100, Training Loss: 10.6187, Validation Loss: 37.1008\n"
     ]
    },
    {
     "name": "stderr",
     "output_type": "stream",
     "text": [
      "100%|██████████| 2562/2562 [36:22<00:00,  1.17it/s]\n"
     ]
    },
    {
     "name": "stdout",
     "output_type": "stream",
     "text": [
      "Epoch 83/100, Training Loss: 10.5748, Validation Loss: 28.3630\n"
     ]
    },
    {
     "name": "stderr",
     "output_type": "stream",
     "text": [
      "100%|██████████| 2562/2562 [36:43<00:00,  1.16it/s]\n"
     ]
    },
    {
     "name": "stdout",
     "output_type": "stream",
     "text": [
      "Epoch 84/100, Training Loss: 10.4619, Validation Loss: 38.0519\n"
     ]
    },
    {
     "name": "stderr",
     "output_type": "stream",
     "text": [
      "100%|██████████| 2562/2562 [36:35<00:00,  1.17it/s]\n"
     ]
    },
    {
     "name": "stdout",
     "output_type": "stream",
     "text": [
      "Epoch 85/100, Training Loss: 10.4856, Validation Loss: 28.7691\n"
     ]
    },
    {
     "name": "stderr",
     "output_type": "stream",
     "text": [
      "100%|██████████| 2562/2562 [35:55<00:00,  1.19it/s]\n"
     ]
    },
    {
     "name": "stdout",
     "output_type": "stream",
     "text": [
      "Epoch 86/100, Training Loss: 10.4046, Validation Loss: 36.5708\n"
     ]
    },
    {
     "name": "stderr",
     "output_type": "stream",
     "text": [
      "100%|██████████| 2562/2562 [35:48<00:00,  1.19it/s]\n"
     ]
    },
    {
     "name": "stdout",
     "output_type": "stream",
     "text": [
      "Epoch 87/100, Training Loss: 10.3606, Validation Loss: 32.9915\n"
     ]
    },
    {
     "name": "stderr",
     "output_type": "stream",
     "text": [
      "100%|██████████| 2562/2562 [35:44<00:00,  1.19it/s]\n"
     ]
    },
    {
     "name": "stdout",
     "output_type": "stream",
     "text": [
      "Epoch 88/100, Training Loss: 10.3565, Validation Loss: 37.2388\n"
     ]
    },
    {
     "name": "stderr",
     "output_type": "stream",
     "text": [
      "100%|██████████| 2562/2562 [35:44<00:00,  1.19it/s]\n"
     ]
    },
    {
     "name": "stdout",
     "output_type": "stream",
     "text": [
      "Epoch 89/100, Training Loss: 10.3616, Validation Loss: 36.2984\n"
     ]
    },
    {
     "name": "stderr",
     "output_type": "stream",
     "text": [
      "100%|██████████| 2562/2562 [35:28<00:00,  1.20it/s]\n"
     ]
    },
    {
     "name": "stdout",
     "output_type": "stream",
     "text": [
      "Epoch 90/100, Training Loss: 10.2488, Validation Loss: 29.4794\n"
     ]
    },
    {
     "name": "stderr",
     "output_type": "stream",
     "text": [
      "100%|██████████| 2562/2562 [35:42<00:00,  1.20it/s]\n"
     ]
    },
    {
     "name": "stdout",
     "output_type": "stream",
     "text": [
      "Epoch 91/100, Training Loss: 10.1865, Validation Loss: 30.0110\n"
     ]
    },
    {
     "name": "stderr",
     "output_type": "stream",
     "text": [
      "100%|██████████| 2562/2562 [35:54<00:00,  1.19it/s]\n"
     ]
    },
    {
     "name": "stdout",
     "output_type": "stream",
     "text": [
      "Epoch 92/100, Training Loss: 10.1977, Validation Loss: 39.1411\n"
     ]
    },
    {
     "name": "stderr",
     "output_type": "stream",
     "text": [
      "100%|██████████| 2562/2562 [36:07<00:00,  1.18it/s]\n"
     ]
    },
    {
     "name": "stdout",
     "output_type": "stream",
     "text": [
      "Epoch 93/100, Training Loss: 10.1227, Validation Loss: 30.9168\n"
     ]
    },
    {
     "name": "stderr",
     "output_type": "stream",
     "text": [
      "100%|██████████| 2562/2562 [36:57<00:00,  1.16it/s]\n"
     ]
    },
    {
     "name": "stdout",
     "output_type": "stream",
     "text": [
      "Epoch 94/100, Training Loss: 10.1736, Validation Loss: 33.3626\n"
     ]
    },
    {
     "name": "stderr",
     "output_type": "stream",
     "text": [
      "100%|██████████| 2562/2562 [35:36<00:00,  1.20it/s]\n"
     ]
    },
    {
     "name": "stdout",
     "output_type": "stream",
     "text": [
      "Epoch 95/100, Training Loss: 10.0331, Validation Loss: 35.9251\n"
     ]
    },
    {
     "name": "stderr",
     "output_type": "stream",
     "text": [
      "100%|██████████| 2562/2562 [35:45<00:00,  1.19it/s]\n"
     ]
    },
    {
     "name": "stdout",
     "output_type": "stream",
     "text": [
      "Epoch 96/100, Training Loss: 9.8845, Validation Loss: 33.3112\n"
     ]
    },
    {
     "name": "stderr",
     "output_type": "stream",
     "text": [
      "100%|██████████| 2562/2562 [35:49<00:00,  1.19it/s]\n"
     ]
    },
    {
     "name": "stdout",
     "output_type": "stream",
     "text": [
      "Epoch 97/100, Training Loss: 9.9549, Validation Loss: 39.6084\n"
     ]
    },
    {
     "name": "stderr",
     "output_type": "stream",
     "text": [
      "100%|██████████| 2562/2562 [35:46<00:00,  1.19it/s]\n"
     ]
    },
    {
     "name": "stdout",
     "output_type": "stream",
     "text": [
      "Epoch 98/100, Training Loss: 9.9182, Validation Loss: 37.2306\n"
     ]
    },
    {
     "name": "stderr",
     "output_type": "stream",
     "text": [
      "100%|██████████| 2562/2562 [35:11<00:00,  1.21it/s]\n"
     ]
    },
    {
     "name": "stdout",
     "output_type": "stream",
     "text": [
      "Epoch 99/100, Training Loss: 9.9461, Validation Loss: 35.8994\n"
     ]
    },
    {
     "name": "stderr",
     "output_type": "stream",
     "text": [
      "100%|██████████| 2562/2562 [34:54<00:00,  1.22it/s]\n"
     ]
    },
    {
     "name": "stdout",
     "output_type": "stream",
     "text": [
      "Epoch 100/100, Training Loss: 9.7846, Validation Loss: 38.7947\n"
     ]
    }
   ],
   "source": [
    "# set seed for training\n",
    "seedt = 45\n",
    "torch.manual_seed(seedt)\n",
    "\n",
    "# set weight path\n",
    "save_path = f\"./weights/LCDGCN_h{hidden_dim}_l{num_layers}_si{seedi}_st{seedt}.pth\"\n",
    "\n",
    "# training\n",
    "best_val = 1e10\n",
    "for epoch in range(epochs):\n",
    "    model.train()\n",
    "    losses = []\n",
    "    for batch in tqdm(train_loader):\n",
    "        locs, readings, target_loc, target_reading, winds_feature = batch\n",
    "        readings_input = readings[..., None].permute(0, 2, 3, 1)   # (B, N, 1, 2)\n",
    "        winds_feature_input = winds_feature[:, :, :, 0, :]   # (B, N+1, N+1, 3)\n",
    "        pred_target = torch.cat([readings.permute(0, 2, 1)[:, :, 1:],\n",
    "                                 target_reading[:, 1:].unsqueeze(1)],\n",
    "                                 dim=1)   # (B, N+1, 1)\n",
    "        edge_index = get_edge_index(pred_target.size(1))\n",
    "\n",
    "        # forward\n",
    "        optimizer.zero_grad()\n",
    "        pred = model(locs, readings_input, target_loc, winds_feature_input, edge_index)\n",
    "\n",
    "        # loss\n",
    "        loss = criterion(pred[:, -1], pred_target[:, -1])\n",
    "        losses.append(loss.item())\n",
    "\n",
    "        # backward\n",
    "        loss.backward()\n",
    "        optimizer.step()\n",
    "\n",
    "    # validation\n",
    "    val_losses = []\n",
    "    with torch.no_grad():\n",
    "        model.eval()\n",
    "        for batch in val_loader:\n",
    "            locs, readings, target_loc, target_reading, winds_feature = batch\n",
    "            readings_input = readings[..., None].permute(0, 2, 3, 1)\n",
    "            winds_feature_input = winds_feature[:, :, :, 0, :]\n",
    "            pred_target = torch.cat([readings.permute(0, 2, 1)[:, :, 1:],\n",
    "                                     target_reading[:, 1:].unsqueeze(1)],\n",
    "                                     dim=1)\n",
    "            edge_index = get_edge_index(pred_target.size(1))\n",
    "\n",
    "            # forward\n",
    "            pred = model(locs, readings_input, target_loc, winds_feature_input, edge_index)\n",
    "\n",
    "            # loss\n",
    "            loss = criterion(pred[:, -1], pred_target[:, -1])\n",
    "            val_losses.append(loss.item())\n",
    "        \n",
    "        # print training and validation losses\n",
    "        print(f\"Epoch {epoch+1}/{epochs}, Training Loss: {np.mean(losses):.4f}, Validation Loss: {np.mean(val_losses):.4f}\")\n",
    "\n",
    "        # save the best model\n",
    "        if np.mean(val_losses) < best_val:\n",
    "            best_val = np.mean(val_losses)\n",
    "            torch.save(model.state_dict(), save_path)\n",
    "            print(f\"Save the best model at epoch {epoch+1}\")"
   ]
  },
  {
   "cell_type": "code",
   "execution_count": null,
   "metadata": {},
   "outputs": [],
   "source": []
  }
 ],
 "metadata": {
  "kernelspec": {
   "display_name": "env_ai",
   "language": "python",
   "name": "python3"
  },
  "language_info": {
   "codemirror_mode": {
    "name": "ipython",
    "version": 3
   },
   "file_extension": ".py",
   "mimetype": "text/x-python",
   "name": "python",
   "nbconvert_exporter": "python",
   "pygments_lexer": "ipython3",
   "version": "3.8.undefined"
  }
 },
 "nbformat": 4,
 "nbformat_minor": 2
}
